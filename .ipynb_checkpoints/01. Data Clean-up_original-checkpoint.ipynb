{
 "cells": [
  {
   "cell_type": "code",
   "execution_count": 2,
   "metadata": {
    "ExecuteTime": {
     "end_time": "2018-08-30T01:28:15.407445Z",
     "start_time": "2018-08-30T01:28:13.407816Z"
    }
   },
   "outputs": [],
   "source": [
    "import pandas as pd\n",
    "import numpy as np\n",
    "import csv\n",
    "import sqlite3\n",
    "import re\n",
    "import pickle\n",
    "\n",
    "from sklearn.datasets import load_wine\n",
    "from sklearn.tree import DecisionTreeClassifier\n",
    "from sklearn.ensemble import RandomForestClassifier, BaggingClassifier\n",
    "from sklearn.model_selection import train_test_split\n",
    "\n",
    "from sklearn.linear_model import LogisticRegression, SGDClassifier\n",
    "from sklearn.svm import SVC\n",
    "from sklearn.metrics import roc_curve, auc\n",
    "\n",
    "from sklearn.metrics import accuracy_score\n",
    "\n",
    "import matplotlib.pyplot as plt\n",
    "%matplotlib inline"
   ]
  },
  {
   "cell_type": "code",
   "execution_count": 5,
   "metadata": {
    "ExecuteTime": {
     "end_time": "2018-08-30T01:29:32.921248Z",
     "start_time": "2018-08-30T01:29:13.488386Z"
    }
   },
   "outputs": [
    {
     "name": "stderr",
     "output_type": "stream",
     "text": [
      "/Users/xzhou/anaconda3/lib/python3.6/site-packages/IPython/core/interactiveshell.py:2785: DtypeWarning: Columns (19,55) have mixed types. Specify dtype option on import or set low_memory=False.\n",
      "  interactivity=interactivity, compiler=compiler, result=result)\n"
     ]
    }
   ],
   "source": [
    "filename_csv = '/Users/xzhou/github/project_archives/files_lending_club/loan.csv'\n",
    "date_to_parse = ['issue_d' , 'last_pymnt_d', 'next_pymnt_d', 'last_credit_pull_d', 'earliest_cr_line']\n",
    "\n",
    "df=pd.read_csv(filename_csv, date_parser=date_to_parse)"
   ]
  },
  {
   "cell_type": "code",
   "execution_count": 6,
   "metadata": {
    "ExecuteTime": {
     "end_time": "2018-08-30T01:29:34.142396Z",
     "start_time": "2018-08-30T01:29:34.134908Z"
    }
   },
   "outputs": [
    {
     "data": {
      "text/plain": [
       "(887379, 74)"
      ]
     },
     "execution_count": 6,
     "metadata": {},
     "output_type": "execute_result"
    }
   ],
   "source": [
    "df.shape"
   ]
  },
  {
   "cell_type": "code",
   "execution_count": 7,
   "metadata": {
    "ExecuteTime": {
     "end_time": "2018-08-30T01:29:35.821398Z",
     "start_time": "2018-08-30T01:29:35.813880Z"
    }
   },
   "outputs": [
    {
     "data": {
      "text/plain": [
       "Index(['id', 'member_id', 'loan_amnt', 'funded_amnt', 'funded_amnt_inv',\n",
       "       'term', 'int_rate', 'installment', 'grade', 'sub_grade', 'emp_title',\n",
       "       'emp_length', 'home_ownership', 'annual_inc', 'verification_status',\n",
       "       'issue_d', 'loan_status', 'pymnt_plan', 'url', 'desc', 'purpose',\n",
       "       'title', 'zip_code', 'addr_state', 'dti', 'delinq_2yrs',\n",
       "       'earliest_cr_line', 'inq_last_6mths', 'mths_since_last_delinq',\n",
       "       'mths_since_last_record', 'open_acc', 'pub_rec', 'revol_bal',\n",
       "       'revol_util', 'total_acc', 'initial_list_status', 'out_prncp',\n",
       "       'out_prncp_inv', 'total_pymnt', 'total_pymnt_inv', 'total_rec_prncp',\n",
       "       'total_rec_int', 'total_rec_late_fee', 'recoveries',\n",
       "       'collection_recovery_fee', 'last_pymnt_d', 'last_pymnt_amnt',\n",
       "       'next_pymnt_d', 'last_credit_pull_d', 'collections_12_mths_ex_med',\n",
       "       'mths_since_last_major_derog', 'policy_code', 'application_type',\n",
       "       'annual_inc_joint', 'dti_joint', 'verification_status_joint',\n",
       "       'acc_now_delinq', 'tot_coll_amt', 'tot_cur_bal', 'open_acc_6m',\n",
       "       'open_il_6m', 'open_il_12m', 'open_il_24m', 'mths_since_rcnt_il',\n",
       "       'total_bal_il', 'il_util', 'open_rv_12m', 'open_rv_24m', 'max_bal_bc',\n",
       "       'all_util', 'total_rev_hi_lim', 'inq_fi', 'total_cu_tl',\n",
       "       'inq_last_12m'],\n",
       "      dtype='object')"
      ]
     },
     "execution_count": 7,
     "metadata": {},
     "output_type": "execute_result"
    }
   ],
   "source": [
    "df.columns"
   ]
  },
  {
   "cell_type": "code",
   "execution_count": 5,
   "metadata": {
    "ExecuteTime": {
     "end_time": "2018-08-08T09:34:41.206442Z",
     "start_time": "2018-08-08T09:34:41.196103Z"
    }
   },
   "outputs": [],
   "source": [
    "filter = ['loan_amnt', 'term', 'int_rate', 'installment', 'grade', \n",
    "          'emp_length', 'home_ownership', 'annual_inc', 'loan_status', \n",
    "          'purpose', 'dti', 'delinq_2yrs', 'earliest_cr_line', \n",
    "          'inq_last_6mths', 'mths_since_last_delinq', \n",
    "          'mths_since_last_record', 'open_acc', 'pub_rec', 'revol_bal', \n",
    "          'revol_util', 'application_type', 'collections_12_mths_ex_med', \n",
    "          'mths_since_last_major_derog', 'policy_code', 'annual_inc_joint', \n",
    "          'dti_joint', 'acc_now_delinq', 'tot_coll_amt', 'tot_cur_bal', \n",
    "          'open_acc_6m', 'open_il_6m', 'open_il_12m', 'open_il_24m', \n",
    "          'mths_since_rcnt_il', 'total_bal_il', 'il_util', 'open_rv_12m', \n",
    "          'open_rv_24m', 'max_bal_bc', 'all_util', 'total_rev_hi_lim', \n",
    "          'inq_fi', 'total_cu_tl','inq_last_12m']"
   ]
  },
  {
   "cell_type": "code",
   "execution_count": 6,
   "metadata": {
    "ExecuteTime": {
     "end_time": "2018-08-08T09:34:42.628578Z",
     "start_time": "2018-08-08T09:34:42.397224Z"
    }
   },
   "outputs": [],
   "source": [
    "df_smaller = df.filter(items=filter)"
   ]
  },
  {
   "cell_type": "code",
   "execution_count": 7,
   "metadata": {
    "ExecuteTime": {
     "end_time": "2018-08-08T09:34:45.422519Z",
     "start_time": "2018-08-08T09:34:45.414217Z"
    }
   },
   "outputs": [
    {
     "data": {
      "text/plain": [
       "Index(['loan_amnt', 'term', 'int_rate', 'installment', 'grade', 'emp_length',\n",
       "       'home_ownership', 'annual_inc', 'loan_status', 'purpose', 'dti',\n",
       "       'delinq_2yrs', 'earliest_cr_line', 'inq_last_6mths',\n",
       "       'mths_since_last_delinq', 'mths_since_last_record', 'open_acc',\n",
       "       'pub_rec', 'revol_bal', 'revol_util', 'application_type',\n",
       "       'collections_12_mths_ex_med', 'mths_since_last_major_derog',\n",
       "       'policy_code', 'annual_inc_joint', 'dti_joint', 'acc_now_delinq',\n",
       "       'tot_coll_amt', 'tot_cur_bal', 'open_acc_6m', 'open_il_6m',\n",
       "       'open_il_12m', 'open_il_24m', 'mths_since_rcnt_il', 'total_bal_il',\n",
       "       'il_util', 'open_rv_12m', 'open_rv_24m', 'max_bal_bc', 'all_util',\n",
       "       'total_rev_hi_lim', 'inq_fi', 'total_cu_tl', 'inq_last_12m'],\n",
       "      dtype='object')"
      ]
     },
     "execution_count": 7,
     "metadata": {},
     "output_type": "execute_result"
    }
   ],
   "source": [
    "df_smaller.columns"
   ]
  },
  {
   "cell_type": "code",
   "execution_count": 1,
   "metadata": {
    "ExecuteTime": {
     "end_time": "2018-08-30T01:28:03.793919Z",
     "start_time": "2018-08-30T01:28:03.676308Z"
    }
   },
   "outputs": [
    {
     "ename": "NameError",
     "evalue": "name 'df_clean' is not defined",
     "output_type": "error",
     "traceback": [
      "\u001b[0;31m---------------------------------------------------------------------------\u001b[0m",
      "\u001b[0;31mNameError\u001b[0m                                 Traceback (most recent call last)",
      "\u001b[0;32m<ipython-input-1-555450a9ec18>\u001b[0m in \u001b[0;36m<module>\u001b[0;34m()\u001b[0m\n\u001b[0;32m----> 1\u001b[0;31m \u001b[0mdf_clean\u001b[0m\u001b[0;34m.\u001b[0m\u001b[0misnull\u001b[0m\u001b[0;34m(\u001b[0m\u001b[0;34m)\u001b[0m\u001b[0;34m.\u001b[0m\u001b[0msum\u001b[0m\u001b[0;34m(\u001b[0m\u001b[0;34m)\u001b[0m\u001b[0;34m\u001b[0m\u001b[0m\n\u001b[0m",
      "\u001b[0;31mNameError\u001b[0m: name 'df_clean' is not defined"
     ]
    }
   ],
   "source": [
    "df_clean.isnull().sum()"
   ]
  },
  {
   "cell_type": "code",
   "execution_count": 9,
   "metadata": {
    "ExecuteTime": {
     "end_time": "2018-08-08T09:34:51.534517Z",
     "start_time": "2018-08-08T09:34:51.359331Z"
    }
   },
   "outputs": [],
   "source": [
    "# Drop the filds have 90%+ null values, \n",
    "# as filling in the nulls can skew the model\n",
    "\n",
    "columns_to_drop = [\n",
    "    'annual_inc_joint', 'dti_joint',  'open_acc_6m', 'open_il_6m',\n",
    "    'open_il_12m', 'open_il_24m', 'mths_since_rcnt_il', 'total_bal_il',\n",
    "    'il_util', 'open_rv_12m', 'open_rv_24m', 'max_bal_bc', 'all_util',\n",
    "    'inq_fi', 'total_cu_tl', 'inq_last_12m'\n",
    "]\n",
    "\n",
    "df_smaller.drop(columns_to_drop, axis=1, inplace=True)"
   ]
  },
  {
   "cell_type": "code",
   "execution_count": 10,
   "metadata": {
    "ExecuteTime": {
     "end_time": "2018-08-08T09:34:55.366409Z",
     "start_time": "2018-08-08T09:34:54.625272Z"
    }
   },
   "outputs": [],
   "source": [
    "df_smaller.rename(index=str, \n",
    "                  columns={\"dti\": \"payment_to_income_ratio_individual\"}, \n",
    "                  inplace=True)"
   ]
  },
  {
   "cell_type": "code",
   "execution_count": 14,
   "metadata": {
    "ExecuteTime": {
     "end_time": "2018-08-08T09:35:07.371710Z",
     "start_time": "2018-08-08T09:35:07.157512Z"
    }
   },
   "outputs": [],
   "source": [
    "df_clean = df_smaller.copy()"
   ]
  },
  {
   "cell_type": "code",
   "execution_count": 15,
   "metadata": {
    "ExecuteTime": {
     "end_time": "2018-08-08T09:35:12.100366Z",
     "start_time": "2018-08-08T09:35:11.429057Z"
    }
   },
   "outputs": [
    {
     "data": {
      "text/plain": [
       "loan_amnt                                  0\n",
       "term                                       0\n",
       "int_rate                                   0\n",
       "installment                                0\n",
       "grade                                      0\n",
       "emp_length                             44825\n",
       "home_ownership                             0\n",
       "annual_inc                                 4\n",
       "loan_status                                0\n",
       "purpose                                    0\n",
       "payment_to_income_ratio_individual         0\n",
       "delinq_2yrs                               29\n",
       "earliest_cr_line                          29\n",
       "inq_last_6mths                            29\n",
       "mths_since_last_delinq                454312\n",
       "mths_since_last_record                750326\n",
       "open_acc                                  29\n",
       "pub_rec                                   29\n",
       "revol_bal                                  0\n",
       "revol_util                               502\n",
       "application_type                           0\n",
       "collections_12_mths_ex_med               145\n",
       "mths_since_last_major_derog           665676\n",
       "policy_code                                0\n",
       "acc_now_delinq                            29\n",
       "tot_coll_amt                           70276\n",
       "tot_cur_bal                            70276\n",
       "total_rev_hi_lim                       70276\n",
       "dtype: int64"
      ]
     },
     "execution_count": 15,
     "metadata": {},
     "output_type": "execute_result"
    }
   ],
   "source": [
    "df_clean.isnull().sum()"
   ]
  },
  {
   "cell_type": "code",
   "execution_count": 17,
   "metadata": {
    "ExecuteTime": {
     "end_time": "2018-08-08T09:35:21.490086Z",
     "start_time": "2018-08-08T09:35:21.485578Z"
    }
   },
   "outputs": [],
   "source": [
    "excluded = {'Issued', 'Does not meet the credit policy. Status:Charged Off',\n",
    "            'Does not meet the credit policy. Status:Fully Paid'}\n",
    "good = {'Current', 'Fully Paid'}\n",
    "bad = {'Charged Off', 'Default', 'In Grace Period', \n",
    "       'Late (16-30 days)', 'Late (31-120 days)'}\n",
    "\n",
    "def get_status(status):\n",
    "    \"\"\"\n",
    "    Classify loans to either good or bad loans based on their status.\n",
    "    \"\"\"\n",
    "    try: \n",
    "        status=status.strip()\n",
    "        if status in good:\n",
    "            return \"good\"\n",
    "        elif status in bad:\n",
    "            return \"bad\"\n",
    "        else: \n",
    "            return \"excluded\"\n",
    "    except: \n",
    "        return \"excluded\""
   ]
  },
  {
   "cell_type": "code",
   "execution_count": 18,
   "metadata": {
    "ExecuteTime": {
     "end_time": "2018-08-08T09:35:26.258992Z",
     "start_time": "2018-08-08T09:35:25.846063Z"
    }
   },
   "outputs": [],
   "source": [
    "df_clean['loan_status'] = df_clean['loan_status'].apply(lambda x: get_status(x))"
   ]
  },
  {
   "cell_type": "code",
   "execution_count": 19,
   "metadata": {
    "ExecuteTime": {
     "end_time": "2018-08-08T09:35:30.865391Z",
     "start_time": "2018-08-08T09:35:30.569577Z"
    }
   },
   "outputs": [],
   "source": [
    "df_clean = df_clean[df_clean['loan_status'] != 'excluded']"
   ]
  },
  {
   "cell_type": "code",
   "execution_count": 20,
   "metadata": {
    "ExecuteTime": {
     "end_time": "2018-08-08T09:35:36.460314Z",
     "start_time": "2018-08-08T09:35:35.879313Z"
    }
   },
   "outputs": [
    {
     "data": {
      "text/html": [
       "<div>\n",
       "<style scoped>\n",
       "    .dataframe tbody tr th:only-of-type {\n",
       "        vertical-align: middle;\n",
       "    }\n",
       "\n",
       "    .dataframe tbody tr th {\n",
       "        vertical-align: top;\n",
       "    }\n",
       "\n",
       "    .dataframe thead th {\n",
       "        text-align: right;\n",
       "    }\n",
       "</style>\n",
       "<table border=\"1\" class=\"dataframe\">\n",
       "  <thead>\n",
       "    <tr style=\"text-align: right;\">\n",
       "      <th></th>\n",
       "      <th>loan_amnt</th>\n",
       "      <th>term</th>\n",
       "      <th>int_rate</th>\n",
       "      <th>installment</th>\n",
       "      <th>grade</th>\n",
       "      <th>emp_length</th>\n",
       "      <th>home_ownership</th>\n",
       "      <th>annual_inc</th>\n",
       "      <th>purpose</th>\n",
       "      <th>payment_to_income_ratio_individual</th>\n",
       "      <th>...</th>\n",
       "      <th>revol_bal</th>\n",
       "      <th>revol_util</th>\n",
       "      <th>application_type</th>\n",
       "      <th>collections_12_mths_ex_med</th>\n",
       "      <th>mths_since_last_major_derog</th>\n",
       "      <th>policy_code</th>\n",
       "      <th>acc_now_delinq</th>\n",
       "      <th>tot_coll_amt</th>\n",
       "      <th>tot_cur_bal</th>\n",
       "      <th>total_rev_hi_lim</th>\n",
       "    </tr>\n",
       "    <tr>\n",
       "      <th>loan_status</th>\n",
       "      <th></th>\n",
       "      <th></th>\n",
       "      <th></th>\n",
       "      <th></th>\n",
       "      <th></th>\n",
       "      <th></th>\n",
       "      <th></th>\n",
       "      <th></th>\n",
       "      <th></th>\n",
       "      <th></th>\n",
       "      <th></th>\n",
       "      <th></th>\n",
       "      <th></th>\n",
       "      <th></th>\n",
       "      <th></th>\n",
       "      <th></th>\n",
       "      <th></th>\n",
       "      <th></th>\n",
       "      <th></th>\n",
       "      <th></th>\n",
       "      <th></th>\n",
       "    </tr>\n",
       "  </thead>\n",
       "  <tbody>\n",
       "    <tr>\n",
       "      <th>bad</th>\n",
       "      <td>66668</td>\n",
       "      <td>66668</td>\n",
       "      <td>66668</td>\n",
       "      <td>66668</td>\n",
       "      <td>66668</td>\n",
       "      <td>62973</td>\n",
       "      <td>66668</td>\n",
       "      <td>66668</td>\n",
       "      <td>66668</td>\n",
       "      <td>66668</td>\n",
       "      <td>...</td>\n",
       "      <td>66668</td>\n",
       "      <td>66607</td>\n",
       "      <td>66668</td>\n",
       "      <td>66662</td>\n",
       "      <td>15124</td>\n",
       "      <td>66668</td>\n",
       "      <td>66668</td>\n",
       "      <td>56417</td>\n",
       "      <td>56417</td>\n",
       "      <td>56417</td>\n",
       "    </tr>\n",
       "    <tr>\n",
       "      <th>good</th>\n",
       "      <td>809502</td>\n",
       "      <td>809502</td>\n",
       "      <td>809502</td>\n",
       "      <td>809502</td>\n",
       "      <td>809502</td>\n",
       "      <td>769037</td>\n",
       "      <td>809502</td>\n",
       "      <td>809502</td>\n",
       "      <td>809502</td>\n",
       "      <td>809502</td>\n",
       "      <td>...</td>\n",
       "      <td>809502</td>\n",
       "      <td>809104</td>\n",
       "      <td>809502</td>\n",
       "      <td>809452</td>\n",
       "      <td>204054</td>\n",
       "      <td>809502</td>\n",
       "      <td>809502</td>\n",
       "      <td>752226</td>\n",
       "      <td>752226</td>\n",
       "      <td>752226</td>\n",
       "    </tr>\n",
       "  </tbody>\n",
       "</table>\n",
       "<p>2 rows × 27 columns</p>\n",
       "</div>"
      ],
      "text/plain": [
       "             loan_amnt    term  int_rate  installment   grade  emp_length  \\\n",
       "loan_status                                                                 \n",
       "bad              66668   66668     66668        66668   66668       62973   \n",
       "good            809502  809502    809502       809502  809502      769037   \n",
       "\n",
       "             home_ownership  annual_inc  purpose  \\\n",
       "loan_status                                        \n",
       "bad                   66668       66668    66668   \n",
       "good                 809502      809502   809502   \n",
       "\n",
       "             payment_to_income_ratio_individual        ...         revol_bal  \\\n",
       "loan_status                                            ...                     \n",
       "bad                                       66668        ...             66668   \n",
       "good                                     809502        ...            809502   \n",
       "\n",
       "             revol_util  application_type  collections_12_mths_ex_med  \\\n",
       "loan_status                                                             \n",
       "bad               66607             66668                       66662   \n",
       "good             809104            809502                      809452   \n",
       "\n",
       "             mths_since_last_major_derog  policy_code  acc_now_delinq  \\\n",
       "loan_status                                                             \n",
       "bad                                15124        66668           66668   \n",
       "good                              204054       809502          809502   \n",
       "\n",
       "             tot_coll_amt  tot_cur_bal  total_rev_hi_lim  \n",
       "loan_status                                               \n",
       "bad                 56417        56417             56417  \n",
       "good               752226       752226            752226  \n",
       "\n",
       "[2 rows x 27 columns]"
      ]
     },
     "execution_count": 20,
     "metadata": {},
     "output_type": "execute_result"
    }
   ],
   "source": [
    "df_clean.groupby('loan_status').count()"
   ]
  },
  {
   "cell_type": "code",
   "execution_count": 24,
   "metadata": {
    "ExecuteTime": {
     "end_time": "2018-08-08T09:35:58.060205Z",
     "start_time": "2018-08-08T09:35:57.797103Z"
    }
   },
   "outputs": [],
   "source": [
    "# Fill the null value for 'mths_since_last_delinq' with zero as zero is default case for majority of loans\n",
    "\n",
    "fill_with_zero = {\n",
    "    'mths_since_last_delinq':0,\n",
    "    'mths_since_last_record':0,\n",
    "    'collections_12_mths_ex_med':0,\n",
    "    'mths_since_last_major_derog':0,\n",
    "    'tot_coll_amt':0\n",
    "}\n",
    "            \n",
    "df_clean.fillna(fill_with_zero,inplace=True)"
   ]
  },
  {
   "cell_type": "code",
   "execution_count": 26,
   "metadata": {
    "ExecuteTime": {
     "end_time": "2018-08-08T09:36:07.314988Z",
     "start_time": "2018-08-08T09:36:07.263678Z"
    }
   },
   "outputs": [],
   "source": [
    "# Fill the null value for 'revol util' with means\n",
    "\n",
    "df_clean['revol_util'].fillna(\n",
    "    value=df_clean['revol_util'].mean(), inplace=True)"
   ]
  },
  {
   "cell_type": "code",
   "execution_count": 27,
   "metadata": {
    "ExecuteTime": {
     "end_time": "2018-08-08T09:36:11.746421Z",
     "start_time": "2018-08-08T09:36:11.686070Z"
    }
   },
   "outputs": [],
   "source": [
    "# Fill the null value for 'tot_cur_bal' with means\n",
    "\n",
    "df_clean['tot_cur_bal'].fillna(\n",
    "    value=df_clean['tot_cur_bal'].mean(), inplace=True)"
   ]
  },
  {
   "cell_type": "code",
   "execution_count": 28,
   "metadata": {
    "ExecuteTime": {
     "end_time": "2018-08-08T09:36:16.462346Z",
     "start_time": "2018-08-08T09:36:16.410444Z"
    }
   },
   "outputs": [],
   "source": [
    "# Fill the null value for 'total_rev_hi_lim' with means\n",
    "\n",
    "df_clean['total_rev_hi_lim'].fillna(\n",
    "    value=df_clean['total_rev_hi_lim'].mean(), inplace=True)"
   ]
  },
  {
   "cell_type": "code",
   "execution_count": 30,
   "metadata": {
    "ExecuteTime": {
     "end_time": "2018-08-08T09:36:26.282865Z",
     "start_time": "2018-08-08T09:36:26.277913Z"
    }
   },
   "outputs": [],
   "source": [
    "def get_employee_length(length):\n",
    "    \"\"\"\n",
    "    This is to extract numerical value of emp_length\n",
    "    For simplicity, approximation was used.\n",
    "    <1 years will be treated as 1 year\n",
    "    >10 years will be treated as 10 years\n",
    "    \"\"\"\n",
    "    try:\n",
    "        length = length.strip()\n",
    "        year = re.findall(r'(\\d+)', length)\n",
    "        return int(year[0]) .\n",
    "    except:\n",
    "        return None"
   ]
  },
  {
   "cell_type": "code",
   "execution_count": 31,
   "metadata": {
    "ExecuteTime": {
     "end_time": "2018-08-08T09:36:32.646008Z",
     "start_time": "2018-08-08T09:36:30.751570Z"
    }
   },
   "outputs": [],
   "source": [
    "df_clean['emp_length'] = df_clean['emp_length'].apply(lambda x: get_employee_length(x))"
   ]
  },
  {
   "cell_type": "code",
   "execution_count": 32,
   "metadata": {
    "ExecuteTime": {
     "end_time": "2018-08-08T09:36:37.681383Z",
     "start_time": "2018-08-08T09:36:37.671465Z"
    }
   },
   "outputs": [],
   "source": [
    "df_clean['emp_length'].fillna(\n",
    "    value=df_clean['emp_length'].mean(), inplace=True)"
   ]
  },
  {
   "cell_type": "code",
   "execution_count": 33,
   "metadata": {
    "ExecuteTime": {
     "end_time": "2018-08-08T09:36:44.022248Z",
     "start_time": "2018-08-08T09:36:43.200434Z"
    }
   },
   "outputs": [
    {
     "data": {
      "text/plain": [
       "loan_amnt                             0\n",
       "term                                  0\n",
       "int_rate                              0\n",
       "installment                           0\n",
       "grade                                 0\n",
       "emp_length                            0\n",
       "home_ownership                        0\n",
       "annual_inc                            0\n",
       "loan_status                           0\n",
       "purpose                               0\n",
       "payment_to_income_ratio_individual    0\n",
       "delinq_2yrs                           0\n",
       "earliest_cr_line                      0\n",
       "inq_last_6mths                        0\n",
       "mths_since_last_delinq                0\n",
       "mths_since_last_record                0\n",
       "open_acc                              0\n",
       "pub_rec                               0\n",
       "revol_bal                             0\n",
       "revol_util                            0\n",
       "application_type                      0\n",
       "collections_12_mths_ex_med            0\n",
       "mths_since_last_major_derog           0\n",
       "policy_code                           0\n",
       "acc_now_delinq                        0\n",
       "tot_coll_amt                          0\n",
       "tot_cur_bal                           0\n",
       "total_rev_hi_lim                      0\n",
       "dtype: int64"
      ]
     },
     "execution_count": 33,
     "metadata": {},
     "output_type": "execute_result"
    }
   ],
   "source": [
    "# All Null values have been appropriately handled.\n",
    "\n",
    "df_clean.isnull().sum()"
   ]
  },
  {
   "cell_type": "code",
   "execution_count": 34,
   "metadata": {
    "ExecuteTime": {
     "end_time": "2018-08-08T09:36:49.488165Z",
     "start_time": "2018-08-08T09:36:49.120535Z"
    }
   },
   "outputs": [],
   "source": [
    "# Break down terms of loan into 2 categories.\n",
    "\n",
    "df_clean = pd.get_dummies(df_clean, prefix=['term'], columns=['term'])"
   ]
  },
  {
   "cell_type": "code",
   "execution_count": 36,
   "metadata": {
    "ExecuteTime": {
     "end_time": "2018-08-08T09:37:02.852779Z",
     "start_time": "2018-08-08T09:37:01.950086Z"
    }
   },
   "outputs": [],
   "source": [
    "# Break down grades into categories.\n",
    "\n",
    "df_clean = pd.get_dummies(df_clean, prefix=['grade'], columns=['grade'])"
   ]
  },
  {
   "cell_type": "code",
   "execution_count": 38,
   "metadata": {
    "ExecuteTime": {
     "end_time": "2018-08-08T09:37:14.853826Z",
     "start_time": "2018-08-08T09:37:14.180224Z"
    }
   },
   "outputs": [],
   "source": [
    "df_clean = pd.get_dummies(df_clean, prefix=['home_ownership'], columns=['home_ownership'])"
   ]
  },
  {
   "cell_type": "code",
   "execution_count": 44,
   "metadata": {
    "ExecuteTime": {
     "end_time": "2018-08-08T09:52:11.184004Z",
     "start_time": "2018-08-08T09:52:10.978778Z"
    }
   },
   "outputs": [
    {
     "data": {
      "text/html": [
       "<div>\n",
       "<style scoped>\n",
       "    .dataframe tbody tr th:only-of-type {\n",
       "        vertical-align: middle;\n",
       "    }\n",
       "\n",
       "    .dataframe tbody tr th {\n",
       "        vertical-align: top;\n",
       "    }\n",
       "\n",
       "    .dataframe thead th {\n",
       "        text-align: right;\n",
       "    }\n",
       "</style>\n",
       "<table border=\"1\" class=\"dataframe\">\n",
       "  <thead>\n",
       "    <tr style=\"text-align: right;\">\n",
       "      <th></th>\n",
       "      <th>loan_amnt</th>\n",
       "      <th>int_rate</th>\n",
       "      <th>installment</th>\n",
       "      <th>emp_length</th>\n",
       "      <th>annual_inc</th>\n",
       "      <th>loan_status</th>\n",
       "      <th>payment_to_income_ratio_individual</th>\n",
       "      <th>delinq_2yrs</th>\n",
       "      <th>earliest_cr_line</th>\n",
       "      <th>inq_last_6mths</th>\n",
       "      <th>...</th>\n",
       "      <th>grade_D</th>\n",
       "      <th>grade_E</th>\n",
       "      <th>grade_F</th>\n",
       "      <th>grade_G</th>\n",
       "      <th>home_ownership_ANY</th>\n",
       "      <th>home_ownership_MORTGAGE</th>\n",
       "      <th>home_ownership_NONE</th>\n",
       "      <th>home_ownership_OTHER</th>\n",
       "      <th>home_ownership_OWN</th>\n",
       "      <th>home_ownership_RENT</th>\n",
       "    </tr>\n",
       "    <tr>\n",
       "      <th>purpose</th>\n",
       "      <th></th>\n",
       "      <th></th>\n",
       "      <th></th>\n",
       "      <th></th>\n",
       "      <th></th>\n",
       "      <th></th>\n",
       "      <th></th>\n",
       "      <th></th>\n",
       "      <th></th>\n",
       "      <th></th>\n",
       "      <th></th>\n",
       "      <th></th>\n",
       "      <th></th>\n",
       "      <th></th>\n",
       "      <th></th>\n",
       "      <th></th>\n",
       "      <th></th>\n",
       "      <th></th>\n",
       "      <th></th>\n",
       "      <th></th>\n",
       "      <th></th>\n",
       "    </tr>\n",
       "  </thead>\n",
       "  <tbody>\n",
       "    <tr>\n",
       "      <th>car</th>\n",
       "      <td>583</td>\n",
       "      <td>583</td>\n",
       "      <td>583</td>\n",
       "      <td>583</td>\n",
       "      <td>583</td>\n",
       "      <td>583</td>\n",
       "      <td>583</td>\n",
       "      <td>583</td>\n",
       "      <td>583</td>\n",
       "      <td>583</td>\n",
       "      <td>...</td>\n",
       "      <td>583</td>\n",
       "      <td>583</td>\n",
       "      <td>583</td>\n",
       "      <td>583</td>\n",
       "      <td>583</td>\n",
       "      <td>583</td>\n",
       "      <td>583</td>\n",
       "      <td>583</td>\n",
       "      <td>583</td>\n",
       "      <td>583</td>\n",
       "    </tr>\n",
       "    <tr>\n",
       "      <th>credit_card</th>\n",
       "      <td>11686</td>\n",
       "      <td>11686</td>\n",
       "      <td>11686</td>\n",
       "      <td>11686</td>\n",
       "      <td>11686</td>\n",
       "      <td>11686</td>\n",
       "      <td>11686</td>\n",
       "      <td>11686</td>\n",
       "      <td>11686</td>\n",
       "      <td>11686</td>\n",
       "      <td>...</td>\n",
       "      <td>11686</td>\n",
       "      <td>11686</td>\n",
       "      <td>11686</td>\n",
       "      <td>11686</td>\n",
       "      <td>11686</td>\n",
       "      <td>11686</td>\n",
       "      <td>11686</td>\n",
       "      <td>11686</td>\n",
       "      <td>11686</td>\n",
       "      <td>11686</td>\n",
       "    </tr>\n",
       "    <tr>\n",
       "      <th>debt_consolidation</th>\n",
       "      <td>41316</td>\n",
       "      <td>41316</td>\n",
       "      <td>41316</td>\n",
       "      <td>41316</td>\n",
       "      <td>41316</td>\n",
       "      <td>41316</td>\n",
       "      <td>41316</td>\n",
       "      <td>41316</td>\n",
       "      <td>41316</td>\n",
       "      <td>41316</td>\n",
       "      <td>...</td>\n",
       "      <td>41316</td>\n",
       "      <td>41316</td>\n",
       "      <td>41316</td>\n",
       "      <td>41316</td>\n",
       "      <td>41316</td>\n",
       "      <td>41316</td>\n",
       "      <td>41316</td>\n",
       "      <td>41316</td>\n",
       "      <td>41316</td>\n",
       "      <td>41316</td>\n",
       "    </tr>\n",
       "    <tr>\n",
       "      <th>educational</th>\n",
       "      <td>56</td>\n",
       "      <td>56</td>\n",
       "      <td>56</td>\n",
       "      <td>56</td>\n",
       "      <td>56</td>\n",
       "      <td>56</td>\n",
       "      <td>56</td>\n",
       "      <td>56</td>\n",
       "      <td>56</td>\n",
       "      <td>56</td>\n",
       "      <td>...</td>\n",
       "      <td>56</td>\n",
       "      <td>56</td>\n",
       "      <td>56</td>\n",
       "      <td>56</td>\n",
       "      <td>56</td>\n",
       "      <td>56</td>\n",
       "      <td>56</td>\n",
       "      <td>56</td>\n",
       "      <td>56</td>\n",
       "      <td>56</td>\n",
       "    </tr>\n",
       "    <tr>\n",
       "      <th>home_improvement</th>\n",
       "      <td>3482</td>\n",
       "      <td>3482</td>\n",
       "      <td>3482</td>\n",
       "      <td>3482</td>\n",
       "      <td>3482</td>\n",
       "      <td>3482</td>\n",
       "      <td>3482</td>\n",
       "      <td>3482</td>\n",
       "      <td>3482</td>\n",
       "      <td>3482</td>\n",
       "      <td>...</td>\n",
       "      <td>3482</td>\n",
       "      <td>3482</td>\n",
       "      <td>3482</td>\n",
       "      <td>3482</td>\n",
       "      <td>3482</td>\n",
       "      <td>3482</td>\n",
       "      <td>3482</td>\n",
       "      <td>3482</td>\n",
       "      <td>3482</td>\n",
       "      <td>3482</td>\n",
       "    </tr>\n",
       "    <tr>\n",
       "      <th>house</th>\n",
       "      <td>406</td>\n",
       "      <td>406</td>\n",
       "      <td>406</td>\n",
       "      <td>406</td>\n",
       "      <td>406</td>\n",
       "      <td>406</td>\n",
       "      <td>406</td>\n",
       "      <td>406</td>\n",
       "      <td>406</td>\n",
       "      <td>406</td>\n",
       "      <td>...</td>\n",
       "      <td>406</td>\n",
       "      <td>406</td>\n",
       "      <td>406</td>\n",
       "      <td>406</td>\n",
       "      <td>406</td>\n",
       "      <td>406</td>\n",
       "      <td>406</td>\n",
       "      <td>406</td>\n",
       "      <td>406</td>\n",
       "      <td>406</td>\n",
       "    </tr>\n",
       "    <tr>\n",
       "      <th>major_purchase</th>\n",
       "      <td>1271</td>\n",
       "      <td>1271</td>\n",
       "      <td>1271</td>\n",
       "      <td>1271</td>\n",
       "      <td>1271</td>\n",
       "      <td>1271</td>\n",
       "      <td>1271</td>\n",
       "      <td>1271</td>\n",
       "      <td>1271</td>\n",
       "      <td>1271</td>\n",
       "      <td>...</td>\n",
       "      <td>1271</td>\n",
       "      <td>1271</td>\n",
       "      <td>1271</td>\n",
       "      <td>1271</td>\n",
       "      <td>1271</td>\n",
       "      <td>1271</td>\n",
       "      <td>1271</td>\n",
       "      <td>1271</td>\n",
       "      <td>1271</td>\n",
       "      <td>1271</td>\n",
       "    </tr>\n",
       "    <tr>\n",
       "      <th>medical</th>\n",
       "      <td>782</td>\n",
       "      <td>782</td>\n",
       "      <td>782</td>\n",
       "      <td>782</td>\n",
       "      <td>782</td>\n",
       "      <td>782</td>\n",
       "      <td>782</td>\n",
       "      <td>782</td>\n",
       "      <td>782</td>\n",
       "      <td>782</td>\n",
       "      <td>...</td>\n",
       "      <td>782</td>\n",
       "      <td>782</td>\n",
       "      <td>782</td>\n",
       "      <td>782</td>\n",
       "      <td>782</td>\n",
       "      <td>782</td>\n",
       "      <td>782</td>\n",
       "      <td>782</td>\n",
       "      <td>782</td>\n",
       "      <td>782</td>\n",
       "    </tr>\n",
       "    <tr>\n",
       "      <th>moving</th>\n",
       "      <td>592</td>\n",
       "      <td>592</td>\n",
       "      <td>592</td>\n",
       "      <td>592</td>\n",
       "      <td>592</td>\n",
       "      <td>592</td>\n",
       "      <td>592</td>\n",
       "      <td>592</td>\n",
       "      <td>592</td>\n",
       "      <td>592</td>\n",
       "      <td>...</td>\n",
       "      <td>592</td>\n",
       "      <td>592</td>\n",
       "      <td>592</td>\n",
       "      <td>592</td>\n",
       "      <td>592</td>\n",
       "      <td>592</td>\n",
       "      <td>592</td>\n",
       "      <td>592</td>\n",
       "      <td>592</td>\n",
       "      <td>592</td>\n",
       "    </tr>\n",
       "    <tr>\n",
       "      <th>other</th>\n",
       "      <td>4042</td>\n",
       "      <td>4042</td>\n",
       "      <td>4042</td>\n",
       "      <td>4042</td>\n",
       "      <td>4042</td>\n",
       "      <td>4042</td>\n",
       "      <td>4042</td>\n",
       "      <td>4042</td>\n",
       "      <td>4042</td>\n",
       "      <td>4042</td>\n",
       "      <td>...</td>\n",
       "      <td>4042</td>\n",
       "      <td>4042</td>\n",
       "      <td>4042</td>\n",
       "      <td>4042</td>\n",
       "      <td>4042</td>\n",
       "      <td>4042</td>\n",
       "      <td>4042</td>\n",
       "      <td>4042</td>\n",
       "      <td>4042</td>\n",
       "      <td>4042</td>\n",
       "    </tr>\n",
       "    <tr>\n",
       "      <th>renewable_energy</th>\n",
       "      <td>71</td>\n",
       "      <td>71</td>\n",
       "      <td>71</td>\n",
       "      <td>71</td>\n",
       "      <td>71</td>\n",
       "      <td>71</td>\n",
       "      <td>71</td>\n",
       "      <td>71</td>\n",
       "      <td>71</td>\n",
       "      <td>71</td>\n",
       "      <td>...</td>\n",
       "      <td>71</td>\n",
       "      <td>71</td>\n",
       "      <td>71</td>\n",
       "      <td>71</td>\n",
       "      <td>71</td>\n",
       "      <td>71</td>\n",
       "      <td>71</td>\n",
       "      <td>71</td>\n",
       "      <td>71</td>\n",
       "      <td>71</td>\n",
       "    </tr>\n",
       "    <tr>\n",
       "      <th>small_business</th>\n",
       "      <td>1709</td>\n",
       "      <td>1709</td>\n",
       "      <td>1709</td>\n",
       "      <td>1709</td>\n",
       "      <td>1709</td>\n",
       "      <td>1709</td>\n",
       "      <td>1709</td>\n",
       "      <td>1709</td>\n",
       "      <td>1709</td>\n",
       "      <td>1709</td>\n",
       "      <td>...</td>\n",
       "      <td>1709</td>\n",
       "      <td>1709</td>\n",
       "      <td>1709</td>\n",
       "      <td>1709</td>\n",
       "      <td>1709</td>\n",
       "      <td>1709</td>\n",
       "      <td>1709</td>\n",
       "      <td>1709</td>\n",
       "      <td>1709</td>\n",
       "      <td>1709</td>\n",
       "    </tr>\n",
       "    <tr>\n",
       "      <th>vacation</th>\n",
       "      <td>396</td>\n",
       "      <td>396</td>\n",
       "      <td>396</td>\n",
       "      <td>396</td>\n",
       "      <td>396</td>\n",
       "      <td>396</td>\n",
       "      <td>396</td>\n",
       "      <td>396</td>\n",
       "      <td>396</td>\n",
       "      <td>396</td>\n",
       "      <td>...</td>\n",
       "      <td>396</td>\n",
       "      <td>396</td>\n",
       "      <td>396</td>\n",
       "      <td>396</td>\n",
       "      <td>396</td>\n",
       "      <td>396</td>\n",
       "      <td>396</td>\n",
       "      <td>396</td>\n",
       "      <td>396</td>\n",
       "      <td>396</td>\n",
       "    </tr>\n",
       "    <tr>\n",
       "      <th>wedding</th>\n",
       "      <td>276</td>\n",
       "      <td>276</td>\n",
       "      <td>276</td>\n",
       "      <td>276</td>\n",
       "      <td>276</td>\n",
       "      <td>276</td>\n",
       "      <td>276</td>\n",
       "      <td>276</td>\n",
       "      <td>276</td>\n",
       "      <td>276</td>\n",
       "      <td>...</td>\n",
       "      <td>276</td>\n",
       "      <td>276</td>\n",
       "      <td>276</td>\n",
       "      <td>276</td>\n",
       "      <td>276</td>\n",
       "      <td>276</td>\n",
       "      <td>276</td>\n",
       "      <td>276</td>\n",
       "      <td>276</td>\n",
       "      <td>276</td>\n",
       "    </tr>\n",
       "  </tbody>\n",
       "</table>\n",
       "<p>14 rows × 39 columns</p>\n",
       "</div>"
      ],
      "text/plain": [
       "                    loan_amnt  int_rate  installment  emp_length  annual_inc  \\\n",
       "purpose                                                                        \n",
       "car                       583       583          583         583         583   \n",
       "credit_card             11686     11686        11686       11686       11686   \n",
       "debt_consolidation      41316     41316        41316       41316       41316   \n",
       "educational                56        56           56          56          56   \n",
       "home_improvement         3482      3482         3482        3482        3482   \n",
       "house                     406       406          406         406         406   \n",
       "major_purchase           1271      1271         1271        1271        1271   \n",
       "medical                   782       782          782         782         782   \n",
       "moving                    592       592          592         592         592   \n",
       "other                    4042      4042         4042        4042        4042   \n",
       "renewable_energy           71        71           71          71          71   \n",
       "small_business           1709      1709         1709        1709        1709   \n",
       "vacation                  396       396          396         396         396   \n",
       "wedding                   276       276          276         276         276   \n",
       "\n",
       "                    loan_status  payment_to_income_ratio_individual  \\\n",
       "purpose                                                               \n",
       "car                         583                                 583   \n",
       "credit_card               11686                               11686   \n",
       "debt_consolidation        41316                               41316   \n",
       "educational                  56                                  56   \n",
       "home_improvement           3482                                3482   \n",
       "house                       406                                 406   \n",
       "major_purchase             1271                                1271   \n",
       "medical                     782                                 782   \n",
       "moving                      592                                 592   \n",
       "other                      4042                                4042   \n",
       "renewable_energy             71                                  71   \n",
       "small_business             1709                                1709   \n",
       "vacation                    396                                 396   \n",
       "wedding                     276                                 276   \n",
       "\n",
       "                    delinq_2yrs  earliest_cr_line  inq_last_6mths  \\\n",
       "purpose                                                             \n",
       "car                         583               583             583   \n",
       "credit_card               11686             11686           11686   \n",
       "debt_consolidation        41316             41316           41316   \n",
       "educational                  56                56              56   \n",
       "home_improvement           3482              3482            3482   \n",
       "house                       406               406             406   \n",
       "major_purchase             1271              1271            1271   \n",
       "medical                     782               782             782   \n",
       "moving                      592               592             592   \n",
       "other                      4042              4042            4042   \n",
       "renewable_energy             71                71              71   \n",
       "small_business             1709              1709            1709   \n",
       "vacation                    396               396             396   \n",
       "wedding                     276               276             276   \n",
       "\n",
       "                           ...           grade_D  grade_E  grade_F  grade_G  \\\n",
       "purpose                    ...                                                \n",
       "car                        ...               583      583      583      583   \n",
       "credit_card                ...             11686    11686    11686    11686   \n",
       "debt_consolidation         ...             41316    41316    41316    41316   \n",
       "educational                ...                56       56       56       56   \n",
       "home_improvement           ...              3482     3482     3482     3482   \n",
       "house                      ...               406      406      406      406   \n",
       "major_purchase             ...              1271     1271     1271     1271   \n",
       "medical                    ...               782      782      782      782   \n",
       "moving                     ...               592      592      592      592   \n",
       "other                      ...              4042     4042     4042     4042   \n",
       "renewable_energy           ...                71       71       71       71   \n",
       "small_business             ...              1709     1709     1709     1709   \n",
       "vacation                   ...               396      396      396      396   \n",
       "wedding                    ...               276      276      276      276   \n",
       "\n",
       "                    home_ownership_ANY  home_ownership_MORTGAGE  \\\n",
       "purpose                                                           \n",
       "car                                583                      583   \n",
       "credit_card                      11686                    11686   \n",
       "debt_consolidation               41316                    41316   \n",
       "educational                         56                       56   \n",
       "home_improvement                  3482                     3482   \n",
       "house                              406                      406   \n",
       "major_purchase                    1271                     1271   \n",
       "medical                            782                      782   \n",
       "moving                             592                      592   \n",
       "other                             4042                     4042   \n",
       "renewable_energy                    71                       71   \n",
       "small_business                    1709                     1709   \n",
       "vacation                           396                      396   \n",
       "wedding                            276                      276   \n",
       "\n",
       "                    home_ownership_NONE  home_ownership_OTHER  \\\n",
       "purpose                                                         \n",
       "car                                 583                   583   \n",
       "credit_card                       11686                 11686   \n",
       "debt_consolidation                41316                 41316   \n",
       "educational                          56                    56   \n",
       "home_improvement                   3482                  3482   \n",
       "house                               406                   406   \n",
       "major_purchase                     1271                  1271   \n",
       "medical                             782                   782   \n",
       "moving                              592                   592   \n",
       "other                              4042                  4042   \n",
       "renewable_energy                     71                    71   \n",
       "small_business                     1709                  1709   \n",
       "vacation                            396                   396   \n",
       "wedding                             276                   276   \n",
       "\n",
       "                    home_ownership_OWN  home_ownership_RENT  \n",
       "purpose                                                      \n",
       "car                                583                  583  \n",
       "credit_card                      11686                11686  \n",
       "debt_consolidation               41316                41316  \n",
       "educational                         56                   56  \n",
       "home_improvement                  3482                 3482  \n",
       "house                              406                  406  \n",
       "major_purchase                    1271                 1271  \n",
       "medical                            782                  782  \n",
       "moving                             592                  592  \n",
       "other                             4042                 4042  \n",
       "renewable_energy                    71                   71  \n",
       "small_business                    1709                 1709  \n",
       "vacation                           396                  396  \n",
       "wedding                            276                  276  \n",
       "\n",
       "[14 rows x 39 columns]"
      ]
     },
     "execution_count": 44,
     "metadata": {},
     "output_type": "execute_result"
    }
   ],
   "source": [
    "df_clean[df_clean['loan_status'] == 'bad'].groupby('purpose').count()"
   ]
  },
  {
   "cell_type": "code",
   "execution_count": null,
   "metadata": {
    "ExecuteTime": {
     "end_time": "2018-08-08T09:29:38.025110Z",
     "start_time": "2018-08-08T09:29:37.676989Z"
    }
   },
   "outputs": [],
   "source": [
    "df_clean = pd.get_dummies(df_clean, prefix=['purpose'], columns=['purpose'])"
   ]
  },
  {
   "cell_type": "code",
   "execution_count": null,
   "metadata": {
    "ExecuteTime": {
     "end_time": "2018-08-08T09:29:44.528152Z",
     "start_time": "2018-08-08T09:29:44.522473Z"
    }
   },
   "outputs": [],
   "source": [
    "def get_earliest_cr_line(string):\n",
    "    \"\"\"\n",
    "    This is to calculate years of credit history.\n",
    "    Since the data is from 2016, use 2016 minus the \n",
    "    starting year to estimate years of credit history.\n",
    "    \n",
    "    \"\"\"\n",
    "    string = string.strip()\n",
    "    year = re.findall(r'(\\d+)', string)\n",
    "    return (2016-int(year[0])) "
   ]
  },
  {
   "cell_type": "code",
   "execution_count": null,
   "metadata": {
    "ExecuteTime": {
     "end_time": "2018-08-08T09:29:49.753625Z",
     "start_time": "2018-08-08T09:29:47.742538Z"
    }
   },
   "outputs": [],
   "source": [
    "df_clean['earliest_cr_line'] = df_clean['earliest_cr_line'].apply(lambda x: get_earliest_cr_line(x))"
   ]
  },
  {
   "cell_type": "code",
   "execution_count": null,
   "metadata": {
    "ExecuteTime": {
     "end_time": "2018-08-08T09:29:52.911417Z",
     "start_time": "2018-08-08T09:29:52.906782Z"
    }
   },
   "outputs": [],
   "source": [
    "def inverse(value):\n",
    "    try:\n",
    "        return 1 / value\n",
    "    except: \n",
    "        return 0"
   ]
  },
  {
   "cell_type": "code",
   "execution_count": null,
   "metadata": {
    "ExecuteTime": {
     "end_time": "2018-08-08T09:29:56.405530Z",
     "start_time": "2018-08-08T09:29:55.788938Z"
    },
    "code_folding": []
   },
   "outputs": [],
   "source": [
    "# Take inverse of months since last delinquishing date as this is is inversed related to default prediction\n",
    "\n",
    "df_clean['inversed_mths_since_last_delinq'] = df_clean['mths_since_last_delinq'].apply(lambda x: inverse(x))"
   ]
  },
  {
   "cell_type": "code",
   "execution_count": null,
   "metadata": {
    "ExecuteTime": {
     "end_time": "2018-08-08T09:30:00.368182Z",
     "start_time": "2018-08-08T09:29:59.635086Z"
    }
   },
   "outputs": [],
   "source": [
    "# Take inverse of months since last record as this is is inversed related to default to default prediction\n",
    "\n",
    "df_clean['inversed_mths_since_last_record'] = df_clean['mths_since_last_record'].apply(lambda x: inverse(x))"
   ]
  },
  {
   "cell_type": "code",
   "execution_count": 5,
   "metadata": {
    "ExecuteTime": {
     "end_time": "2018-08-09T00:12:27.929322Z",
     "start_time": "2018-08-09T00:12:27.912501Z"
    }
   },
   "outputs": [
    {
     "ename": "NameError",
     "evalue": "name 'df_clean' is not defined",
     "output_type": "error",
     "traceback": [
      "\u001b[0;31m---------------------------------------------------------------------------\u001b[0m",
      "\u001b[0;31mNameError\u001b[0m                                 Traceback (most recent call last)",
      "\u001b[0;32m<ipython-input-5-d44cf626c50b>\u001b[0m in \u001b[0;36m<module>\u001b[0;34m()\u001b[0m\n\u001b[1;32m      2\u001b[0m \u001b[0mnew_col_name\u001b[0m \u001b[0;34m=\u001b[0m \u001b[0;34m'inversed_mths_since_last_major_derog'\u001b[0m\u001b[0;34m\u001b[0m\u001b[0m\n\u001b[1;32m      3\u001b[0m \u001b[0mold_col_name\u001b[0m \u001b[0;34m=\u001b[0m \u001b[0;34m'mths_since_last_major_derog'\u001b[0m\u001b[0;34m\u001b[0m\u001b[0m\n\u001b[0;32m----> 4\u001b[0;31m \u001b[0mdf_clean\u001b[0m\u001b[0;34m[\u001b[0m\u001b[0mnew_col_name\u001b[0m\u001b[0;34m]\u001b[0m \u001b[0;34m=\u001b[0m \u001b[0mdf_clean\u001b[0m\u001b[0;34m[\u001b[0m\u001b[0mold_col_name\u001b[0m\u001b[0;34m]\u001b[0m\u001b[0;34m.\u001b[0m\u001b[0mapply\u001b[0m\u001b[0;34m(\u001b[0m\u001b[0;32mlambda\u001b[0m \u001b[0mx\u001b[0m\u001b[0;34m:\u001b[0m \u001b[0minverse\u001b[0m\u001b[0;34m(\u001b[0m\u001b[0mx\u001b[0m\u001b[0;34m)\u001b[0m\u001b[0;34m)\u001b[0m\u001b[0;34m\u001b[0m\u001b[0m\n\u001b[0m",
      "\u001b[0;31mNameError\u001b[0m: name 'df_clean' is not defined"
     ]
    }
   ],
   "source": [
    "# Take inverse of months since last record as this is is inversed related to default to default prediction.\n",
    "new_col_name = 'inversed_mths_since_last_major_derog'\n",
    "old_col_name = 'mths_since_last_major_derog'\n",
    "df_clean[new_col_name] = df_clean[old_col_name].apply(lambda x: inverse(x))"
   ]
  },
  {
   "cell_type": "code",
   "execution_count": null,
   "metadata": {
    "ExecuteTime": {
     "end_time": "2018-08-08T09:30:08.193356Z",
     "start_time": "2018-08-08T09:30:07.713819Z"
    }
   },
   "outputs": [],
   "source": [
    "df_clean.drop(\n",
    "    ['mths_since_last_delinq', 'mths_since_last_record',\n",
    "     'mths_since_last_major_derog'], \n",
    "    inplace=True, axis=1)"
   ]
  },
  {
   "cell_type": "code",
   "execution_count": null,
   "metadata": {
    "ExecuteTime": {
     "end_time": "2018-08-08T09:30:11.394498Z",
     "start_time": "2018-08-08T09:30:11.339931Z"
    }
   },
   "outputs": [],
   "source": [
    "# Calculate income-to-debt raio. \n",
    "# This can result in infinite values when revol_balance is small.\n",
    "\n",
    "df_clean['income_to_debt_ratio'] = df_clean['annual_inc'] / df_clean['revol_bal']"
   ]
  },
  {
   "cell_type": "code",
   "execution_count": null,
   "metadata": {
    "ExecuteTime": {
     "end_time": "2018-08-08T09:30:14.394584Z",
     "start_time": "2018-08-08T09:30:14.379311Z"
    }
   },
   "outputs": [],
   "source": [
    "# Replace infinite value with N/As.\n",
    "\n",
    "df_clean['income_to_debt_ratio'] = df_clean['income_to_debt_ratio'].replace(np.inf, np.nan)"
   ]
  },
  {
   "cell_type": "code",
   "execution_count": null,
   "metadata": {
    "ExecuteTime": {
     "end_time": "2018-08-08T09:30:17.569702Z",
     "start_time": "2018-08-08T09:30:17.197155Z"
    }
   },
   "outputs": [],
   "source": [
    "# Drop infinite values since size of it is very small.\n",
    "\n",
    "df_clean = df_clean[df_clean['income_to_debt_ratio'] >= 0]"
   ]
  },
  {
   "cell_type": "code",
   "execution_count": null,
   "metadata": {
    "ExecuteTime": {
     "end_time": "2018-08-08T09:30:20.711581Z",
     "start_time": "2018-08-08T09:30:20.370329Z"
    }
   },
   "outputs": [],
   "source": [
    "# Break down applicaiton type to different categories.\n",
    "\n",
    "df_clean=pd.get_dummies(df_clean, prefix=['application_type'], columns=['application_type'])"
   ]
  },
  {
   "cell_type": "code",
   "execution_count": null,
   "metadata": {
    "ExecuteTime": {
     "end_time": "2018-08-08T02:24:06.213062Z",
     "start_time": "2018-08-08T02:24:05.188658Z"
    }
   },
   "outputs": [],
   "source": [
    "pkl_filename= '/Users/xzhou/github/project_files/lending_club/loan3.pkl'\n",
    "\n",
    "with open(pkl_filename, 'wb') as pklfile:\n",
    "    pickle.dump(df_clean, pklfile)"
   ]
  },
  {
   "cell_type": "code",
   "execution_count": null,
   "metadata": {},
   "outputs": [],
   "source": []
  },
  {
   "cell_type": "code",
   "execution_count": null,
   "metadata": {},
   "outputs": [],
   "source": []
  }
 ],
 "metadata": {
  "kernelspec": {
   "display_name": "Python 3",
   "language": "python",
   "name": "python3"
  },
  "language_info": {
   "codemirror_mode": {
    "name": "ipython",
    "version": 3
   },
   "file_extension": ".py",
   "mimetype": "text/x-python",
   "name": "python",
   "nbconvert_exporter": "python",
   "pygments_lexer": "ipython3",
   "version": "3.6.6"
  },
  "varInspector": {
   "cols": {
    "lenName": 16,
    "lenType": 16,
    "lenVar": 40
   },
   "kernels_config": {
    "python": {
     "delete_cmd_postfix": "",
     "delete_cmd_prefix": "del ",
     "library": "var_list.py",
     "varRefreshCmd": "print(var_dic_list())"
    },
    "r": {
     "delete_cmd_postfix": ") ",
     "delete_cmd_prefix": "rm(",
     "library": "var_list.r",
     "varRefreshCmd": "cat(var_dic_list()) "
    }
   },
   "types_to_exclude": [
    "module",
    "function",
    "builtin_function_or_method",
    "instance",
    "_Feature"
   ],
   "window_display": false
  }
 },
 "nbformat": 4,
 "nbformat_minor": 2
}
