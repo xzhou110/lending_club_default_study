{
 "cells": [
  {
   "cell_type": "code",
   "execution_count": null,
   "metadata": {},
   "outputs": [],
   "source": []
  },
  {
   "cell_type": "code",
   "execution_count": 56,
   "metadata": {
    "ExecuteTime": {
     "end_time": "2018-08-08T02:18:24.162722Z",
     "start_time": "2018-08-08T02:18:24.077979Z"
    }
   },
   "outputs": [],
   "source": [
    "import pandas as pd\n",
    "import numpy as np\n",
    "import csv\n",
    "import sqlite3\n",
    "import re\n",
    "import pickle\n",
    "\n",
    "from sklearn.datasets import load_wine\n",
    "from sklearn.tree import DecisionTreeClassifier\n",
    "from sklearn.ensemble import RandomForestClassifier, BaggingClassifier\n",
    "from sklearn.model_selection import train_test_split\n",
    "\n",
    "from sklearn.linear_model import LogisticRegression, SGDClassifier\n",
    "from sklearn.svm import SVC\n",
    "from sklearn.metrics import roc_curve, auc\n",
    "\n",
    "from sklearn.metrics import accuracy_score\n",
    "\n",
    "import matplotlib.pyplot as plt\n",
    "%matplotlib inline"
   ]
  },
  {
   "cell_type": "code",
   "execution_count": 57,
   "metadata": {
    "ExecuteTime": {
     "end_time": "2018-08-08T02:18:44.990011Z",
     "start_time": "2018-08-08T02:18:25.268982Z"
    }
   },
   "outputs": [
    {
     "name": "stderr",
     "output_type": "stream",
     "text": [
      "/Users/xzhou/anaconda3/lib/python3.6/site-packages/IPython/core/interactiveshell.py:2785: DtypeWarning: Columns (19,55) have mixed types. Specify dtype option on import or set low_memory=False.\n",
      "  interactivity=interactivity, compiler=compiler, result=result)\n"
     ]
    }
   ],
   "source": [
    "filename_csv = '/Users/xzhou/github/project_files/lending_club/loan.csv'\n",
    "date_to_parse = ['issue_d' , 'last_pymnt_d', 'next_pymnt_d', 'last_credit_pull_d', 'earliest_cr_line']\n",
    "\n",
    "df=pd.read_csv(filename_csv, date_parser=date_to_parse)"
   ]
  },
  {
   "cell_type": "code",
   "execution_count": 58,
   "metadata": {
    "ExecuteTime": {
     "end_time": "2018-08-08T02:18:46.340913Z",
     "start_time": "2018-08-08T02:18:46.317363Z"
    }
   },
   "outputs": [
    {
     "data": {
      "text/plain": [
       "(887379, 74)"
      ]
     },
     "execution_count": 58,
     "metadata": {},
     "output_type": "execute_result"
    }
   ],
   "source": [
    "df.shape"
   ]
  },
  {
   "cell_type": "code",
   "execution_count": 59,
   "metadata": {
    "ExecuteTime": {
     "end_time": "2018-08-08T02:18:47.468485Z",
     "start_time": "2018-08-08T02:18:47.459267Z"
    }
   },
   "outputs": [
    {
     "data": {
      "text/plain": [
       "Index(['id', 'member_id', 'loan_amnt', 'funded_amnt', 'funded_amnt_inv',\n",
       "       'term', 'int_rate', 'installment', 'grade', 'sub_grade', 'emp_title',\n",
       "       'emp_length', 'home_ownership', 'annual_inc', 'verification_status',\n",
       "       'issue_d', 'loan_status', 'pymnt_plan', 'url', 'desc', 'purpose',\n",
       "       'title', 'zip_code', 'addr_state', 'dti', 'delinq_2yrs',\n",
       "       'earliest_cr_line', 'inq_last_6mths', 'mths_since_last_delinq',\n",
       "       'mths_since_last_record', 'open_acc', 'pub_rec', 'revol_bal',\n",
       "       'revol_util', 'total_acc', 'initial_list_status', 'out_prncp',\n",
       "       'out_prncp_inv', 'total_pymnt', 'total_pymnt_inv', 'total_rec_prncp',\n",
       "       'total_rec_int', 'total_rec_late_fee', 'recoveries',\n",
       "       'collection_recovery_fee', 'last_pymnt_d', 'last_pymnt_amnt',\n",
       "       'next_pymnt_d', 'last_credit_pull_d', 'collections_12_mths_ex_med',\n",
       "       'mths_since_last_major_derog', 'policy_code', 'application_type',\n",
       "       'annual_inc_joint', 'dti_joint', 'verification_status_joint',\n",
       "       'acc_now_delinq', 'tot_coll_amt', 'tot_cur_bal', 'open_acc_6m',\n",
       "       'open_il_6m', 'open_il_12m', 'open_il_24m', 'mths_since_rcnt_il',\n",
       "       'total_bal_il', 'il_util', 'open_rv_12m', 'open_rv_24m', 'max_bal_bc',\n",
       "       'all_util', 'total_rev_hi_lim', 'inq_fi', 'total_cu_tl',\n",
       "       'inq_last_12m'],\n",
       "      dtype='object')"
      ]
     },
     "execution_count": 59,
     "metadata": {},
     "output_type": "execute_result"
    }
   ],
   "source": [
    "df.columns"
   ]
  },
  {
   "cell_type": "code",
   "execution_count": null,
   "metadata": {},
   "outputs": [],
   "source": []
  },
  {
   "cell_type": "code",
   "execution_count": null,
   "metadata": {},
   "outputs": [],
   "source": []
  },
  {
   "cell_type": "code",
   "execution_count": null,
   "metadata": {
    "ExecuteTime": {
     "end_time": "2018-08-07T09:50:52.983750Z",
     "start_time": "2018-08-07T09:50:52.977989Z"
    }
   },
   "outputs": [],
   "source": [
    "# filename_sql = '/Users/xzhou/github/project_files/lending_club/database.sqlite'\n",
    "# # date_to_parse = ['issue_d' , 'last_pymnt_d', 'next_pymnt_d', 'last_credit_pull_d', 'earliest_cr_line']\n",
    "# conn = sqlite3.connect(filename_sql)\n",
    "\n",
    "# df = pd.read_sql_query('select * from loan', con=conn, parse_dates = date_to_parse)"
   ]
  },
  {
   "cell_type": "code",
   "execution_count": null,
   "metadata": {
    "ExecuteTime": {
     "end_time": "2018-08-07T09:50:52.990290Z",
     "start_time": "2018-08-07T09:50:52.986694Z"
    }
   },
   "outputs": [],
   "source": [
    "# df.columns"
   ]
  },
  {
   "cell_type": "code",
   "execution_count": null,
   "metadata": {},
   "outputs": [],
   "source": []
  },
  {
   "cell_type": "code",
   "execution_count": null,
   "metadata": {},
   "outputs": [],
   "source": []
  },
  {
   "cell_type": "code",
   "execution_count": 60,
   "metadata": {
    "ExecuteTime": {
     "end_time": "2018-08-08T02:18:56.240131Z",
     "start_time": "2018-08-08T02:18:56.230074Z"
    }
   },
   "outputs": [],
   "source": [
    "filter = ['loan_amnt', 'term', 'int_rate', 'installment', 'grade', 'emp_length',\n",
    "       'home_ownership', 'annual_inc', 'loan_status', 'purpose', \n",
    "       'dti', 'delinq_2yrs', 'earliest_cr_line', 'inq_last_6mths',\n",
    "       'mths_since_last_delinq', 'mths_since_last_record', 'open_acc',\n",
    "       'pub_rec', 'revol_bal', 'revol_util', 'application_type',\n",
    "       'collections_12_mths_ex_med', 'mths_since_last_major_derog',\n",
    "       'policy_code', 'annual_inc_joint', 'dti_joint', 'acc_now_delinq',\n",
    "          'tot_coll_amt', 'tot_cur_bal', 'open_acc_6m',\n",
    "       'open_il_6m', 'open_il_12m', 'open_il_24m', 'mths_since_rcnt_il',\n",
    "       'total_bal_il', 'il_util', 'open_rv_12m', 'open_rv_24m', 'max_bal_bc',\n",
    "       'all_util', 'total_rev_hi_lim', 'inq_fi', 'total_cu_tl',\n",
    "       'inq_last_12m']"
   ]
  },
  {
   "cell_type": "code",
   "execution_count": 61,
   "metadata": {
    "ExecuteTime": {
     "end_time": "2018-08-08T02:18:59.295974Z",
     "start_time": "2018-08-08T02:18:59.045040Z"
    }
   },
   "outputs": [],
   "source": [
    "df_smaller = df.filter(items=filter)"
   ]
  },
  {
   "cell_type": "code",
   "execution_count": 62,
   "metadata": {
    "ExecuteTime": {
     "end_time": "2018-08-08T02:19:00.940282Z",
     "start_time": "2018-08-08T02:19:00.934847Z"
    }
   },
   "outputs": [
    {
     "data": {
      "text/plain": [
       "Index(['loan_amnt', 'term', 'int_rate', 'installment', 'grade', 'emp_length',\n",
       "       'home_ownership', 'annual_inc', 'loan_status', 'purpose', 'dti',\n",
       "       'delinq_2yrs', 'earliest_cr_line', 'inq_last_6mths',\n",
       "       'mths_since_last_delinq', 'mths_since_last_record', 'open_acc',\n",
       "       'pub_rec', 'revol_bal', 'revol_util', 'application_type',\n",
       "       'collections_12_mths_ex_med', 'mths_since_last_major_derog',\n",
       "       'policy_code', 'annual_inc_joint', 'dti_joint', 'acc_now_delinq',\n",
       "       'tot_coll_amt', 'tot_cur_bal', 'open_acc_6m', 'open_il_6m',\n",
       "       'open_il_12m', 'open_il_24m', 'mths_since_rcnt_il', 'total_bal_il',\n",
       "       'il_util', 'open_rv_12m', 'open_rv_24m', 'max_bal_bc', 'all_util',\n",
       "       'total_rev_hi_lim', 'inq_fi', 'total_cu_tl', 'inq_last_12m'],\n",
       "      dtype='object')"
      ]
     },
     "execution_count": 62,
     "metadata": {},
     "output_type": "execute_result"
    }
   ],
   "source": [
    "df_smaller.columns"
   ]
  },
  {
   "cell_type": "code",
   "execution_count": 63,
   "metadata": {
    "ExecuteTime": {
     "end_time": "2018-08-08T02:19:06.010967Z",
     "start_time": "2018-08-08T02:19:05.150523Z"
    },
    "scrolled": true
   },
   "outputs": [
    {
     "data": {
      "text/plain": [
       "loan_amnt                           0\n",
       "term                                0\n",
       "int_rate                            0\n",
       "installment                         0\n",
       "grade                               0\n",
       "emp_length                      44825\n",
       "home_ownership                      0\n",
       "annual_inc                          4\n",
       "loan_status                         0\n",
       "purpose                             0\n",
       "dti                                 0\n",
       "delinq_2yrs                        29\n",
       "earliest_cr_line                   29\n",
       "inq_last_6mths                     29\n",
       "mths_since_last_delinq         454312\n",
       "mths_since_last_record         750326\n",
       "open_acc                           29\n",
       "pub_rec                            29\n",
       "revol_bal                           0\n",
       "revol_util                        502\n",
       "application_type                    0\n",
       "collections_12_mths_ex_med        145\n",
       "mths_since_last_major_derog    665676\n",
       "policy_code                         0\n",
       "annual_inc_joint               886868\n",
       "dti_joint                      886870\n",
       "acc_now_delinq                     29\n",
       "tot_coll_amt                    70276\n",
       "tot_cur_bal                     70276\n",
       "open_acc_6m                    866007\n",
       "open_il_6m                     866007\n",
       "open_il_12m                    866007\n",
       "open_il_24m                    866007\n",
       "mths_since_rcnt_il             866569\n",
       "total_bal_il                   866007\n",
       "il_util                        868762\n",
       "open_rv_12m                    866007\n",
       "open_rv_24m                    866007\n",
       "max_bal_bc                     866007\n",
       "all_util                       866007\n",
       "total_rev_hi_lim                70276\n",
       "inq_fi                         866007\n",
       "total_cu_tl                    866007\n",
       "inq_last_12m                   866007\n",
       "dtype: int64"
      ]
     },
     "execution_count": 63,
     "metadata": {},
     "output_type": "execute_result"
    }
   ],
   "source": [
    "df_smaller.isnull().sum()"
   ]
  },
  {
   "cell_type": "code",
   "execution_count": 64,
   "metadata": {
    "ExecuteTime": {
     "end_time": "2018-08-08T02:19:16.223175Z",
     "start_time": "2018-08-08T02:19:16.022182Z"
    }
   },
   "outputs": [],
   "source": [
    "# Drop the filds have 90%+ null values, \n",
    "# as filling in the nulls can skew the model\n",
    "df_smaller.drop(['annual_inc_joint', 'dti_joint',  'open_acc_6m', 'open_il_6m',\n",
    "       'open_il_12m', 'open_il_24m', 'mths_since_rcnt_il', 'total_bal_il',\n",
    "       'il_util', 'open_rv_12m', 'open_rv_24m', 'max_bal_bc', 'all_util',\n",
    "        'inq_fi', 'total_cu_tl', 'inq_last_12m'],\n",
    "              axis=1, inplace=True)"
   ]
  },
  {
   "cell_type": "code",
   "execution_count": 65,
   "metadata": {
    "ExecuteTime": {
     "end_time": "2018-08-08T02:19:18.195056Z",
     "start_time": "2018-08-08T02:19:17.360447Z"
    }
   },
   "outputs": [],
   "source": [
    "df_smaller.rename(index=str, columns={\n",
    "    \"dti\": \"payment_to_income_ratio_individual\",\n",
    "}, inplace=True)"
   ]
  },
  {
   "cell_type": "code",
   "execution_count": 66,
   "metadata": {
    "ExecuteTime": {
     "end_time": "2018-08-08T02:19:20.355508Z",
     "start_time": "2018-08-08T02:19:20.349658Z"
    }
   },
   "outputs": [
    {
     "data": {
      "text/plain": [
       "Index(['loan_amnt', 'term', 'int_rate', 'installment', 'grade', 'emp_length',\n",
       "       'home_ownership', 'annual_inc', 'loan_status', 'purpose',\n",
       "       'payment_to_income_ratio_individual', 'delinq_2yrs', 'earliest_cr_line',\n",
       "       'inq_last_6mths', 'mths_since_last_delinq', 'mths_since_last_record',\n",
       "       'open_acc', 'pub_rec', 'revol_bal', 'revol_util', 'application_type',\n",
       "       'collections_12_mths_ex_med', 'mths_since_last_major_derog',\n",
       "       'policy_code', 'acc_now_delinq', 'tot_coll_amt', 'tot_cur_bal',\n",
       "       'total_rev_hi_lim'],\n",
       "      dtype='object')"
      ]
     },
     "execution_count": 66,
     "metadata": {},
     "output_type": "execute_result"
    }
   ],
   "source": [
    "df_smaller.columns"
   ]
  },
  {
   "cell_type": "code",
   "execution_count": 67,
   "metadata": {
    "ExecuteTime": {
     "end_time": "2018-08-08T02:19:27.308275Z",
     "start_time": "2018-08-08T02:19:27.278207Z"
    }
   },
   "outputs": [
    {
     "data": {
      "text/html": [
       "<div>\n",
       "<style scoped>\n",
       "    .dataframe tbody tr th:only-of-type {\n",
       "        vertical-align: middle;\n",
       "    }\n",
       "\n",
       "    .dataframe tbody tr th {\n",
       "        vertical-align: top;\n",
       "    }\n",
       "\n",
       "    .dataframe thead th {\n",
       "        text-align: right;\n",
       "    }\n",
       "</style>\n",
       "<table border=\"1\" class=\"dataframe\">\n",
       "  <thead>\n",
       "    <tr style=\"text-align: right;\">\n",
       "      <th></th>\n",
       "      <th>loan_amnt</th>\n",
       "      <th>term</th>\n",
       "      <th>int_rate</th>\n",
       "      <th>installment</th>\n",
       "      <th>grade</th>\n",
       "      <th>emp_length</th>\n",
       "      <th>home_ownership</th>\n",
       "      <th>annual_inc</th>\n",
       "      <th>loan_status</th>\n",
       "      <th>purpose</th>\n",
       "      <th>...</th>\n",
       "      <th>revol_bal</th>\n",
       "      <th>revol_util</th>\n",
       "      <th>application_type</th>\n",
       "      <th>collections_12_mths_ex_med</th>\n",
       "      <th>mths_since_last_major_derog</th>\n",
       "      <th>policy_code</th>\n",
       "      <th>acc_now_delinq</th>\n",
       "      <th>tot_coll_amt</th>\n",
       "      <th>tot_cur_bal</th>\n",
       "      <th>total_rev_hi_lim</th>\n",
       "    </tr>\n",
       "  </thead>\n",
       "  <tbody>\n",
       "    <tr>\n",
       "      <th>0</th>\n",
       "      <td>5000.0</td>\n",
       "      <td>36 months</td>\n",
       "      <td>10.65</td>\n",
       "      <td>162.87</td>\n",
       "      <td>B</td>\n",
       "      <td>10+ years</td>\n",
       "      <td>RENT</td>\n",
       "      <td>24000.0</td>\n",
       "      <td>Fully Paid</td>\n",
       "      <td>credit_card</td>\n",
       "      <td>...</td>\n",
       "      <td>13648.0</td>\n",
       "      <td>83.7</td>\n",
       "      <td>INDIVIDUAL</td>\n",
       "      <td>0.0</td>\n",
       "      <td>NaN</td>\n",
       "      <td>1.0</td>\n",
       "      <td>0.0</td>\n",
       "      <td>NaN</td>\n",
       "      <td>NaN</td>\n",
       "      <td>NaN</td>\n",
       "    </tr>\n",
       "    <tr>\n",
       "      <th>1</th>\n",
       "      <td>2500.0</td>\n",
       "      <td>60 months</td>\n",
       "      <td>15.27</td>\n",
       "      <td>59.83</td>\n",
       "      <td>C</td>\n",
       "      <td>&lt; 1 year</td>\n",
       "      <td>RENT</td>\n",
       "      <td>30000.0</td>\n",
       "      <td>Charged Off</td>\n",
       "      <td>car</td>\n",
       "      <td>...</td>\n",
       "      <td>1687.0</td>\n",
       "      <td>9.4</td>\n",
       "      <td>INDIVIDUAL</td>\n",
       "      <td>0.0</td>\n",
       "      <td>NaN</td>\n",
       "      <td>1.0</td>\n",
       "      <td>0.0</td>\n",
       "      <td>NaN</td>\n",
       "      <td>NaN</td>\n",
       "      <td>NaN</td>\n",
       "    </tr>\n",
       "    <tr>\n",
       "      <th>2</th>\n",
       "      <td>2400.0</td>\n",
       "      <td>36 months</td>\n",
       "      <td>15.96</td>\n",
       "      <td>84.33</td>\n",
       "      <td>C</td>\n",
       "      <td>10+ years</td>\n",
       "      <td>RENT</td>\n",
       "      <td>12252.0</td>\n",
       "      <td>Fully Paid</td>\n",
       "      <td>small_business</td>\n",
       "      <td>...</td>\n",
       "      <td>2956.0</td>\n",
       "      <td>98.5</td>\n",
       "      <td>INDIVIDUAL</td>\n",
       "      <td>0.0</td>\n",
       "      <td>NaN</td>\n",
       "      <td>1.0</td>\n",
       "      <td>0.0</td>\n",
       "      <td>NaN</td>\n",
       "      <td>NaN</td>\n",
       "      <td>NaN</td>\n",
       "    </tr>\n",
       "    <tr>\n",
       "      <th>3</th>\n",
       "      <td>10000.0</td>\n",
       "      <td>36 months</td>\n",
       "      <td>13.49</td>\n",
       "      <td>339.31</td>\n",
       "      <td>C</td>\n",
       "      <td>10+ years</td>\n",
       "      <td>RENT</td>\n",
       "      <td>49200.0</td>\n",
       "      <td>Fully Paid</td>\n",
       "      <td>other</td>\n",
       "      <td>...</td>\n",
       "      <td>5598.0</td>\n",
       "      <td>21.0</td>\n",
       "      <td>INDIVIDUAL</td>\n",
       "      <td>0.0</td>\n",
       "      <td>NaN</td>\n",
       "      <td>1.0</td>\n",
       "      <td>0.0</td>\n",
       "      <td>NaN</td>\n",
       "      <td>NaN</td>\n",
       "      <td>NaN</td>\n",
       "    </tr>\n",
       "    <tr>\n",
       "      <th>4</th>\n",
       "      <td>3000.0</td>\n",
       "      <td>60 months</td>\n",
       "      <td>12.69</td>\n",
       "      <td>67.79</td>\n",
       "      <td>B</td>\n",
       "      <td>1 year</td>\n",
       "      <td>RENT</td>\n",
       "      <td>80000.0</td>\n",
       "      <td>Current</td>\n",
       "      <td>other</td>\n",
       "      <td>...</td>\n",
       "      <td>27783.0</td>\n",
       "      <td>53.9</td>\n",
       "      <td>INDIVIDUAL</td>\n",
       "      <td>0.0</td>\n",
       "      <td>NaN</td>\n",
       "      <td>1.0</td>\n",
       "      <td>0.0</td>\n",
       "      <td>NaN</td>\n",
       "      <td>NaN</td>\n",
       "      <td>NaN</td>\n",
       "    </tr>\n",
       "  </tbody>\n",
       "</table>\n",
       "<p>5 rows × 28 columns</p>\n",
       "</div>"
      ],
      "text/plain": [
       "   loan_amnt        term  int_rate  installment grade emp_length  \\\n",
       "0     5000.0   36 months     10.65       162.87     B  10+ years   \n",
       "1     2500.0   60 months     15.27        59.83     C   < 1 year   \n",
       "2     2400.0   36 months     15.96        84.33     C  10+ years   \n",
       "3    10000.0   36 months     13.49       339.31     C  10+ years   \n",
       "4     3000.0   60 months     12.69        67.79     B     1 year   \n",
       "\n",
       "  home_ownership  annual_inc  loan_status         purpose        ...         \\\n",
       "0           RENT     24000.0   Fully Paid     credit_card        ...          \n",
       "1           RENT     30000.0  Charged Off             car        ...          \n",
       "2           RENT     12252.0   Fully Paid  small_business        ...          \n",
       "3           RENT     49200.0   Fully Paid           other        ...          \n",
       "4           RENT     80000.0      Current           other        ...          \n",
       "\n",
       "   revol_bal  revol_util application_type  collections_12_mths_ex_med  \\\n",
       "0    13648.0        83.7       INDIVIDUAL                         0.0   \n",
       "1     1687.0         9.4       INDIVIDUAL                         0.0   \n",
       "2     2956.0        98.5       INDIVIDUAL                         0.0   \n",
       "3     5598.0        21.0       INDIVIDUAL                         0.0   \n",
       "4    27783.0        53.9       INDIVIDUAL                         0.0   \n",
       "\n",
       "   mths_since_last_major_derog  policy_code  acc_now_delinq  tot_coll_amt  \\\n",
       "0                          NaN          1.0             0.0           NaN   \n",
       "1                          NaN          1.0             0.0           NaN   \n",
       "2                          NaN          1.0             0.0           NaN   \n",
       "3                          NaN          1.0             0.0           NaN   \n",
       "4                          NaN          1.0             0.0           NaN   \n",
       "\n",
       "   tot_cur_bal  total_rev_hi_lim  \n",
       "0          NaN               NaN  \n",
       "1          NaN               NaN  \n",
       "2          NaN               NaN  \n",
       "3          NaN               NaN  \n",
       "4          NaN               NaN  \n",
       "\n",
       "[5 rows x 28 columns]"
      ]
     },
     "execution_count": 67,
     "metadata": {},
     "output_type": "execute_result"
    }
   ],
   "source": [
    "df_smaller.head()"
   ]
  },
  {
   "cell_type": "code",
   "execution_count": 68,
   "metadata": {
    "ExecuteTime": {
     "end_time": "2018-08-08T02:19:29.501430Z",
     "start_time": "2018-08-08T02:19:29.261111Z"
    }
   },
   "outputs": [
    {
     "data": {
      "text/plain": [
       "<bound method DataFrame.info of         loan_amnt        term  int_rate  installment grade emp_length  \\\n",
       "0          5000.0   36 months     10.65       162.87     B  10+ years   \n",
       "1          2500.0   60 months     15.27        59.83     C   < 1 year   \n",
       "2          2400.0   36 months     15.96        84.33     C  10+ years   \n",
       "3         10000.0   36 months     13.49       339.31     C  10+ years   \n",
       "4          3000.0   60 months     12.69        67.79     B     1 year   \n",
       "5          5000.0   36 months      7.90       156.46     A    3 years   \n",
       "6          7000.0   60 months     15.96       170.08     C    8 years   \n",
       "7          3000.0   36 months     18.64       109.43     E    9 years   \n",
       "8          5600.0   60 months     21.28       152.39     F    4 years   \n",
       "9          5375.0   60 months     12.69       121.45     B   < 1 year   \n",
       "10         6500.0   60 months     14.65       153.45     C    5 years   \n",
       "11        12000.0   36 months     12.69       402.54     B  10+ years   \n",
       "12         9000.0   36 months     13.49       305.38     C   < 1 year   \n",
       "13         3000.0   36 months      9.91        96.68     B    3 years   \n",
       "14        10000.0   36 months     10.65       325.74     B    3 years   \n",
       "15         1000.0   36 months     16.29        35.31     D   < 1 year   \n",
       "16        10000.0   36 months     15.27       347.98     C    4 years   \n",
       "17         3600.0   36 months      6.03       109.57     A  10+ years   \n",
       "18         6000.0   36 months     11.71       198.46     B     1 year   \n",
       "19         9200.0   36 months      6.03       280.01     A    6 years   \n",
       "20        20250.0   60 months     15.27       484.63     C    3 years   \n",
       "21        21000.0   36 months     12.42       701.73     B  10+ years   \n",
       "22        10000.0   36 months     11.71       330.76     B  10+ years   \n",
       "23        10000.0   36 months     11.71       330.76     B    5 years   \n",
       "24         6000.0   36 months     11.71       198.46     B     1 year   \n",
       "25        15000.0   36 months      9.91       483.38     B    2 years   \n",
       "26        15000.0   36 months     14.27       514.64     C    9 years   \n",
       "27         5000.0   60 months     16.77       123.65     D    2 years   \n",
       "28         4000.0   36 months     11.71       132.31     B  10+ years   \n",
       "29         8500.0   36 months     11.71       281.15     B   < 1 year   \n",
       "...           ...         ...       ...          ...   ...        ...   \n",
       "887349    20000.0   36 months      6.99       617.46     A    2 years   \n",
       "887350    10300.0   60 months     13.66       237.86     C  10+ years   \n",
       "887351     4200.0   36 months     15.99       147.64     D  10+ years   \n",
       "887352    15000.0   36 months     11.99       498.15     B   < 1 year   \n",
       "887353    15000.0   60 months     11.44       329.44     B    4 years   \n",
       "887354     6000.0   36 months     17.86       216.50     D  10+ years   \n",
       "887355    26950.0   36 months      8.19       846.88     A        NaN   \n",
       "887356    23000.0   60 months     15.59       554.32     D  10+ years   \n",
       "887357    18700.0   60 months     17.86       473.44     D  10+ years   \n",
       "887358    25000.0   60 months     15.99       607.82     D    3 years   \n",
       "887359    25000.0   60 months     15.59       602.52     D        NaN   \n",
       "887360    26500.0   60 months      8.67       545.87     B  10+ years   \n",
       "887361    21000.0   36 months      6.03       639.15     A  10+ years   \n",
       "887362     8000.0   36 months      8.19       251.40     A    9 years   \n",
       "887363    12000.0   36 months      9.49       384.34     B    4 years   \n",
       "887364    10775.0   36 months      6.03       327.95     A   < 1 year   \n",
       "887365     7000.0   36 months     14.31       240.30     C  10+ years   \n",
       "887366     6225.0   36 months     16.49       220.37     D    2 years   \n",
       "887367    10000.0   36 months      6.49       306.45     A     1 year   \n",
       "887368    13150.0   60 months     14.99       312.77     C    8 years   \n",
       "887369     4000.0   36 months      8.67       126.59     B  10+ years   \n",
       "887370     7500.0   36 months      9.49       240.22     B    8 years   \n",
       "887371    10850.0   36 months     19.24       399.04     E        NaN   \n",
       "887372    12000.0   36 months     11.99       398.52     B   < 1 year   \n",
       "887373    11575.0   36 months     15.59       404.61     D  10+ years   \n",
       "887374    10000.0   36 months     11.99       332.10     B    8 years   \n",
       "887375    24000.0   36 months     11.99       797.03     B  10+ years   \n",
       "887376    13000.0   60 months     15.99       316.07     D    5 years   \n",
       "887377    12000.0   60 months     19.99       317.86     E     1 year   \n",
       "887378    20000.0   36 months     11.99       664.20     B  10+ years   \n",
       "\n",
       "       home_ownership  annual_inc  loan_status             purpose  \\\n",
       "0                RENT    24000.00   Fully Paid         credit_card   \n",
       "1                RENT    30000.00  Charged Off                 car   \n",
       "2                RENT    12252.00   Fully Paid      small_business   \n",
       "3                RENT    49200.00   Fully Paid               other   \n",
       "4                RENT    80000.00      Current               other   \n",
       "5                RENT    36000.00   Fully Paid             wedding   \n",
       "6                RENT    47004.00      Current  debt_consolidation   \n",
       "7                RENT    48000.00   Fully Paid                 car   \n",
       "8                 OWN    40000.00  Charged Off      small_business   \n",
       "9                RENT    15000.00  Charged Off               other   \n",
       "10                OWN    72000.00   Fully Paid  debt_consolidation   \n",
       "11                OWN    75000.00   Fully Paid  debt_consolidation   \n",
       "12               RENT    30000.00  Charged Off  debt_consolidation   \n",
       "13               RENT    15000.00   Fully Paid         credit_card   \n",
       "14               RENT   100000.00  Charged Off               other   \n",
       "15               RENT    28000.00   Fully Paid  debt_consolidation   \n",
       "16               RENT    42000.00   Fully Paid    home_improvement   \n",
       "17           MORTGAGE   110000.00   Fully Paid      major_purchase   \n",
       "18           MORTGAGE    84000.00   Fully Paid             medical   \n",
       "19               RENT    77385.19   Fully Paid  debt_consolidation   \n",
       "20               RENT    43370.00   Fully Paid  debt_consolidation   \n",
       "21               RENT   105000.00  Charged Off  debt_consolidation   \n",
       "22                OWN    50000.00   Fully Paid         credit_card   \n",
       "23               RENT    50000.00   Fully Paid  debt_consolidation   \n",
       "24               RENT    76000.00  Charged Off      major_purchase   \n",
       "25           MORTGAGE    92000.00   Fully Paid         credit_card   \n",
       "26               RENT    60000.00  Charged Off  debt_consolidation   \n",
       "27               RENT    50004.00  Charged Off               other   \n",
       "28           MORTGAGE   106000.00   Fully Paid  debt_consolidation   \n",
       "29               RENT    25000.00   Fully Paid         credit_card   \n",
       "...               ...         ...          ...                 ...   \n",
       "887349       MORTGAGE    72000.00      Current  debt_consolidation   \n",
       "887350           RENT    93600.00      Current  debt_consolidation   \n",
       "887351       MORTGAGE    48000.00  Charged Off             medical   \n",
       "887352           RENT    70000.00      Current  debt_consolidation   \n",
       "887353           RENT    57000.00      Current  debt_consolidation   \n",
       "887354       MORTGAGE    90000.00      Current  debt_consolidation   \n",
       "887355           RENT    54000.00      Current  debt_consolidation   \n",
       "887356       MORTGAGE    50000.00      Current         credit_card   \n",
       "887357           RENT    52000.00      Current  debt_consolidation   \n",
       "887358           RENT   103000.00      Current  debt_consolidation   \n",
       "887359            OWN    55000.00      Current  debt_consolidation   \n",
       "887360       MORTGAGE    92000.00      Current  debt_consolidation   \n",
       "887361       MORTGAGE    65000.00      Current         credit_card   \n",
       "887362       MORTGAGE    50000.00      Current  debt_consolidation   \n",
       "887363           RENT    40000.00      Current  debt_consolidation   \n",
       "887364           RENT    54000.00   Fully Paid  debt_consolidation   \n",
       "887365           RENT    57000.00      Current  debt_consolidation   \n",
       "887366           RENT    27000.00   Fully Paid  debt_consolidation   \n",
       "887367           RENT    75000.00      Current  debt_consolidation   \n",
       "887368       MORTGAGE    30000.00      Current      major_purchase   \n",
       "887369       MORTGAGE    50000.00   Fully Paid                 car   \n",
       "887370           RENT    40000.00      Current  debt_consolidation   \n",
       "887371            OWN    32000.00  Charged Off  debt_consolidation   \n",
       "887372       MORTGAGE    63000.00      Current         credit_card   \n",
       "887373           RENT    25400.00      Current         credit_card   \n",
       "887374           RENT    31000.00      Current  debt_consolidation   \n",
       "887375       MORTGAGE    79000.00      Current    home_improvement   \n",
       "887376           RENT    35000.00      Current  debt_consolidation   \n",
       "887377           RENT    64400.00      Current  debt_consolidation   \n",
       "887378           RENT   100000.00      Current         credit_card   \n",
       "\n",
       "              ...         revol_bal  revol_util application_type  \\\n",
       "0             ...           13648.0       83.70       INDIVIDUAL   \n",
       "1             ...            1687.0        9.40       INDIVIDUAL   \n",
       "2             ...            2956.0       98.50       INDIVIDUAL   \n",
       "3             ...            5598.0       21.00       INDIVIDUAL   \n",
       "4             ...           27783.0       53.90       INDIVIDUAL   \n",
       "5             ...            7963.0       28.30       INDIVIDUAL   \n",
       "6             ...           17726.0       85.60       INDIVIDUAL   \n",
       "7             ...            8221.0       87.50       INDIVIDUAL   \n",
       "8             ...            5210.0       32.60       INDIVIDUAL   \n",
       "9             ...            9279.0       36.50       INDIVIDUAL   \n",
       "10            ...            4032.0       20.60       INDIVIDUAL   \n",
       "11            ...           23336.0       67.10       INDIVIDUAL   \n",
       "12            ...           10452.0       91.70       INDIVIDUAL   \n",
       "13            ...            7323.0       43.10       INDIVIDUAL   \n",
       "14            ...           11997.0       55.50       INDIVIDUAL   \n",
       "15            ...            6524.0       81.50       INDIVIDUAL   \n",
       "16            ...           24043.0       70.20       INDIVIDUAL   \n",
       "17            ...           22836.0       16.00       INDIVIDUAL   \n",
       "18            ...               0.0       37.73       INDIVIDUAL   \n",
       "19            ...            7314.0       23.10       INDIVIDUAL   \n",
       "20            ...           17813.0       85.60       INDIVIDUAL   \n",
       "21            ...           32135.0       90.30       INDIVIDUAL   \n",
       "22            ...           10056.0       82.40       INDIVIDUAL   \n",
       "23            ...           17800.0       91.80       INDIVIDUAL   \n",
       "24            ...            5963.0       29.70       INDIVIDUAL   \n",
       "25            ...           13707.0       93.90       INDIVIDUAL   \n",
       "26            ...            5872.0       57.60       INDIVIDUAL   \n",
       "27            ...            4345.0       59.50       INDIVIDUAL   \n",
       "28            ...            6110.0       37.70       INDIVIDUAL   \n",
       "29            ...            6441.0       59.10       INDIVIDUAL   \n",
       "...           ...               ...         ...              ...   \n",
       "887349        ...           21100.0       53.10       INDIVIDUAL   \n",
       "887350        ...           10260.0       46.60       INDIVIDUAL   \n",
       "887351        ...           12943.0       63.40       INDIVIDUAL   \n",
       "887352        ...            9508.0       98.00       INDIVIDUAL   \n",
       "887353        ...           14848.0       56.90       INDIVIDUAL   \n",
       "887354        ...            6707.0       78.90       INDIVIDUAL   \n",
       "887355        ...           32167.0       24.90       INDIVIDUAL   \n",
       "887356        ...           41546.0       63.30       INDIVIDUAL   \n",
       "887357        ...            7710.0       75.60       INDIVIDUAL   \n",
       "887358        ...           17275.0       92.40       INDIVIDUAL   \n",
       "887359        ...           13860.0       56.80       INDIVIDUAL   \n",
       "887360        ...           75645.0       65.10       INDIVIDUAL   \n",
       "887361        ...           23356.0       30.60       INDIVIDUAL   \n",
       "887362        ...            4611.0       63.20       INDIVIDUAL   \n",
       "887363        ...            8731.0       73.40       INDIVIDUAL   \n",
       "887364        ...           10776.0       25.80       INDIVIDUAL   \n",
       "887365        ...            2684.0       27.10       INDIVIDUAL   \n",
       "887366        ...            1756.0       97.60       INDIVIDUAL   \n",
       "887367        ...           10529.0       34.70       INDIVIDUAL   \n",
       "887368        ...             672.0        3.20       INDIVIDUAL   \n",
       "887369        ...            1700.0        5.60       INDIVIDUAL   \n",
       "887370        ...            6361.0       43.90       INDIVIDUAL   \n",
       "887371        ...            6987.0       41.60       INDIVIDUAL   \n",
       "887372        ...           21110.0       69.70       INDIVIDUAL   \n",
       "887373        ...           18266.0       65.00       INDIVIDUAL   \n",
       "887374        ...           14037.0       82.10       INDIVIDUAL   \n",
       "887375        ...            8621.0       84.50       INDIVIDUAL   \n",
       "887376        ...           11031.0       61.30       INDIVIDUAL   \n",
       "887377        ...            8254.0       30.60       INDIVIDUAL   \n",
       "887378        ...           33266.0       79.80       INDIVIDUAL   \n",
       "\n",
       "        collections_12_mths_ex_med  mths_since_last_major_derog  policy_code  \\\n",
       "0                              0.0                          NaN          1.0   \n",
       "1                              0.0                          NaN          1.0   \n",
       "2                              0.0                          NaN          1.0   \n",
       "3                              0.0                          NaN          1.0   \n",
       "4                              0.0                          NaN          1.0   \n",
       "5                              0.0                          NaN          1.0   \n",
       "6                              0.0                          NaN          1.0   \n",
       "7                              0.0                          NaN          1.0   \n",
       "8                              0.0                          NaN          1.0   \n",
       "9                              0.0                          NaN          1.0   \n",
       "10                             0.0                          NaN          1.0   \n",
       "11                             0.0                          NaN          1.0   \n",
       "12                             0.0                          NaN          1.0   \n",
       "13                             0.0                          NaN          1.0   \n",
       "14                             0.0                          NaN          1.0   \n",
       "15                             0.0                          NaN          1.0   \n",
       "16                             0.0                          NaN          1.0   \n",
       "17                             0.0                          NaN          1.0   \n",
       "18                             0.0                          NaN          1.0   \n",
       "19                             0.0                          NaN          1.0   \n",
       "20                             0.0                          NaN          1.0   \n",
       "21                             0.0                          NaN          1.0   \n",
       "22                             0.0                          NaN          1.0   \n",
       "23                             0.0                          NaN          1.0   \n",
       "24                             0.0                          NaN          1.0   \n",
       "25                             0.0                          NaN          1.0   \n",
       "26                             0.0                          NaN          1.0   \n",
       "27                             0.0                          NaN          1.0   \n",
       "28                             0.0                          NaN          1.0   \n",
       "29                             0.0                          NaN          1.0   \n",
       "...                            ...                          ...          ...   \n",
       "887349                         0.0                         70.0          1.0   \n",
       "887350                         0.0                          NaN          1.0   \n",
       "887351                         0.0                         38.0          1.0   \n",
       "887352                         0.0                          NaN          1.0   \n",
       "887353                         0.0                          NaN          1.0   \n",
       "887354                         0.0                          NaN          1.0   \n",
       "887355                         0.0                          NaN          1.0   \n",
       "887356                         0.0                          NaN          1.0   \n",
       "887357                         0.0                         30.0          1.0   \n",
       "887358                         0.0                          NaN          1.0   \n",
       "887359                         0.0                          NaN          1.0   \n",
       "887360                         0.0                          NaN          1.0   \n",
       "887361                         0.0                          NaN          1.0   \n",
       "887362                         0.0                         24.0          1.0   \n",
       "887363                         0.0                          8.0          1.0   \n",
       "887364                         0.0                         28.0          1.0   \n",
       "887365                         0.0                         10.0          1.0   \n",
       "887366                         0.0                          NaN          1.0   \n",
       "887367                         0.0                          NaN          1.0   \n",
       "887368                         0.0                          NaN          1.0   \n",
       "887369                         0.0                          NaN          1.0   \n",
       "887370                         0.0                         69.0          1.0   \n",
       "887371                         0.0                          NaN          1.0   \n",
       "887372                         0.0                          9.0          1.0   \n",
       "887373                         0.0                          NaN          1.0   \n",
       "887374                         0.0                          NaN          1.0   \n",
       "887375                         0.0                         29.0          1.0   \n",
       "887376                         0.0                          NaN          1.0   \n",
       "887377                         1.0                         22.0          1.0   \n",
       "887378                         0.0                          NaN          1.0   \n",
       "\n",
       "        acc_now_delinq  tot_coll_amt  tot_cur_bal  total_rev_hi_lim  \n",
       "0                  0.0           NaN          NaN               NaN  \n",
       "1                  0.0           NaN          NaN               NaN  \n",
       "2                  0.0           NaN          NaN               NaN  \n",
       "3                  0.0           NaN          NaN               NaN  \n",
       "4                  0.0           NaN          NaN               NaN  \n",
       "5                  0.0           NaN          NaN               NaN  \n",
       "6                  0.0           NaN          NaN               NaN  \n",
       "7                  0.0           NaN          NaN               NaN  \n",
       "8                  0.0           NaN          NaN               NaN  \n",
       "9                  0.0           NaN          NaN               NaN  \n",
       "10                 0.0           NaN          NaN               NaN  \n",
       "11                 0.0           NaN          NaN               NaN  \n",
       "12                 0.0           NaN          NaN               NaN  \n",
       "13                 0.0           NaN          NaN               NaN  \n",
       "14                 0.0           NaN          NaN               NaN  \n",
       "15                 0.0           NaN          NaN               NaN  \n",
       "16                 0.0           NaN          NaN               NaN  \n",
       "17                 0.0           NaN          NaN               NaN  \n",
       "18                 0.0           NaN          NaN               NaN  \n",
       "19                 0.0           NaN          NaN               NaN  \n",
       "20                 0.0           NaN          NaN               NaN  \n",
       "21                 0.0           NaN          NaN               NaN  \n",
       "22                 0.0           NaN          NaN               NaN  \n",
       "23                 0.0           NaN          NaN               NaN  \n",
       "24                 0.0           NaN          NaN               NaN  \n",
       "25                 0.0           NaN          NaN               NaN  \n",
       "26                 0.0           NaN          NaN               NaN  \n",
       "27                 0.0           NaN          NaN               NaN  \n",
       "28                 0.0           NaN          NaN               NaN  \n",
       "29                 0.0           NaN          NaN               NaN  \n",
       "...                ...           ...          ...               ...  \n",
       "887349             0.0           0.0     388140.0           39700.0  \n",
       "887350             0.0          50.0      41956.0           22000.0  \n",
       "887351             0.0           0.0     207975.0           20400.0  \n",
       "887352             0.0           0.0      15724.0            9700.0  \n",
       "887353             0.0           0.0      33529.0           26100.0  \n",
       "887354             0.0           0.0     384500.0            8500.0  \n",
       "887355             0.0           0.0      41650.0          129100.0  \n",
       "887356             0.0           0.0      48978.0           65600.0  \n",
       "887357             0.0           0.0      40164.0           10200.0  \n",
       "887358             0.0           0.0      17275.0           18700.0  \n",
       "887359             0.0           0.0      13860.0           24400.0  \n",
       "887360             0.0           0.0     115511.0          118600.0  \n",
       "887361             0.0           0.0     212337.0           76300.0  \n",
       "887362             0.0           0.0     211412.0            7300.0  \n",
       "887363             0.0           0.0      20671.0           11900.0  \n",
       "887364             0.0           0.0      24696.0           41700.0  \n",
       "887365             0.0           0.0      32135.0            9900.0  \n",
       "887366             0.0           0.0       8357.0            1800.0  \n",
       "887367             0.0           0.0      88120.0           30300.0  \n",
       "887368             0.0           0.0     158977.0           20700.0  \n",
       "887369             0.0           0.0      18979.0           30100.0  \n",
       "887370             0.0        3174.0      18611.0           14500.0  \n",
       "887371             0.0         972.0      53777.0           16800.0  \n",
       "887372             0.0           0.0     237002.0           30300.0  \n",
       "887373             0.0           0.0      19798.0           28100.0  \n",
       "887374             0.0           0.0      25274.0           17100.0  \n",
       "887375             0.0           0.0     140285.0           10200.0  \n",
       "887376             0.0           0.0      34178.0           18000.0  \n",
       "887377             0.0           0.0      58418.0           27000.0  \n",
       "887378             0.0           0.0      33307.0           41700.0  \n",
       "\n",
       "[887379 rows x 28 columns]>"
      ]
     },
     "execution_count": 68,
     "metadata": {},
     "output_type": "execute_result"
    }
   ],
   "source": [
    "df_smaller.info"
   ]
  },
  {
   "cell_type": "code",
   "execution_count": 69,
   "metadata": {
    "ExecuteTime": {
     "end_time": "2018-08-08T02:19:33.660781Z",
     "start_time": "2018-08-08T02:19:33.405074Z"
    }
   },
   "outputs": [],
   "source": [
    "df_clean = df_smaller.copy()"
   ]
  },
  {
   "cell_type": "code",
   "execution_count": 70,
   "metadata": {
    "ExecuteTime": {
     "end_time": "2018-08-08T02:19:35.705574Z",
     "start_time": "2018-08-08T02:19:35.074627Z"
    }
   },
   "outputs": [
    {
     "data": {
      "text/plain": [
       "loan_amnt                                  0\n",
       "term                                       0\n",
       "int_rate                                   0\n",
       "installment                                0\n",
       "grade                                      0\n",
       "emp_length                             44825\n",
       "home_ownership                             0\n",
       "annual_inc                                 4\n",
       "loan_status                                0\n",
       "purpose                                    0\n",
       "payment_to_income_ratio_individual         0\n",
       "delinq_2yrs                               29\n",
       "earliest_cr_line                          29\n",
       "inq_last_6mths                            29\n",
       "mths_since_last_delinq                454312\n",
       "mths_since_last_record                750326\n",
       "open_acc                                  29\n",
       "pub_rec                                   29\n",
       "revol_bal                                  0\n",
       "revol_util                               502\n",
       "application_type                           0\n",
       "collections_12_mths_ex_med               145\n",
       "mths_since_last_major_derog           665676\n",
       "policy_code                                0\n",
       "acc_now_delinq                            29\n",
       "tot_coll_amt                           70276\n",
       "tot_cur_bal                            70276\n",
       "total_rev_hi_lim                       70276\n",
       "dtype: int64"
      ]
     },
     "execution_count": 70,
     "metadata": {},
     "output_type": "execute_result"
    }
   ],
   "source": [
    "df_clean.isnull().sum()"
   ]
  },
  {
   "cell_type": "code",
   "execution_count": 71,
   "metadata": {
    "ExecuteTime": {
     "end_time": "2018-08-08T02:19:37.007821Z",
     "start_time": "2018-08-08T02:19:37.004036Z"
    }
   },
   "outputs": [],
   "source": [
    "excluded = ['Issued',\n",
    "                'Does not meet the credit policy. Status:Charged Off',\n",
    "                'Does not meet the credit policy. Status:Fully Paid',\n",
    "               ]\n",
    "good = ['Current', 'Fully Paid']\n",
    "bad = ['Charged Off', 'Default', 'In Grace Period', 'Late (16-30 days)', 'Late (31-120 days)']"
   ]
  },
  {
   "cell_type": "code",
   "execution_count": 72,
   "metadata": {
    "ExecuteTime": {
     "end_time": "2018-08-08T02:19:38.277984Z",
     "start_time": "2018-08-08T02:19:38.273080Z"
    }
   },
   "outputs": [],
   "source": [
    "def get_status (status):\n",
    "    \"\"\"\n",
    "    Assign loans to either good or bad loans based on their status\n",
    "    \"\"\"\n",
    "    try: \n",
    "        status=status.strip()\n",
    "        if status in good:\n",
    "            return \"good\"\n",
    "        elif status in bad:\n",
    "            return \"bad\"\n",
    "        else: \n",
    "            return \"excluded\"\n",
    "    except: \n",
    "        return \"excluded\""
   ]
  },
  {
   "cell_type": "code",
   "execution_count": 73,
   "metadata": {
    "ExecuteTime": {
     "end_time": "2018-08-08T02:19:39.970461Z",
     "start_time": "2018-08-08T02:19:39.572030Z"
    }
   },
   "outputs": [],
   "source": [
    "df_clean['loan_status'] = df_clean['loan_status'].apply(lambda x: get_status(x))"
   ]
  },
  {
   "cell_type": "code",
   "execution_count": 74,
   "metadata": {
    "ExecuteTime": {
     "end_time": "2018-08-08T02:19:41.528269Z",
     "start_time": "2018-08-08T02:19:41.251412Z"
    }
   },
   "outputs": [],
   "source": [
    "df_clean = df_clean[df_clean['loan_status']!='excluded']"
   ]
  },
  {
   "cell_type": "code",
   "execution_count": 75,
   "metadata": {
    "ExecuteTime": {
     "end_time": "2018-08-08T02:19:43.799939Z",
     "start_time": "2018-08-08T02:19:43.270667Z"
    }
   },
   "outputs": [
    {
     "data": {
      "text/html": [
       "<div>\n",
       "<style scoped>\n",
       "    .dataframe tbody tr th:only-of-type {\n",
       "        vertical-align: middle;\n",
       "    }\n",
       "\n",
       "    .dataframe tbody tr th {\n",
       "        vertical-align: top;\n",
       "    }\n",
       "\n",
       "    .dataframe thead th {\n",
       "        text-align: right;\n",
       "    }\n",
       "</style>\n",
       "<table border=\"1\" class=\"dataframe\">\n",
       "  <thead>\n",
       "    <tr style=\"text-align: right;\">\n",
       "      <th></th>\n",
       "      <th>loan_amnt</th>\n",
       "      <th>term</th>\n",
       "      <th>int_rate</th>\n",
       "      <th>installment</th>\n",
       "      <th>grade</th>\n",
       "      <th>emp_length</th>\n",
       "      <th>home_ownership</th>\n",
       "      <th>annual_inc</th>\n",
       "      <th>purpose</th>\n",
       "      <th>payment_to_income_ratio_individual</th>\n",
       "      <th>...</th>\n",
       "      <th>revol_bal</th>\n",
       "      <th>revol_util</th>\n",
       "      <th>application_type</th>\n",
       "      <th>collections_12_mths_ex_med</th>\n",
       "      <th>mths_since_last_major_derog</th>\n",
       "      <th>policy_code</th>\n",
       "      <th>acc_now_delinq</th>\n",
       "      <th>tot_coll_amt</th>\n",
       "      <th>tot_cur_bal</th>\n",
       "      <th>total_rev_hi_lim</th>\n",
       "    </tr>\n",
       "    <tr>\n",
       "      <th>loan_status</th>\n",
       "      <th></th>\n",
       "      <th></th>\n",
       "      <th></th>\n",
       "      <th></th>\n",
       "      <th></th>\n",
       "      <th></th>\n",
       "      <th></th>\n",
       "      <th></th>\n",
       "      <th></th>\n",
       "      <th></th>\n",
       "      <th></th>\n",
       "      <th></th>\n",
       "      <th></th>\n",
       "      <th></th>\n",
       "      <th></th>\n",
       "      <th></th>\n",
       "      <th></th>\n",
       "      <th></th>\n",
       "      <th></th>\n",
       "      <th></th>\n",
       "      <th></th>\n",
       "    </tr>\n",
       "  </thead>\n",
       "  <tbody>\n",
       "    <tr>\n",
       "      <th>bad</th>\n",
       "      <td>66668</td>\n",
       "      <td>66668</td>\n",
       "      <td>66668</td>\n",
       "      <td>66668</td>\n",
       "      <td>66668</td>\n",
       "      <td>62973</td>\n",
       "      <td>66668</td>\n",
       "      <td>66668</td>\n",
       "      <td>66668</td>\n",
       "      <td>66668</td>\n",
       "      <td>...</td>\n",
       "      <td>66668</td>\n",
       "      <td>66607</td>\n",
       "      <td>66668</td>\n",
       "      <td>66662</td>\n",
       "      <td>15124</td>\n",
       "      <td>66668</td>\n",
       "      <td>66668</td>\n",
       "      <td>56417</td>\n",
       "      <td>56417</td>\n",
       "      <td>56417</td>\n",
       "    </tr>\n",
       "    <tr>\n",
       "      <th>good</th>\n",
       "      <td>809502</td>\n",
       "      <td>809502</td>\n",
       "      <td>809502</td>\n",
       "      <td>809502</td>\n",
       "      <td>809502</td>\n",
       "      <td>769037</td>\n",
       "      <td>809502</td>\n",
       "      <td>809502</td>\n",
       "      <td>809502</td>\n",
       "      <td>809502</td>\n",
       "      <td>...</td>\n",
       "      <td>809502</td>\n",
       "      <td>809104</td>\n",
       "      <td>809502</td>\n",
       "      <td>809452</td>\n",
       "      <td>204054</td>\n",
       "      <td>809502</td>\n",
       "      <td>809502</td>\n",
       "      <td>752226</td>\n",
       "      <td>752226</td>\n",
       "      <td>752226</td>\n",
       "    </tr>\n",
       "  </tbody>\n",
       "</table>\n",
       "<p>2 rows × 27 columns</p>\n",
       "</div>"
      ],
      "text/plain": [
       "             loan_amnt    term  int_rate  installment   grade  emp_length  \\\n",
       "loan_status                                                                 \n",
       "bad              66668   66668     66668        66668   66668       62973   \n",
       "good            809502  809502    809502       809502  809502      769037   \n",
       "\n",
       "             home_ownership  annual_inc  purpose  \\\n",
       "loan_status                                        \n",
       "bad                   66668       66668    66668   \n",
       "good                 809502      809502   809502   \n",
       "\n",
       "             payment_to_income_ratio_individual        ...         revol_bal  \\\n",
       "loan_status                                            ...                     \n",
       "bad                                       66668        ...             66668   \n",
       "good                                     809502        ...            809502   \n",
       "\n",
       "             revol_util  application_type  collections_12_mths_ex_med  \\\n",
       "loan_status                                                             \n",
       "bad               66607             66668                       66662   \n",
       "good             809104            809502                      809452   \n",
       "\n",
       "             mths_since_last_major_derog  policy_code  acc_now_delinq  \\\n",
       "loan_status                                                             \n",
       "bad                                15124        66668           66668   \n",
       "good                              204054       809502          809502   \n",
       "\n",
       "             tot_coll_amt  tot_cur_bal  total_rev_hi_lim  \n",
       "loan_status                                               \n",
       "bad                 56417        56417             56417  \n",
       "good               752226       752226            752226  \n",
       "\n",
       "[2 rows x 27 columns]"
      ]
     },
     "execution_count": 75,
     "metadata": {},
     "output_type": "execute_result"
    }
   ],
   "source": [
    "df_clean.groupby('loan_status').count()"
   ]
  },
  {
   "cell_type": "code",
   "execution_count": 76,
   "metadata": {
    "ExecuteTime": {
     "end_time": "2018-08-08T02:19:49.548348Z",
     "start_time": "2018-08-08T02:19:48.931783Z"
    }
   },
   "outputs": [
    {
     "data": {
      "text/plain": [
       "loan_amnt                                  0\n",
       "term                                       0\n",
       "int_rate                                   0\n",
       "installment                                0\n",
       "grade                                      0\n",
       "emp_length                             44160\n",
       "home_ownership                             0\n",
       "annual_inc                                 0\n",
       "loan_status                                0\n",
       "purpose                                    0\n",
       "payment_to_income_ratio_individual         0\n",
       "delinq_2yrs                                0\n",
       "earliest_cr_line                           0\n",
       "inq_last_6mths                             0\n",
       "mths_since_last_delinq                449097\n",
       "mths_since_last_record                741573\n",
       "open_acc                                   0\n",
       "pub_rec                                    0\n",
       "revol_bal                                  0\n",
       "revol_util                               459\n",
       "application_type                           0\n",
       "collections_12_mths_ex_med                56\n",
       "mths_since_last_major_derog           656992\n",
       "policy_code                                0\n",
       "acc_now_delinq                             0\n",
       "tot_coll_amt                           67527\n",
       "tot_cur_bal                            67527\n",
       "total_rev_hi_lim                       67527\n",
       "dtype: int64"
      ]
     },
     "execution_count": 76,
     "metadata": {},
     "output_type": "execute_result"
    }
   ],
   "source": [
    "df_clean.isnull().sum()"
   ]
  },
  {
   "cell_type": "code",
   "execution_count": 77,
   "metadata": {
    "ExecuteTime": {
     "end_time": "2018-08-08T02:19:51.908791Z",
     "start_time": "2018-08-08T02:19:51.899642Z"
    }
   },
   "outputs": [
    {
     "data": {
      "text/plain": [
       "Index(['loan_amnt', 'term', 'int_rate', 'installment', 'grade', 'emp_length',\n",
       "       'home_ownership', 'annual_inc', 'loan_status', 'purpose',\n",
       "       'payment_to_income_ratio_individual', 'delinq_2yrs', 'earliest_cr_line',\n",
       "       'inq_last_6mths', 'mths_since_last_delinq', 'mths_since_last_record',\n",
       "       'open_acc', 'pub_rec', 'revol_bal', 'revol_util', 'application_type',\n",
       "       'collections_12_mths_ex_med', 'mths_since_last_major_derog',\n",
       "       'policy_code', 'acc_now_delinq', 'tot_coll_amt', 'tot_cur_bal',\n",
       "       'total_rev_hi_lim'],\n",
       "      dtype='object')"
      ]
     },
     "execution_count": 77,
     "metadata": {},
     "output_type": "execute_result"
    }
   ],
   "source": [
    "df_clean.columns"
   ]
  },
  {
   "cell_type": "code",
   "execution_count": 78,
   "metadata": {
    "ExecuteTime": {
     "end_time": "2018-08-08T02:19:57.807304Z",
     "start_time": "2018-08-08T02:19:57.169303Z"
    }
   },
   "outputs": [
    {
     "data": {
      "text/plain": [
       "loan_amnt                                  0\n",
       "term                                       0\n",
       "int_rate                                   0\n",
       "installment                                0\n",
       "grade                                      0\n",
       "emp_length                             44160\n",
       "home_ownership                             0\n",
       "annual_inc                                 0\n",
       "loan_status                                0\n",
       "purpose                                    0\n",
       "payment_to_income_ratio_individual         0\n",
       "delinq_2yrs                                0\n",
       "earliest_cr_line                           0\n",
       "inq_last_6mths                             0\n",
       "mths_since_last_delinq                449097\n",
       "mths_since_last_record                741573\n",
       "open_acc                                   0\n",
       "pub_rec                                    0\n",
       "revol_bal                                  0\n",
       "revol_util                               459\n",
       "application_type                           0\n",
       "collections_12_mths_ex_med                56\n",
       "mths_since_last_major_derog           656992\n",
       "policy_code                                0\n",
       "acc_now_delinq                             0\n",
       "tot_coll_amt                           67527\n",
       "tot_cur_bal                            67527\n",
       "total_rev_hi_lim                       67527\n",
       "dtype: int64"
      ]
     },
     "execution_count": 78,
     "metadata": {},
     "output_type": "execute_result"
    }
   ],
   "source": [
    "# Check null values for rest of records\n",
    "\n",
    "df_clean.isnull().sum()"
   ]
  },
  {
   "cell_type": "code",
   "execution_count": 79,
   "metadata": {
    "ExecuteTime": {
     "end_time": "2018-08-08T02:19:59.564862Z",
     "start_time": "2018-08-08T02:19:59.169836Z"
    }
   },
   "outputs": [],
   "source": [
    "# Fill the null value for 'mths_since_last_delinq' with zero as zero is default case for majority of loans\n",
    "\n",
    "fill_with_zero = {\n",
    "    'mths_since_last_delinq':0,\n",
    "    'mths_since_last_record':0,\n",
    "    'collections_12_mths_ex_med':0,\n",
    "    'mths_since_last_major_derog':0,\n",
    "    'tot_coll_amt':0\n",
    "}\n",
    "            \n",
    "df_clean.fillna(fill_with_zero,inplace=True)"
   ]
  },
  {
   "cell_type": "code",
   "execution_count": 80,
   "metadata": {
    "ExecuteTime": {
     "end_time": "2018-08-08T02:20:02.942922Z",
     "start_time": "2018-08-08T02:20:02.294731Z"
    }
   },
   "outputs": [
    {
     "data": {
      "text/plain": [
       "loan_amnt                                 0\n",
       "term                                      0\n",
       "int_rate                                  0\n",
       "installment                               0\n",
       "grade                                     0\n",
       "emp_length                            44160\n",
       "home_ownership                            0\n",
       "annual_inc                                0\n",
       "loan_status                               0\n",
       "purpose                                   0\n",
       "payment_to_income_ratio_individual        0\n",
       "delinq_2yrs                               0\n",
       "earliest_cr_line                          0\n",
       "inq_last_6mths                            0\n",
       "mths_since_last_delinq                    0\n",
       "mths_since_last_record                    0\n",
       "open_acc                                  0\n",
       "pub_rec                                   0\n",
       "revol_bal                                 0\n",
       "revol_util                              459\n",
       "application_type                          0\n",
       "collections_12_mths_ex_med                0\n",
       "mths_since_last_major_derog               0\n",
       "policy_code                               0\n",
       "acc_now_delinq                            0\n",
       "tot_coll_amt                              0\n",
       "tot_cur_bal                           67527\n",
       "total_rev_hi_lim                      67527\n",
       "dtype: int64"
      ]
     },
     "execution_count": 80,
     "metadata": {},
     "output_type": "execute_result"
    }
   ],
   "source": [
    "\n",
    "df_clean.isnull().sum()"
   ]
  },
  {
   "cell_type": "code",
   "execution_count": 81,
   "metadata": {
    "ExecuteTime": {
     "end_time": "2018-08-08T02:20:04.367168Z",
     "start_time": "2018-08-08T02:20:04.309496Z"
    }
   },
   "outputs": [],
   "source": [
    "# Fill the null value for 'revol util' with means\n",
    "\n",
    "df_clean['revol_util'].fillna(\n",
    "    value=df_clean['revol_util'].mean(), inplace=True)"
   ]
  },
  {
   "cell_type": "code",
   "execution_count": 82,
   "metadata": {
    "ExecuteTime": {
     "end_time": "2018-08-08T02:20:05.676042Z",
     "start_time": "2018-08-08T02:20:05.629553Z"
    }
   },
   "outputs": [],
   "source": [
    "# Fill the null value for 'tot_cur_bal' with means\n",
    "\n",
    "df_clean['tot_cur_bal'].fillna(\n",
    "    value=df_clean['tot_cur_bal'].mean(), inplace=True)"
   ]
  },
  {
   "cell_type": "code",
   "execution_count": 83,
   "metadata": {
    "ExecuteTime": {
     "end_time": "2018-08-08T02:20:07.137470Z",
     "start_time": "2018-08-08T02:20:07.091099Z"
    }
   },
   "outputs": [],
   "source": [
    "# Fill the null value for 'total_rev_hi_lim' with means\n",
    "\n",
    "df_clean['total_rev_hi_lim'].fillna(\n",
    "    value=df_clean['total_rev_hi_lim'].mean(), inplace=True)"
   ]
  },
  {
   "cell_type": "code",
   "execution_count": 84,
   "metadata": {
    "ExecuteTime": {
     "end_time": "2018-08-08T02:20:09.122094Z",
     "start_time": "2018-08-08T02:20:08.475706Z"
    }
   },
   "outputs": [
    {
     "data": {
      "text/plain": [
       "loan_amnt                                 0\n",
       "term                                      0\n",
       "int_rate                                  0\n",
       "installment                               0\n",
       "grade                                     0\n",
       "emp_length                            44160\n",
       "home_ownership                            0\n",
       "annual_inc                                0\n",
       "loan_status                               0\n",
       "purpose                                   0\n",
       "payment_to_income_ratio_individual        0\n",
       "delinq_2yrs                               0\n",
       "earliest_cr_line                          0\n",
       "inq_last_6mths                            0\n",
       "mths_since_last_delinq                    0\n",
       "mths_since_last_record                    0\n",
       "open_acc                                  0\n",
       "pub_rec                                   0\n",
       "revol_bal                                 0\n",
       "revol_util                                0\n",
       "application_type                          0\n",
       "collections_12_mths_ex_med                0\n",
       "mths_since_last_major_derog               0\n",
       "policy_code                               0\n",
       "acc_now_delinq                            0\n",
       "tot_coll_amt                              0\n",
       "tot_cur_bal                               0\n",
       "total_rev_hi_lim                          0\n",
       "dtype: int64"
      ]
     },
     "execution_count": 84,
     "metadata": {},
     "output_type": "execute_result"
    }
   ],
   "source": [
    "df_clean.isnull().sum()"
   ]
  },
  {
   "cell_type": "code",
   "execution_count": 85,
   "metadata": {
    "ExecuteTime": {
     "end_time": "2018-08-08T02:20:10.625363Z",
     "start_time": "2018-08-08T02:20:10.620673Z"
    }
   },
   "outputs": [],
   "source": [
    "def get_employee_length(length):\n",
    "    \"\"\"\n",
    "    This is to extract numerical value of emp_length\n",
    "    For simplicity, approximation was used.\n",
    "    <1 years will be treated as 1 year\n",
    "    >10 years will be treated as 10 years\n",
    "    \"\"\"\n",
    "    try:\n",
    "        length = length.strip()\n",
    "        year = re.findall(r'(\\d+)', length)\n",
    "        return int(year[0]) \n",
    "    except:\n",
    "        return None"
   ]
  },
  {
   "cell_type": "code",
   "execution_count": 86,
   "metadata": {
    "ExecuteTime": {
     "end_time": "2018-08-08T02:20:13.844317Z",
     "start_time": "2018-08-08T02:20:12.035370Z"
    }
   },
   "outputs": [],
   "source": [
    "df_clean['emp_length'] = df_clean['emp_length'].apply(lambda x: get_employee_length(x))"
   ]
  },
  {
   "cell_type": "code",
   "execution_count": 87,
   "metadata": {
    "ExecuteTime": {
     "end_time": "2018-08-08T02:20:15.337282Z",
     "start_time": "2018-08-08T02:20:15.328930Z"
    }
   },
   "outputs": [],
   "source": [
    "df_clean['emp_length'].fillna(\n",
    "    value=df_clean['emp_length'].mean(), inplace=True)"
   ]
  },
  {
   "cell_type": "code",
   "execution_count": 88,
   "metadata": {
    "ExecuteTime": {
     "end_time": "2018-08-08T02:20:17.660701Z",
     "start_time": "2018-08-08T02:20:16.728934Z"
    }
   },
   "outputs": [
    {
     "data": {
      "text/plain": [
       "loan_amnt                             0\n",
       "term                                  0\n",
       "int_rate                              0\n",
       "installment                           0\n",
       "grade                                 0\n",
       "emp_length                            0\n",
       "home_ownership                        0\n",
       "annual_inc                            0\n",
       "loan_status                           0\n",
       "purpose                               0\n",
       "payment_to_income_ratio_individual    0\n",
       "delinq_2yrs                           0\n",
       "earliest_cr_line                      0\n",
       "inq_last_6mths                        0\n",
       "mths_since_last_delinq                0\n",
       "mths_since_last_record                0\n",
       "open_acc                              0\n",
       "pub_rec                               0\n",
       "revol_bal                             0\n",
       "revol_util                            0\n",
       "application_type                      0\n",
       "collections_12_mths_ex_med            0\n",
       "mths_since_last_major_derog           0\n",
       "policy_code                           0\n",
       "acc_now_delinq                        0\n",
       "tot_coll_amt                          0\n",
       "tot_cur_bal                           0\n",
       "total_rev_hi_lim                      0\n",
       "dtype: int64"
      ]
     },
     "execution_count": 88,
     "metadata": {},
     "output_type": "execute_result"
    }
   ],
   "source": [
    "# All Null values have been appropriately handled\n",
    "\n",
    "df_clean.isnull().sum()"
   ]
  },
  {
   "cell_type": "code",
   "execution_count": null,
   "metadata": {},
   "outputs": [],
   "source": []
  },
  {
   "cell_type": "code",
   "execution_count": 89,
   "metadata": {
    "ExecuteTime": {
     "end_time": "2018-08-08T02:21:00.283772Z",
     "start_time": "2018-08-08T02:20:59.785963Z"
    }
   },
   "outputs": [],
   "source": [
    "# Break down terms of loan into 2 categories\n",
    "\n",
    "df_clean = pd.get_dummies(df_clean, prefix=['term'],columns=['term'])"
   ]
  },
  {
   "cell_type": "code",
   "execution_count": 90,
   "metadata": {
    "ExecuteTime": {
     "end_time": "2018-08-08T02:21:02.039896Z",
     "start_time": "2018-08-08T02:21:02.033568Z"
    }
   },
   "outputs": [
    {
     "data": {
      "text/plain": [
       "Index(['loan_amnt', 'int_rate', 'installment', 'grade', 'emp_length',\n",
       "       'home_ownership', 'annual_inc', 'loan_status', 'purpose',\n",
       "       'payment_to_income_ratio_individual', 'delinq_2yrs', 'earliest_cr_line',\n",
       "       'inq_last_6mths', 'mths_since_last_delinq', 'mths_since_last_record',\n",
       "       'open_acc', 'pub_rec', 'revol_bal', 'revol_util', 'application_type',\n",
       "       'collections_12_mths_ex_med', 'mths_since_last_major_derog',\n",
       "       'policy_code', 'acc_now_delinq', 'tot_coll_amt', 'tot_cur_bal',\n",
       "       'total_rev_hi_lim', 'term_ 36 months', 'term_ 60 months'],\n",
       "      dtype='object')"
      ]
     },
     "execution_count": 90,
     "metadata": {},
     "output_type": "execute_result"
    }
   ],
   "source": [
    "df_clean.columns"
   ]
  },
  {
   "cell_type": "code",
   "execution_count": null,
   "metadata": {},
   "outputs": [],
   "source": []
  },
  {
   "cell_type": "code",
   "execution_count": 91,
   "metadata": {
    "ExecuteTime": {
     "end_time": "2018-08-08T02:21:04.689079Z",
     "start_time": "2018-08-08T02:21:03.738002Z"
    }
   },
   "outputs": [],
   "source": [
    "# Break down grades into categories\n",
    "\n",
    "df_clean = pd.get_dummies(df_clean, prefix=['grade'],columns=['grade'])"
   ]
  },
  {
   "cell_type": "code",
   "execution_count": 92,
   "metadata": {
    "ExecuteTime": {
     "end_time": "2018-08-08T02:21:06.552357Z",
     "start_time": "2018-08-08T02:21:06.545167Z"
    }
   },
   "outputs": [
    {
     "data": {
      "text/plain": [
       "Index(['loan_amnt', 'int_rate', 'installment', 'emp_length', 'home_ownership',\n",
       "       'annual_inc', 'loan_status', 'purpose',\n",
       "       'payment_to_income_ratio_individual', 'delinq_2yrs', 'earliest_cr_line',\n",
       "       'inq_last_6mths', 'mths_since_last_delinq', 'mths_since_last_record',\n",
       "       'open_acc', 'pub_rec', 'revol_bal', 'revol_util', 'application_type',\n",
       "       'collections_12_mths_ex_med', 'mths_since_last_major_derog',\n",
       "       'policy_code', 'acc_now_delinq', 'tot_coll_amt', 'tot_cur_bal',\n",
       "       'total_rev_hi_lim', 'term_ 36 months', 'term_ 60 months', 'grade_A',\n",
       "       'grade_B', 'grade_C', 'grade_D', 'grade_E', 'grade_F', 'grade_G'],\n",
       "      dtype='object')"
      ]
     },
     "execution_count": 92,
     "metadata": {},
     "output_type": "execute_result"
    }
   ],
   "source": [
    "df_clean.columns"
   ]
  },
  {
   "cell_type": "code",
   "execution_count": 93,
   "metadata": {
    "ExecuteTime": {
     "end_time": "2018-08-08T02:21:08.841114Z",
     "start_time": "2018-08-08T02:21:08.142168Z"
    }
   },
   "outputs": [],
   "source": [
    "df_clean = pd.get_dummies(df_clean, prefix=['home_ownership'], columns=['home_ownership'])"
   ]
  },
  {
   "cell_type": "code",
   "execution_count": 94,
   "metadata": {
    "ExecuteTime": {
     "end_time": "2018-08-08T02:21:10.336815Z",
     "start_time": "2018-08-08T02:21:10.329918Z"
    }
   },
   "outputs": [
    {
     "data": {
      "text/plain": [
       "Index(['loan_amnt', 'int_rate', 'installment', 'emp_length', 'annual_inc',\n",
       "       'loan_status', 'purpose', 'payment_to_income_ratio_individual',\n",
       "       'delinq_2yrs', 'earliest_cr_line', 'inq_last_6mths',\n",
       "       'mths_since_last_delinq', 'mths_since_last_record', 'open_acc',\n",
       "       'pub_rec', 'revol_bal', 'revol_util', 'application_type',\n",
       "       'collections_12_mths_ex_med', 'mths_since_last_major_derog',\n",
       "       'policy_code', 'acc_now_delinq', 'tot_coll_amt', 'tot_cur_bal',\n",
       "       'total_rev_hi_lim', 'term_ 36 months', 'term_ 60 months', 'grade_A',\n",
       "       'grade_B', 'grade_C', 'grade_D', 'grade_E', 'grade_F', 'grade_G',\n",
       "       'home_ownership_ANY', 'home_ownership_MORTGAGE', 'home_ownership_NONE',\n",
       "       'home_ownership_OTHER', 'home_ownership_OWN', 'home_ownership_RENT'],\n",
       "      dtype='object')"
      ]
     },
     "execution_count": 94,
     "metadata": {},
     "output_type": "execute_result"
    }
   ],
   "source": [
    "df_clean.columns"
   ]
  },
  {
   "cell_type": "code",
   "execution_count": 95,
   "metadata": {
    "ExecuteTime": {
     "end_time": "2018-08-08T02:21:12.588032Z",
     "start_time": "2018-08-08T02:21:11.836949Z"
    }
   },
   "outputs": [],
   "source": [
    "df_clean=pd.get_dummies(df_clean, prefix=['purpose'], columns=['purpose'])"
   ]
  },
  {
   "cell_type": "code",
   "execution_count": 96,
   "metadata": {
    "ExecuteTime": {
     "end_time": "2018-08-08T02:21:13.999645Z",
     "start_time": "2018-08-08T02:21:13.992671Z"
    }
   },
   "outputs": [
    {
     "data": {
      "text/plain": [
       "Index(['loan_amnt', 'int_rate', 'installment', 'emp_length', 'annual_inc',\n",
       "       'loan_status', 'payment_to_income_ratio_individual', 'delinq_2yrs',\n",
       "       'earliest_cr_line', 'inq_last_6mths', 'mths_since_last_delinq',\n",
       "       'mths_since_last_record', 'open_acc', 'pub_rec', 'revol_bal',\n",
       "       'revol_util', 'application_type', 'collections_12_mths_ex_med',\n",
       "       'mths_since_last_major_derog', 'policy_code', 'acc_now_delinq',\n",
       "       'tot_coll_amt', 'tot_cur_bal', 'total_rev_hi_lim', 'term_ 36 months',\n",
       "       'term_ 60 months', 'grade_A', 'grade_B', 'grade_C', 'grade_D',\n",
       "       'grade_E', 'grade_F', 'grade_G', 'home_ownership_ANY',\n",
       "       'home_ownership_MORTGAGE', 'home_ownership_NONE',\n",
       "       'home_ownership_OTHER', 'home_ownership_OWN', 'home_ownership_RENT',\n",
       "       'purpose_car', 'purpose_credit_card', 'purpose_debt_consolidation',\n",
       "       'purpose_educational', 'purpose_home_improvement', 'purpose_house',\n",
       "       'purpose_major_purchase', 'purpose_medical', 'purpose_moving',\n",
       "       'purpose_other', 'purpose_renewable_energy', 'purpose_small_business',\n",
       "       'purpose_vacation', 'purpose_wedding'],\n",
       "      dtype='object')"
      ]
     },
     "execution_count": 96,
     "metadata": {},
     "output_type": "execute_result"
    }
   ],
   "source": [
    "df_clean.columns"
   ]
  },
  {
   "cell_type": "code",
   "execution_count": 97,
   "metadata": {
    "ExecuteTime": {
     "end_time": "2018-08-08T02:21:15.385461Z",
     "start_time": "2018-08-08T02:21:15.381699Z"
    }
   },
   "outputs": [],
   "source": [
    "def get_earliest_cr_line(string):\n",
    "    \"\"\"\n",
    "    This is to calculate years of credit history.\n",
    "    Since the data is from 2016, use 2016 minus the \n",
    "    starting year to estimate years of credit history\n",
    "    \n",
    "    \"\"\"\n",
    "    string = string.strip()\n",
    "    year = re.findall(r'(\\d+)', string)\n",
    "    return (2016-int(year[0])) "
   ]
  },
  {
   "cell_type": "code",
   "execution_count": 98,
   "metadata": {
    "ExecuteTime": {
     "end_time": "2018-08-08T02:21:18.371299Z",
     "start_time": "2018-08-08T02:21:16.738566Z"
    }
   },
   "outputs": [],
   "source": [
    "df_clean['earliest_cr_line'] = df_clean['earliest_cr_line'].apply(lambda x: get_earliest_cr_line(x))"
   ]
  },
  {
   "cell_type": "code",
   "execution_count": 99,
   "metadata": {
    "ExecuteTime": {
     "end_time": "2018-08-08T02:21:19.460670Z",
     "start_time": "2018-08-08T02:21:19.455230Z"
    }
   },
   "outputs": [],
   "source": [
    "def inverse(value):\n",
    "    try:\n",
    "        return 1/value\n",
    "    except: \n",
    "        return 0"
   ]
  },
  {
   "cell_type": "code",
   "execution_count": 100,
   "metadata": {
    "ExecuteTime": {
     "end_time": "2018-08-08T02:21:21.159104Z",
     "start_time": "2018-08-08T02:21:20.609820Z"
    },
    "code_folding": []
   },
   "outputs": [],
   "source": [
    "# Take inverse of months since last delinquishing date as this is is inversed related to default prediction\n",
    "\n",
    "df_clean['inversed_mths_since_last_delinq']=df_clean['mths_since_last_delinq'].apply(lambda x: inverse(x))"
   ]
  },
  {
   "cell_type": "code",
   "execution_count": 101,
   "metadata": {
    "ExecuteTime": {
     "end_time": "2018-08-08T02:21:23.035029Z",
     "start_time": "2018-08-08T02:21:22.431195Z"
    }
   },
   "outputs": [],
   "source": [
    "# Take inverse of months since last record as this is is inversed related to default to default prediction\n",
    "\n",
    "df_clean['inversed_mths_since_last_record']=df_clean['mths_since_last_record'].apply(lambda x: inverse(x))"
   ]
  },
  {
   "cell_type": "code",
   "execution_count": 102,
   "metadata": {
    "ExecuteTime": {
     "end_time": "2018-08-08T02:21:24.849628Z",
     "start_time": "2018-08-08T02:21:24.265743Z"
    }
   },
   "outputs": [],
   "source": [
    "# Take inverse of months since last record as this is is inversed related to default to default prediction\n",
    "\n",
    "df_clean['inversed_mths_since_last_major_derog']=df_clean['mths_since_last_major_derog'].apply(lambda x: inverse(x))"
   ]
  },
  {
   "cell_type": "code",
   "execution_count": 103,
   "metadata": {
    "ExecuteTime": {
     "end_time": "2018-08-08T02:22:21.500701Z",
     "start_time": "2018-08-08T02:22:20.847102Z"
    }
   },
   "outputs": [],
   "source": [
    "df_clean.drop(\n",
    "    ['mths_since_last_delinq', 'mths_since_last_record',\n",
    "     'mths_since_last_major_derog'], \n",
    "    inplace=True, axis=1)"
   ]
  },
  {
   "cell_type": "code",
   "execution_count": 105,
   "metadata": {
    "ExecuteTime": {
     "end_time": "2018-08-08T02:23:07.016767Z",
     "start_time": "2018-08-08T02:23:06.984651Z"
    }
   },
   "outputs": [],
   "source": [
    "df_clean['income_to_debt_ratio']=df_clean['annual_inc']/df_clean['revol_bal']"
   ]
  },
  {
   "cell_type": "code",
   "execution_count": 106,
   "metadata": {
    "ExecuteTime": {
     "end_time": "2018-08-08T02:23:10.304099Z",
     "start_time": "2018-08-08T02:23:10.290584Z"
    }
   },
   "outputs": [],
   "source": [
    "# Drop infinite value\n",
    "df_clean['income_to_debt_ratio'] = df_clean['income_to_debt_ratio'].replace(np.inf, np.nan)"
   ]
  },
  {
   "cell_type": "code",
   "execution_count": 107,
   "metadata": {
    "ExecuteTime": {
     "end_time": "2018-08-08T02:23:19.085127Z",
     "start_time": "2018-08-08T02:23:18.531101Z"
    }
   },
   "outputs": [],
   "source": [
    "df_clean = df_clean[df_clean['income_to_debt_ratio']>=0]"
   ]
  },
  {
   "cell_type": "code",
   "execution_count": null,
   "metadata": {},
   "outputs": [],
   "source": []
  },
  {
   "cell_type": "code",
   "execution_count": 109,
   "metadata": {
    "ExecuteTime": {
     "end_time": "2018-08-08T02:23:35.206442Z",
     "start_time": "2018-08-08T02:23:34.857913Z"
    }
   },
   "outputs": [],
   "source": [
    "df_clean=pd.get_dummies(df_clean, prefix=['application_type'], columns=['application_type'])"
   ]
  },
  {
   "cell_type": "code",
   "execution_count": 110,
   "metadata": {
    "ExecuteTime": {
     "end_time": "2018-08-08T02:23:37.040072Z",
     "start_time": "2018-08-08T02:23:37.034080Z"
    }
   },
   "outputs": [
    {
     "data": {
      "text/plain": [
       "Index(['loan_amnt', 'int_rate', 'installment', 'emp_length', 'annual_inc',\n",
       "       'loan_status', 'payment_to_income_ratio_individual', 'delinq_2yrs',\n",
       "       'earliest_cr_line', 'inq_last_6mths', 'open_acc', 'pub_rec',\n",
       "       'revol_bal', 'revol_util', 'collections_12_mths_ex_med', 'policy_code',\n",
       "       'acc_now_delinq', 'tot_coll_amt', 'tot_cur_bal', 'total_rev_hi_lim',\n",
       "       'term_ 36 months', 'term_ 60 months', 'grade_A', 'grade_B', 'grade_C',\n",
       "       'grade_D', 'grade_E', 'grade_F', 'grade_G', 'home_ownership_ANY',\n",
       "       'home_ownership_MORTGAGE', 'home_ownership_NONE',\n",
       "       'home_ownership_OTHER', 'home_ownership_OWN', 'home_ownership_RENT',\n",
       "       'purpose_car', 'purpose_credit_card', 'purpose_debt_consolidation',\n",
       "       'purpose_educational', 'purpose_home_improvement', 'purpose_house',\n",
       "       'purpose_major_purchase', 'purpose_medical', 'purpose_moving',\n",
       "       'purpose_other', 'purpose_renewable_energy', 'purpose_small_business',\n",
       "       'purpose_vacation', 'purpose_wedding',\n",
       "       'inversed_mths_since_last_delinq', 'inversed_mths_since_last_record',\n",
       "       'inversed_mths_since_last_major_derog', 'income_to_debt_ratio',\n",
       "       'application_type_INDIVIDUAL', 'application_type_JOINT'],\n",
       "      dtype='object')"
      ]
     },
     "execution_count": 110,
     "metadata": {},
     "output_type": "execute_result"
    }
   ],
   "source": [
    "df_clean.columns"
   ]
  },
  {
   "cell_type": "code",
   "execution_count": 111,
   "metadata": {
    "ExecuteTime": {
     "end_time": "2018-08-08T02:23:55.722042Z",
     "start_time": "2018-08-08T02:23:51.220354Z"
    }
   },
   "outputs": [
    {
     "data": {
      "text/html": [
       "<div>\n",
       "<style scoped>\n",
       "    .dataframe tbody tr th:only-of-type {\n",
       "        vertical-align: middle;\n",
       "    }\n",
       "\n",
       "    .dataframe tbody tr th {\n",
       "        vertical-align: top;\n",
       "    }\n",
       "\n",
       "    .dataframe thead th {\n",
       "        text-align: right;\n",
       "    }\n",
       "</style>\n",
       "<table border=\"1\" class=\"dataframe\">\n",
       "  <thead>\n",
       "    <tr style=\"text-align: right;\">\n",
       "      <th></th>\n",
       "      <th>loan_amnt</th>\n",
       "      <th>int_rate</th>\n",
       "      <th>installment</th>\n",
       "      <th>emp_length</th>\n",
       "      <th>annual_inc</th>\n",
       "      <th>loan_status</th>\n",
       "      <th>payment_to_income_ratio_individual</th>\n",
       "      <th>delinq_2yrs</th>\n",
       "      <th>earliest_cr_line</th>\n",
       "      <th>inq_last_6mths</th>\n",
       "      <th>...</th>\n",
       "      <th>purpose_renewable_energy</th>\n",
       "      <th>purpose_small_business</th>\n",
       "      <th>purpose_vacation</th>\n",
       "      <th>purpose_wedding</th>\n",
       "      <th>inversed_mths_since_last_delinq</th>\n",
       "      <th>inversed_mths_since_last_record</th>\n",
       "      <th>inversed_mths_since_last_major_derog</th>\n",
       "      <th>income_to_debt_ratio</th>\n",
       "      <th>application_type_INDIVIDUAL</th>\n",
       "      <th>application_type_JOINT</th>\n",
       "    </tr>\n",
       "  </thead>\n",
       "  <tbody>\n",
       "    <tr>\n",
       "      <th>count</th>\n",
       "      <td>872926.000000</td>\n",
       "      <td>872926.000000</td>\n",
       "      <td>872926.000000</td>\n",
       "      <td>872926.000000</td>\n",
       "      <td>8.729260e+05</td>\n",
       "      <td>872926</td>\n",
       "      <td>872926.000000</td>\n",
       "      <td>872926.000000</td>\n",
       "      <td>872926.000000</td>\n",
       "      <td>872926.000000</td>\n",
       "      <td>...</td>\n",
       "      <td>872926.000000</td>\n",
       "      <td>872926.000000</td>\n",
       "      <td>872926.000000</td>\n",
       "      <td>872926.000000</td>\n",
       "      <td>872926.000000</td>\n",
       "      <td>872926.000000</td>\n",
       "      <td>872926.000000</td>\n",
       "      <td>872926.000000</td>\n",
       "      <td>872926.000000</td>\n",
       "      <td>872926.000000</td>\n",
       "    </tr>\n",
       "    <tr>\n",
       "      <th>unique</th>\n",
       "      <td>NaN</td>\n",
       "      <td>NaN</td>\n",
       "      <td>NaN</td>\n",
       "      <td>NaN</td>\n",
       "      <td>NaN</td>\n",
       "      <td>2</td>\n",
       "      <td>NaN</td>\n",
       "      <td>NaN</td>\n",
       "      <td>NaN</td>\n",
       "      <td>NaN</td>\n",
       "      <td>...</td>\n",
       "      <td>NaN</td>\n",
       "      <td>NaN</td>\n",
       "      <td>NaN</td>\n",
       "      <td>NaN</td>\n",
       "      <td>NaN</td>\n",
       "      <td>NaN</td>\n",
       "      <td>NaN</td>\n",
       "      <td>NaN</td>\n",
       "      <td>NaN</td>\n",
       "      <td>NaN</td>\n",
       "    </tr>\n",
       "    <tr>\n",
       "      <th>top</th>\n",
       "      <td>NaN</td>\n",
       "      <td>NaN</td>\n",
       "      <td>NaN</td>\n",
       "      <td>NaN</td>\n",
       "      <td>NaN</td>\n",
       "      <td>good</td>\n",
       "      <td>NaN</td>\n",
       "      <td>NaN</td>\n",
       "      <td>NaN</td>\n",
       "      <td>NaN</td>\n",
       "      <td>...</td>\n",
       "      <td>NaN</td>\n",
       "      <td>NaN</td>\n",
       "      <td>NaN</td>\n",
       "      <td>NaN</td>\n",
       "      <td>NaN</td>\n",
       "      <td>NaN</td>\n",
       "      <td>NaN</td>\n",
       "      <td>NaN</td>\n",
       "      <td>NaN</td>\n",
       "      <td>NaN</td>\n",
       "    </tr>\n",
       "    <tr>\n",
       "      <th>freq</th>\n",
       "      <td>NaN</td>\n",
       "      <td>NaN</td>\n",
       "      <td>NaN</td>\n",
       "      <td>NaN</td>\n",
       "      <td>NaN</td>\n",
       "      <td>806601</td>\n",
       "      <td>NaN</td>\n",
       "      <td>NaN</td>\n",
       "      <td>NaN</td>\n",
       "      <td>NaN</td>\n",
       "      <td>...</td>\n",
       "      <td>NaN</td>\n",
       "      <td>NaN</td>\n",
       "      <td>NaN</td>\n",
       "      <td>NaN</td>\n",
       "      <td>NaN</td>\n",
       "      <td>NaN</td>\n",
       "      <td>NaN</td>\n",
       "      <td>NaN</td>\n",
       "      <td>NaN</td>\n",
       "      <td>NaN</td>\n",
       "    </tr>\n",
       "    <tr>\n",
       "      <th>mean</th>\n",
       "      <td>14779.352803</td>\n",
       "      <td>13.252395</td>\n",
       "      <td>437.392570</td>\n",
       "      <td>6.101334</td>\n",
       "      <td>7.500838e+04</td>\n",
       "      <td>NaN</td>\n",
       "      <td>18.182628</td>\n",
       "      <td>0.314092</td>\n",
       "      <td>18.306563</td>\n",
       "      <td>0.684289</td>\n",
       "      <td>...</td>\n",
       "      <td>0.000635</td>\n",
       "      <td>0.011380</td>\n",
       "      <td>0.005272</td>\n",
       "      <td>0.002560</td>\n",
       "      <td>0.031165</td>\n",
       "      <td>0.003001</td>\n",
       "      <td>0.009687</td>\n",
       "      <td>24.496675</td>\n",
       "      <td>0.999488</td>\n",
       "      <td>0.000512</td>\n",
       "    </tr>\n",
       "    <tr>\n",
       "      <th>std</th>\n",
       "      <td>8427.927252</td>\n",
       "      <td>4.384235</td>\n",
       "      <td>243.959234</td>\n",
       "      <td>3.444948</td>\n",
       "      <td>6.469140e+04</td>\n",
       "      <td>NaN</td>\n",
       "      <td>17.290395</td>\n",
       "      <td>0.861302</td>\n",
       "      <td>7.432795</td>\n",
       "      <td>0.966162</td>\n",
       "      <td>...</td>\n",
       "      <td>0.025184</td>\n",
       "      <td>0.106069</td>\n",
       "      <td>0.072416</td>\n",
       "      <td>0.050535</td>\n",
       "      <td>0.081515</td>\n",
       "      <td>0.014310</td>\n",
       "      <td>0.037072</td>\n",
       "      <td>742.312695</td>\n",
       "      <td>0.022623</td>\n",
       "      <td>0.022623</td>\n",
       "    </tr>\n",
       "    <tr>\n",
       "      <th>min</th>\n",
       "      <td>500.000000</td>\n",
       "      <td>5.320000</td>\n",
       "      <td>16.080000</td>\n",
       "      <td>1.000000</td>\n",
       "      <td>0.000000e+00</td>\n",
       "      <td>NaN</td>\n",
       "      <td>0.000000</td>\n",
       "      <td>0.000000</td>\n",
       "      <td>4.000000</td>\n",
       "      <td>0.000000</td>\n",
       "      <td>...</td>\n",
       "      <td>0.000000</td>\n",
       "      <td>0.000000</td>\n",
       "      <td>0.000000</td>\n",
       "      <td>0.000000</td>\n",
       "      <td>0.000000</td>\n",
       "      <td>0.000000</td>\n",
       "      <td>0.000000</td>\n",
       "      <td>0.000000</td>\n",
       "      <td>0.000000</td>\n",
       "      <td>0.000000</td>\n",
       "    </tr>\n",
       "    <tr>\n",
       "      <th>25%</th>\n",
       "      <td>8000.000000</td>\n",
       "      <td>9.990000</td>\n",
       "      <td>261.880000</td>\n",
       "      <td>3.000000</td>\n",
       "      <td>4.500000e+04</td>\n",
       "      <td>NaN</td>\n",
       "      <td>11.940000</td>\n",
       "      <td>0.000000</td>\n",
       "      <td>13.000000</td>\n",
       "      <td>0.000000</td>\n",
       "      <td>...</td>\n",
       "      <td>0.000000</td>\n",
       "      <td>0.000000</td>\n",
       "      <td>0.000000</td>\n",
       "      <td>0.000000</td>\n",
       "      <td>0.000000</td>\n",
       "      <td>0.000000</td>\n",
       "      <td>0.000000</td>\n",
       "      <td>3.186915</td>\n",
       "      <td>1.000000</td>\n",
       "      <td>0.000000</td>\n",
       "    </tr>\n",
       "    <tr>\n",
       "      <th>50%</th>\n",
       "      <td>13000.000000</td>\n",
       "      <td>12.990000</td>\n",
       "      <td>382.810000</td>\n",
       "      <td>6.098617</td>\n",
       "      <td>6.500000e+04</td>\n",
       "      <td>NaN</td>\n",
       "      <td>17.680000</td>\n",
       "      <td>0.000000</td>\n",
       "      <td>17.000000</td>\n",
       "      <td>0.000000</td>\n",
       "      <td>...</td>\n",
       "      <td>0.000000</td>\n",
       "      <td>0.000000</td>\n",
       "      <td>0.000000</td>\n",
       "      <td>0.000000</td>\n",
       "      <td>0.000000</td>\n",
       "      <td>0.000000</td>\n",
       "      <td>0.000000</td>\n",
       "      <td>5.136547</td>\n",
       "      <td>1.000000</td>\n",
       "      <td>0.000000</td>\n",
       "    </tr>\n",
       "    <tr>\n",
       "      <th>75%</th>\n",
       "      <td>20000.000000</td>\n",
       "      <td>16.200000</td>\n",
       "      <td>573.060000</td>\n",
       "      <td>10.000000</td>\n",
       "      <td>9.000000e+04</td>\n",
       "      <td>NaN</td>\n",
       "      <td>23.960000</td>\n",
       "      <td>0.000000</td>\n",
       "      <td>22.000000</td>\n",
       "      <td>1.000000</td>\n",
       "      <td>...</td>\n",
       "      <td>0.000000</td>\n",
       "      <td>0.000000</td>\n",
       "      <td>0.000000</td>\n",
       "      <td>0.000000</td>\n",
       "      <td>0.031250</td>\n",
       "      <td>0.000000</td>\n",
       "      <td>0.007092</td>\n",
       "      <td>9.139470</td>\n",
       "      <td>1.000000</td>\n",
       "      <td>0.000000</td>\n",
       "    </tr>\n",
       "    <tr>\n",
       "      <th>max</th>\n",
       "      <td>35000.000000</td>\n",
       "      <td>28.990000</td>\n",
       "      <td>1445.460000</td>\n",
       "      <td>10.000000</td>\n",
       "      <td>9.500000e+06</td>\n",
       "      <td>NaN</td>\n",
       "      <td>9999.000000</td>\n",
       "      <td>39.000000</td>\n",
       "      <td>72.000000</td>\n",
       "      <td>8.000000</td>\n",
       "      <td>...</td>\n",
       "      <td>1.000000</td>\n",
       "      <td>1.000000</td>\n",
       "      <td>1.000000</td>\n",
       "      <td>1.000000</td>\n",
       "      <td>1.000000</td>\n",
       "      <td>1.000000</td>\n",
       "      <td>1.000000</td>\n",
       "      <td>225000.000000</td>\n",
       "      <td>1.000000</td>\n",
       "      <td>1.000000</td>\n",
       "    </tr>\n",
       "  </tbody>\n",
       "</table>\n",
       "<p>11 rows × 55 columns</p>\n",
       "</div>"
      ],
      "text/plain": [
       "            loan_amnt       int_rate    installment     emp_length  \\\n",
       "count   872926.000000  872926.000000  872926.000000  872926.000000   \n",
       "unique            NaN            NaN            NaN            NaN   \n",
       "top               NaN            NaN            NaN            NaN   \n",
       "freq              NaN            NaN            NaN            NaN   \n",
       "mean     14779.352803      13.252395     437.392570       6.101334   \n",
       "std       8427.927252       4.384235     243.959234       3.444948   \n",
       "min        500.000000       5.320000      16.080000       1.000000   \n",
       "25%       8000.000000       9.990000     261.880000       3.000000   \n",
       "50%      13000.000000      12.990000     382.810000       6.098617   \n",
       "75%      20000.000000      16.200000     573.060000      10.000000   \n",
       "max      35000.000000      28.990000    1445.460000      10.000000   \n",
       "\n",
       "          annual_inc loan_status  payment_to_income_ratio_individual  \\\n",
       "count   8.729260e+05      872926                       872926.000000   \n",
       "unique           NaN           2                                 NaN   \n",
       "top              NaN        good                                 NaN   \n",
       "freq             NaN      806601                                 NaN   \n",
       "mean    7.500838e+04         NaN                           18.182628   \n",
       "std     6.469140e+04         NaN                           17.290395   \n",
       "min     0.000000e+00         NaN                            0.000000   \n",
       "25%     4.500000e+04         NaN                           11.940000   \n",
       "50%     6.500000e+04         NaN                           17.680000   \n",
       "75%     9.000000e+04         NaN                           23.960000   \n",
       "max     9.500000e+06         NaN                         9999.000000   \n",
       "\n",
       "          delinq_2yrs  earliest_cr_line  inq_last_6mths  \\\n",
       "count   872926.000000     872926.000000   872926.000000   \n",
       "unique            NaN               NaN             NaN   \n",
       "top               NaN               NaN             NaN   \n",
       "freq              NaN               NaN             NaN   \n",
       "mean         0.314092         18.306563        0.684289   \n",
       "std          0.861302          7.432795        0.966162   \n",
       "min          0.000000          4.000000        0.000000   \n",
       "25%          0.000000         13.000000        0.000000   \n",
       "50%          0.000000         17.000000        0.000000   \n",
       "75%          0.000000         22.000000        1.000000   \n",
       "max         39.000000         72.000000        8.000000   \n",
       "\n",
       "                 ...            purpose_renewable_energy  \\\n",
       "count            ...                       872926.000000   \n",
       "unique           ...                                 NaN   \n",
       "top              ...                                 NaN   \n",
       "freq             ...                                 NaN   \n",
       "mean             ...                            0.000635   \n",
       "std              ...                            0.025184   \n",
       "min              ...                            0.000000   \n",
       "25%              ...                            0.000000   \n",
       "50%              ...                            0.000000   \n",
       "75%              ...                            0.000000   \n",
       "max              ...                            1.000000   \n",
       "\n",
       "        purpose_small_business  purpose_vacation  purpose_wedding  \\\n",
       "count            872926.000000     872926.000000    872926.000000   \n",
       "unique                     NaN               NaN              NaN   \n",
       "top                        NaN               NaN              NaN   \n",
       "freq                       NaN               NaN              NaN   \n",
       "mean                  0.011380          0.005272         0.002560   \n",
       "std                   0.106069          0.072416         0.050535   \n",
       "min                   0.000000          0.000000         0.000000   \n",
       "25%                   0.000000          0.000000         0.000000   \n",
       "50%                   0.000000          0.000000         0.000000   \n",
       "75%                   0.000000          0.000000         0.000000   \n",
       "max                   1.000000          1.000000         1.000000   \n",
       "\n",
       "        inversed_mths_since_last_delinq  inversed_mths_since_last_record  \\\n",
       "count                     872926.000000                    872926.000000   \n",
       "unique                              NaN                              NaN   \n",
       "top                                 NaN                              NaN   \n",
       "freq                                NaN                              NaN   \n",
       "mean                           0.031165                         0.003001   \n",
       "std                            0.081515                         0.014310   \n",
       "min                            0.000000                         0.000000   \n",
       "25%                            0.000000                         0.000000   \n",
       "50%                            0.000000                         0.000000   \n",
       "75%                            0.031250                         0.000000   \n",
       "max                            1.000000                         1.000000   \n",
       "\n",
       "        inversed_mths_since_last_major_derog  income_to_debt_ratio  \\\n",
       "count                          872926.000000         872926.000000   \n",
       "unique                                   NaN                   NaN   \n",
       "top                                      NaN                   NaN   \n",
       "freq                                     NaN                   NaN   \n",
       "mean                                0.009687             24.496675   \n",
       "std                                 0.037072            742.312695   \n",
       "min                                 0.000000              0.000000   \n",
       "25%                                 0.000000              3.186915   \n",
       "50%                                 0.000000              5.136547   \n",
       "75%                                 0.007092              9.139470   \n",
       "max                                 1.000000         225000.000000   \n",
       "\n",
       "        application_type_INDIVIDUAL  application_type_JOINT  \n",
       "count                 872926.000000           872926.000000  \n",
       "unique                          NaN                     NaN  \n",
       "top                             NaN                     NaN  \n",
       "freq                            NaN                     NaN  \n",
       "mean                       0.999488                0.000512  \n",
       "std                        0.022623                0.022623  \n",
       "min                        0.000000                0.000000  \n",
       "25%                        1.000000                0.000000  \n",
       "50%                        1.000000                0.000000  \n",
       "75%                        1.000000                0.000000  \n",
       "max                        1.000000                1.000000  \n",
       "\n",
       "[11 rows x 55 columns]"
      ]
     },
     "execution_count": 111,
     "metadata": {},
     "output_type": "execute_result"
    }
   ],
   "source": [
    "df_clean.describe(include='all')"
   ]
  },
  {
   "cell_type": "code",
   "execution_count": 54,
   "metadata": {
    "ExecuteTime": {
     "end_time": "2018-08-08T00:58:25.358680Z",
     "start_time": "2018-08-08T00:58:22.688503Z"
    }
   },
   "outputs": [
    {
     "data": {
      "text/plain": [
       "loan_amnt                             0\n",
       "int_rate                              0\n",
       "installment                           0\n",
       "emp_length                            0\n",
       "annual_inc                            0\n",
       "loan_status                           0\n",
       "payment_to_income_ratio_individual    0\n",
       "delinq_2yrs                           0\n",
       "earliest_cr_line                      0\n",
       "inq_last_6mths                        0\n",
       "mths_since_last_delinq                0\n",
       "mths_since_last_record                0\n",
       "open_acc                              0\n",
       "pub_rec                               0\n",
       "revol_bal                             0\n",
       "revol_util                            0\n",
       "collections_12_mths_ex_med            0\n",
       "mths_since_last_major_derog           0\n",
       "policy_code                           0\n",
       "acc_now_delinq                        0\n",
       "tot_coll_amt                          0\n",
       "tot_cur_bal                           0\n",
       "total_rev_hi_lim                      0\n",
       "term_ 36 months                       0\n",
       "term_ 60 months                       0\n",
       "grade_A                               0\n",
       "grade_B                               0\n",
       "grade_C                               0\n",
       "grade_D                               0\n",
       "grade_E                               0\n",
       "                                     ..\n",
       "addr_state_ME                         0\n",
       "addr_state_MI                         0\n",
       "addr_state_MN                         0\n",
       "addr_state_MO                         0\n",
       "addr_state_MS                         0\n",
       "addr_state_MT                         0\n",
       "addr_state_NC                         0\n",
       "addr_state_ND                         0\n",
       "addr_state_NE                         0\n",
       "addr_state_NH                         0\n",
       "addr_state_NJ                         0\n",
       "addr_state_NM                         0\n",
       "addr_state_NV                         0\n",
       "addr_state_NY                         0\n",
       "addr_state_OH                         0\n",
       "addr_state_OK                         0\n",
       "addr_state_OR                         0\n",
       "addr_state_PA                         0\n",
       "addr_state_RI                         0\n",
       "addr_state_SC                         0\n",
       "addr_state_SD                         0\n",
       "addr_state_TN                         0\n",
       "addr_state_TX                         0\n",
       "addr_state_UT                         0\n",
       "addr_state_VA                         0\n",
       "addr_state_VT                         0\n",
       "addr_state_WA                         0\n",
       "addr_state_WI                         0\n",
       "addr_state_WV                         0\n",
       "addr_state_WY                         0\n",
       "Length: 108, dtype: int64"
      ]
     },
     "execution_count": 54,
     "metadata": {},
     "output_type": "execute_result"
    }
   ],
   "source": [
    "df_clean.isnull().sum()"
   ]
  },
  {
   "cell_type": "code",
   "execution_count": 112,
   "metadata": {
    "ExecuteTime": {
     "end_time": "2018-08-08T02:24:06.213062Z",
     "start_time": "2018-08-08T02:24:05.188658Z"
    }
   },
   "outputs": [],
   "source": [
    "pkl_filename= '/Users/xzhou/github/project_files/lending_club/loan3.pkl'\n",
    "\n",
    "with open(pkl_filename, 'wb') as pklfile:\n",
    "    pickle.dump(df_clean, pklfile)"
   ]
  },
  {
   "cell_type": "code",
   "execution_count": null,
   "metadata": {},
   "outputs": [],
   "source": []
  },
  {
   "cell_type": "code",
   "execution_count": null,
   "metadata": {},
   "outputs": [],
   "source": []
  }
 ],
 "metadata": {
  "kernelspec": {
   "display_name": "Python 3",
   "language": "python",
   "name": "python3"
  },
  "language_info": {
   "codemirror_mode": {
    "name": "ipython",
    "version": 3
   },
   "file_extension": ".py",
   "mimetype": "text/x-python",
   "name": "python",
   "nbconvert_exporter": "python",
   "pygments_lexer": "ipython3",
   "version": "3.6.6"
  },
  "varInspector": {
   "cols": {
    "lenName": 16,
    "lenType": 16,
    "lenVar": 40
   },
   "kernels_config": {
    "python": {
     "delete_cmd_postfix": "",
     "delete_cmd_prefix": "del ",
     "library": "var_list.py",
     "varRefreshCmd": "print(var_dic_list())"
    },
    "r": {
     "delete_cmd_postfix": ") ",
     "delete_cmd_prefix": "rm(",
     "library": "var_list.r",
     "varRefreshCmd": "cat(var_dic_list()) "
    }
   },
   "types_to_exclude": [
    "module",
    "function",
    "builtin_function_or_method",
    "instance",
    "_Feature"
   ],
   "window_display": false
  }
 },
 "nbformat": 4,
 "nbformat_minor": 2
}
