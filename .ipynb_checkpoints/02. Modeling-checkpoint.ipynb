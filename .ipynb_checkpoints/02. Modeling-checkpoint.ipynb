{
 "cells": [
  {
   "cell_type": "code",
   "execution_count": 2,
   "metadata": {
    "ExecuteTime": {
     "end_time": "2018-08-07T08:57:53.185174Z",
     "start_time": "2018-08-07T08:57:53.170878Z"
    }
   },
   "outputs": [],
   "source": [
    "import pandas as pd\n",
    "import numpy as np\n",
    "import csv\n",
    "import sqlite3\n",
    "import re\n",
    "import pickle\n",
    "\n",
    "from sklearn.datasets import load_wine\n",
    "from sklearn.tree import DecisionTreeClassifier\n",
    "from sklearn.ensemble import RandomForestClassifier, BaggingClassifier\n",
    "from sklearn.model_selection import train_test_split\n",
    "\n",
    "from sklearn.linear_model import LogisticRegression, SGDClassifier\n",
    "from sklearn.svm import SVC\n",
    "from sklearn.metrics import roc_curve, auc\n",
    "\n",
    "from sklearn.metrics import accuracy_score\n",
    "\n",
    "import matplotlib.pyplot as plt\n",
    "%matplotlib inline"
   ]
  },
  {
   "cell_type": "code",
   "execution_count": null,
   "metadata": {},
   "outputs": [],
   "source": []
  },
  {
   "cell_type": "code",
   "execution_count": 6,
   "metadata": {
    "ExecuteTime": {
     "end_time": "2018-08-07T08:59:09.701272Z",
     "start_time": "2018-08-07T08:59:09.428601Z"
    }
   },
   "outputs": [],
   "source": [
    "pkl_filename= '/Users/xzhou/github/project_files/lending_club/loan.pkl'\n",
    "\n",
    "with open(pkl_filename, 'rb') as pklfile:\n",
    "    df=pd.read_pickle(pkl_filename)"
   ]
  },
  {
   "cell_type": "code",
   "execution_count": 8,
   "metadata": {
    "ExecuteTime": {
     "end_time": "2018-08-07T08:59:16.258102Z",
     "start_time": "2018-08-07T08:59:16.252300Z"
    }
   },
   "outputs": [
    {
     "data": {
      "text/plain": [
       "(876170, 46)"
      ]
     },
     "execution_count": 8,
     "metadata": {},
     "output_type": "execute_result"
    }
   ],
   "source": [
    "df.shape"
   ]
  },
  {
   "cell_type": "code",
   "execution_count": 9,
   "metadata": {
    "ExecuteTime": {
     "end_time": "2018-08-07T08:59:19.796915Z",
     "start_time": "2018-08-07T08:59:19.788823Z"
    }
   },
   "outputs": [
    {
     "data": {
      "text/plain": [
       "Index(['loan_amnt', 'int_rate', 'emp_length', 'annual_inc', 'loan_status',\n",
       "       'delinq_2yrs', 'earliest_cr_line', 'inq_last_6mths',\n",
       "       'mths_since_last_delinq', 'mths_since_last_record', 'open_acc',\n",
       "       'pub_rec', 'revol_bal', 'revol_util', 'application_type',\n",
       "       'acc_now_delinq', 'term_ 36 months', 'term_ 60 months', 'grade_A',\n",
       "       'grade_B', 'grade_C', 'grade_D', 'grade_E', 'grade_F', 'grade_G',\n",
       "       'home_ownership_mortgage', 'home_ownership_others',\n",
       "       'home_ownership_own', 'home_ownership_rent', 'purpose_car',\n",
       "       'purpose_credit_card', 'purpose_debt_consolidation',\n",
       "       'purpose_educational', 'purpose_home_improvement', 'purpose_house',\n",
       "       'purpose_major_purchase', 'purpose_medical', 'purpose_moving',\n",
       "       'purpose_other', 'purpose_renewable_energy', 'purpose_small_business',\n",
       "       'purpose_vacation', 'purpose_wedding',\n",
       "       'inversed_mths_since_last_delinq', 'inversed_mths_since_last_record',\n",
       "       'income_to_debt_ratio'],\n",
       "      dtype='object')"
      ]
     },
     "execution_count": 9,
     "metadata": {},
     "output_type": "execute_result"
    }
   ],
   "source": [
    "df.columns"
   ]
  },
  {
   "cell_type": "code",
   "execution_count": 10,
   "metadata": {
    "ExecuteTime": {
     "end_time": "2018-08-07T09:00:08.375746Z",
     "start_time": "2018-08-07T09:00:07.854194Z"
    }
   },
   "outputs": [
    {
     "data": {
      "text/html": [
       "<div>\n",
       "<style scoped>\n",
       "    .dataframe tbody tr th:only-of-type {\n",
       "        vertical-align: middle;\n",
       "    }\n",
       "\n",
       "    .dataframe tbody tr th {\n",
       "        vertical-align: top;\n",
       "    }\n",
       "\n",
       "    .dataframe thead th {\n",
       "        text-align: right;\n",
       "    }\n",
       "</style>\n",
       "<table border=\"1\" class=\"dataframe\">\n",
       "  <thead>\n",
       "    <tr style=\"text-align: right;\">\n",
       "      <th></th>\n",
       "      <th>loan_amnt</th>\n",
       "      <th>int_rate</th>\n",
       "      <th>emp_length</th>\n",
       "      <th>annual_inc</th>\n",
       "      <th>delinq_2yrs</th>\n",
       "      <th>earliest_cr_line</th>\n",
       "      <th>inq_last_6mths</th>\n",
       "      <th>mths_since_last_delinq</th>\n",
       "      <th>mths_since_last_record</th>\n",
       "      <th>open_acc</th>\n",
       "      <th>...</th>\n",
       "      <th>purpose_medical</th>\n",
       "      <th>purpose_moving</th>\n",
       "      <th>purpose_other</th>\n",
       "      <th>purpose_renewable_energy</th>\n",
       "      <th>purpose_small_business</th>\n",
       "      <th>purpose_vacation</th>\n",
       "      <th>purpose_wedding</th>\n",
       "      <th>inversed_mths_since_last_delinq</th>\n",
       "      <th>inversed_mths_since_last_record</th>\n",
       "      <th>income_to_debt_ratio</th>\n",
       "    </tr>\n",
       "    <tr>\n",
       "      <th>loan_status</th>\n",
       "      <th></th>\n",
       "      <th></th>\n",
       "      <th></th>\n",
       "      <th></th>\n",
       "      <th></th>\n",
       "      <th></th>\n",
       "      <th></th>\n",
       "      <th></th>\n",
       "      <th></th>\n",
       "      <th></th>\n",
       "      <th></th>\n",
       "      <th></th>\n",
       "      <th></th>\n",
       "      <th></th>\n",
       "      <th></th>\n",
       "      <th></th>\n",
       "      <th></th>\n",
       "      <th></th>\n",
       "      <th></th>\n",
       "      <th></th>\n",
       "      <th></th>\n",
       "    </tr>\n",
       "  </thead>\n",
       "  <tbody>\n",
       "    <tr>\n",
       "      <th>bad</th>\n",
       "      <td>66668</td>\n",
       "      <td>66668</td>\n",
       "      <td>66668</td>\n",
       "      <td>66668</td>\n",
       "      <td>66668</td>\n",
       "      <td>66668</td>\n",
       "      <td>66668</td>\n",
       "      <td>66668</td>\n",
       "      <td>66668</td>\n",
       "      <td>66668</td>\n",
       "      <td>...</td>\n",
       "      <td>66668</td>\n",
       "      <td>66668</td>\n",
       "      <td>66668</td>\n",
       "      <td>66668</td>\n",
       "      <td>66668</td>\n",
       "      <td>66668</td>\n",
       "      <td>66668</td>\n",
       "      <td>66668</td>\n",
       "      <td>66668</td>\n",
       "      <td>66668</td>\n",
       "    </tr>\n",
       "    <tr>\n",
       "      <th>good</th>\n",
       "      <td>809502</td>\n",
       "      <td>809502</td>\n",
       "      <td>809502</td>\n",
       "      <td>809502</td>\n",
       "      <td>809502</td>\n",
       "      <td>809502</td>\n",
       "      <td>809502</td>\n",
       "      <td>809502</td>\n",
       "      <td>809502</td>\n",
       "      <td>809502</td>\n",
       "      <td>...</td>\n",
       "      <td>809502</td>\n",
       "      <td>809502</td>\n",
       "      <td>809502</td>\n",
       "      <td>809502</td>\n",
       "      <td>809502</td>\n",
       "      <td>809502</td>\n",
       "      <td>809502</td>\n",
       "      <td>809502</td>\n",
       "      <td>809502</td>\n",
       "      <td>809502</td>\n",
       "    </tr>\n",
       "  </tbody>\n",
       "</table>\n",
       "<p>2 rows × 45 columns</p>\n",
       "</div>"
      ],
      "text/plain": [
       "             loan_amnt  int_rate  emp_length  annual_inc  delinq_2yrs  \\\n",
       "loan_status                                                             \n",
       "bad              66668     66668       66668       66668        66668   \n",
       "good            809502    809502      809502      809502       809502   \n",
       "\n",
       "             earliest_cr_line  inq_last_6mths  mths_since_last_delinq  \\\n",
       "loan_status                                                             \n",
       "bad                     66668           66668                   66668   \n",
       "good                   809502          809502                  809502   \n",
       "\n",
       "             mths_since_last_record  open_acc          ...           \\\n",
       "loan_status                                            ...            \n",
       "bad                           66668     66668          ...            \n",
       "good                         809502    809502          ...            \n",
       "\n",
       "             purpose_medical  purpose_moving  purpose_other  \\\n",
       "loan_status                                                   \n",
       "bad                    66668           66668          66668   \n",
       "good                  809502          809502         809502   \n",
       "\n",
       "             purpose_renewable_energy  purpose_small_business  \\\n",
       "loan_status                                                     \n",
       "bad                             66668                   66668   \n",
       "good                           809502                  809502   \n",
       "\n",
       "             purpose_vacation  purpose_wedding  \\\n",
       "loan_status                                      \n",
       "bad                     66668            66668   \n",
       "good                   809502           809502   \n",
       "\n",
       "             inversed_mths_since_last_delinq  inversed_mths_since_last_record  \\\n",
       "loan_status                                                                     \n",
       "bad                                    66668                            66668   \n",
       "good                                  809502                           809502   \n",
       "\n",
       "             income_to_debt_ratio  \n",
       "loan_status                        \n",
       "bad                         66668  \n",
       "good                       809502  \n",
       "\n",
       "[2 rows x 45 columns]"
      ]
     },
     "execution_count": 10,
     "metadata": {},
     "output_type": "execute_result"
    }
   ],
   "source": [
    "# Noted imbalance of loans\n",
    "\n",
    "df.groupby('loan_status').count()"
   ]
  },
  {
   "cell_type": "code",
   "execution_count": null,
   "metadata": {
    "ExecuteTime": {
     "end_time": "2018-08-06T21:45:53.472362Z",
     "start_time": "2018-08-06T21:45:26.519Z"
    }
   },
   "outputs": [],
   "source": [
    "y=df_smaller['loan_status']\n",
    "X=df_smaller.drop('loan_status', axis=1)"
   ]
  },
  {
   "cell_type": "code",
   "execution_count": null,
   "metadata": {
    "ExecuteTime": {
     "end_time": "2018-08-06T21:45:53.474050Z",
     "start_time": "2018-08-06T21:45:26.522Z"
    },
    "scrolled": true
   },
   "outputs": [],
   "source": [
    "X_train, X_test, y_train, y_test=train_test_split(X, y, test_size=0.3, random_state=99)"
   ]
  },
  {
   "cell_type": "code",
   "execution_count": null,
   "metadata": {
    "ExecuteTime": {
     "end_time": "2018-08-06T21:45:53.476237Z",
     "start_time": "2018-08-06T21:45:26.524Z"
    }
   },
   "outputs": [],
   "source": [
    "models = [RandomForestClassifier(n_estimators=100, n_jobs=-1, max_depth=10), DecisionTreeClassifier(max_depth=None), \n",
    "          BaggingClassifier(base_estimator=DecisionTreeClassifier(),n_estimators=100, n_jobs=-1),\n",
    "          SVC(probability=True), LogisticRegression(C=0.1), SGDClassifier(loss='log', random_state=42, alpha=0.01)]\n",
    "model_names = [\"Random Forest\", \"Decision Tree\",'Bagging Classifier','SVC','Logistic','SGD-Log']"
   ]
  },
  {
   "cell_type": "code",
   "execution_count": null,
   "metadata": {
    "ExecuteTime": {
     "end_time": "2018-08-06T21:45:53.480794Z",
     "start_time": "2018-08-06T21:45:26.527Z"
    }
   },
   "outputs": [],
   "source": [
    "## always guess the marjority of class\n",
    "\n",
    "from sklearn.dummy import DummyClassifier"
   ]
  },
  {
   "cell_type": "code",
   "execution_count": null,
   "metadata": {
    "ExecuteTime": {
     "end_time": "2018-08-06T21:45:53.486068Z",
     "start_time": "2018-08-06T21:45:26.530Z"
    }
   },
   "outputs": [],
   "source": [
    "from sklearn.preprocessing import StandardScaler\n",
    "\n",
    "ss = StandardScaler()\n",
    "ss.fit(X_train)\n",
    "X_train = ss.transform(X_train)\n",
    "X_test = ss.transform(X_test)"
   ]
  },
  {
   "cell_type": "code",
   "execution_count": null,
   "metadata": {
    "ExecuteTime": {
     "end_time": "2018-08-06T21:45:53.488823Z",
     "start_time": "2018-08-06T21:45:26.532Z"
    }
   },
   "outputs": [],
   "source": [
    "scores=[]\n",
    "for clf, name in zip(models, model_names):\n",
    "    clf.fit(X_train, y_train)\n",
    "    y_pred = clf.predict_proba(X_test)\n",
    "    scores.append[accuracy_score(preds, y)]"
   ]
  },
  {
   "cell_type": "code",
   "execution_count": null,
   "metadata": {},
   "outputs": [],
   "source": []
  }
 ],
 "metadata": {
  "kernelspec": {
   "display_name": "Python 3",
   "language": "python",
   "name": "python3"
  },
  "language_info": {
   "codemirror_mode": {
    "name": "ipython",
    "version": 3
   },
   "file_extension": ".py",
   "mimetype": "text/x-python",
   "name": "python",
   "nbconvert_exporter": "python",
   "pygments_lexer": "ipython3",
   "version": "3.6.6"
  },
  "varInspector": {
   "cols": {
    "lenName": 16,
    "lenType": 16,
    "lenVar": 40
   },
   "kernels_config": {
    "python": {
     "delete_cmd_postfix": "",
     "delete_cmd_prefix": "del ",
     "library": "var_list.py",
     "varRefreshCmd": "print(var_dic_list())"
    },
    "r": {
     "delete_cmd_postfix": ") ",
     "delete_cmd_prefix": "rm(",
     "library": "var_list.r",
     "varRefreshCmd": "cat(var_dic_list()) "
    }
   },
   "types_to_exclude": [
    "module",
    "function",
    "builtin_function_or_method",
    "instance",
    "_Feature"
   ],
   "window_display": false
  }
 },
 "nbformat": 4,
 "nbformat_minor": 2
}
