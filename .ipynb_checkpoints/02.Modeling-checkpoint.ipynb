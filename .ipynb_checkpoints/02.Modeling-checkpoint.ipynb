{
 "cells": [
  {
   "cell_type": "code",
   "execution_count": 1,
   "metadata": {
    "ExecuteTime": {
     "end_time": "2018-08-07T10:31:20.568240Z",
     "start_time": "2018-08-07T10:31:19.022475Z"
    }
   },
   "outputs": [],
   "source": [
    "import pandas as pd\n",
    "import numpy as np\n",
    "import csv\n",
    "import sqlite3\n",
    "import re\n",
    "import pickle\n",
    "\n",
    "\n",
    "from sklearn.dummy import DummyClassifier\n",
    "\n",
    "from imblearn.under_sampling import RandomUnderSampler\n",
    "from sklearn.datasets import load_wine\n",
    "from sklearn.tree import DecisionTreeClassifier\n",
    "from sklearn.ensemble import RandomForestClassifier, BaggingClassifier\n",
    "from sklearn.model_selection import train_test_split\n",
    "\n",
    "from sklearn.preprocessing import StandardScaler\n",
    "from sklearn.linear_model import LogisticRegression, SGDClassifier\n",
    "from sklearn.svm import SVC\n",
    "from sklearn.metrics import roc_curve, auc\n",
    "\n",
    "\n",
    "from sklearn.metrics import accuracy_score\n",
    "\n",
    "import matplotlib.pyplot as plt\n",
    "%matplotlib inline"
   ]
  },
  {
   "cell_type": "code",
   "execution_count": 2,
   "metadata": {
    "ExecuteTime": {
     "end_time": "2018-08-07T10:31:20.693694Z",
     "start_time": "2018-08-07T10:31:20.689437Z"
    }
   },
   "outputs": [],
   "source": [
    "plt.style.use('seaborn')"
   ]
  },
  {
   "cell_type": "code",
   "execution_count": 3,
   "metadata": {
    "ExecuteTime": {
     "end_time": "2018-08-07T10:31:21.408541Z",
     "start_time": "2018-08-07T10:31:20.822200Z"
    }
   },
   "outputs": [],
   "source": [
    "pkl_filename= '/Users/xzhou/github/project_files/lending_club/loan.pkl'\n",
    "\n",
    "with open(pkl_filename, 'rb') as pklfile:\n",
    "    df=pd.read_pickle(pkl_filename)"
   ]
  },
  {
   "cell_type": "code",
   "execution_count": 4,
   "metadata": {
    "ExecuteTime": {
     "end_time": "2018-08-07T10:31:23.745176Z",
     "start_time": "2018-08-07T10:31:23.735677Z"
    }
   },
   "outputs": [
    {
     "data": {
      "text/plain": [
       "(872926, 47)"
      ]
     },
     "execution_count": 4,
     "metadata": {},
     "output_type": "execute_result"
    }
   ],
   "source": [
    "df.shape"
   ]
  },
  {
   "cell_type": "code",
   "execution_count": 5,
   "metadata": {
    "ExecuteTime": {
     "end_time": "2018-08-07T10:31:26.184808Z",
     "start_time": "2018-08-07T10:31:26.176147Z"
    }
   },
   "outputs": [
    {
     "data": {
      "text/plain": [
       "Index(['loan_amnt', 'int_rate', 'emp_length', 'annual_inc', 'loan_status',\n",
       "       'delinq_2yrs', 'earliest_cr_line', 'inq_last_6mths',\n",
       "       'mths_since_last_delinq', 'mths_since_last_record', 'open_acc',\n",
       "       'pub_rec', 'revol_bal', 'revol_util', 'acc_now_delinq',\n",
       "       'term_ 36 months', 'term_ 60 months', 'grade_A', 'grade_B', 'grade_C',\n",
       "       'grade_D', 'grade_E', 'grade_F', 'grade_G', 'home_ownership_mortgage',\n",
       "       'home_ownership_others', 'home_ownership_own', 'home_ownership_rent',\n",
       "       'purpose_car', 'purpose_credit_card', 'purpose_debt_consolidation',\n",
       "       'purpose_educational', 'purpose_home_improvement', 'purpose_house',\n",
       "       'purpose_major_purchase', 'purpose_medical', 'purpose_moving',\n",
       "       'purpose_other', 'purpose_renewable_energy', 'purpose_small_business',\n",
       "       'purpose_vacation', 'purpose_wedding',\n",
       "       'inversed_mths_since_last_delinq', 'inversed_mths_since_last_record',\n",
       "       'income_to_debt_ratio', 'application_type_INDIVIDUAL',\n",
       "       'application_type_JOINT'],\n",
       "      dtype='object')"
      ]
     },
     "execution_count": 5,
     "metadata": {},
     "output_type": "execute_result"
    }
   ],
   "source": [
    "df.columns"
   ]
  },
  {
   "cell_type": "code",
   "execution_count": 6,
   "metadata": {
    "ExecuteTime": {
     "end_time": "2018-08-07T10:31:29.291537Z",
     "start_time": "2018-08-07T10:31:28.554318Z"
    }
   },
   "outputs": [
    {
     "data": {
      "text/html": [
       "<div>\n",
       "<style scoped>\n",
       "    .dataframe tbody tr th:only-of-type {\n",
       "        vertical-align: middle;\n",
       "    }\n",
       "\n",
       "    .dataframe tbody tr th {\n",
       "        vertical-align: top;\n",
       "    }\n",
       "\n",
       "    .dataframe thead th {\n",
       "        text-align: right;\n",
       "    }\n",
       "</style>\n",
       "<table border=\"1\" class=\"dataframe\">\n",
       "  <thead>\n",
       "    <tr style=\"text-align: right;\">\n",
       "      <th></th>\n",
       "      <th>loan_amnt</th>\n",
       "      <th>int_rate</th>\n",
       "      <th>emp_length</th>\n",
       "      <th>annual_inc</th>\n",
       "      <th>delinq_2yrs</th>\n",
       "      <th>earliest_cr_line</th>\n",
       "      <th>inq_last_6mths</th>\n",
       "      <th>mths_since_last_delinq</th>\n",
       "      <th>mths_since_last_record</th>\n",
       "      <th>open_acc</th>\n",
       "      <th>...</th>\n",
       "      <th>purpose_other</th>\n",
       "      <th>purpose_renewable_energy</th>\n",
       "      <th>purpose_small_business</th>\n",
       "      <th>purpose_vacation</th>\n",
       "      <th>purpose_wedding</th>\n",
       "      <th>inversed_mths_since_last_delinq</th>\n",
       "      <th>inversed_mths_since_last_record</th>\n",
       "      <th>income_to_debt_ratio</th>\n",
       "      <th>application_type_INDIVIDUAL</th>\n",
       "      <th>application_type_JOINT</th>\n",
       "    </tr>\n",
       "    <tr>\n",
       "      <th>loan_status</th>\n",
       "      <th></th>\n",
       "      <th></th>\n",
       "      <th></th>\n",
       "      <th></th>\n",
       "      <th></th>\n",
       "      <th></th>\n",
       "      <th></th>\n",
       "      <th></th>\n",
       "      <th></th>\n",
       "      <th></th>\n",
       "      <th></th>\n",
       "      <th></th>\n",
       "      <th></th>\n",
       "      <th></th>\n",
       "      <th></th>\n",
       "      <th></th>\n",
       "      <th></th>\n",
       "      <th></th>\n",
       "      <th></th>\n",
       "      <th></th>\n",
       "      <th></th>\n",
       "    </tr>\n",
       "  </thead>\n",
       "  <tbody>\n",
       "    <tr>\n",
       "      <th>bad</th>\n",
       "      <td>66325</td>\n",
       "      <td>66325</td>\n",
       "      <td>66325</td>\n",
       "      <td>66325</td>\n",
       "      <td>66325</td>\n",
       "      <td>66325</td>\n",
       "      <td>66325</td>\n",
       "      <td>66325</td>\n",
       "      <td>66325</td>\n",
       "      <td>66325</td>\n",
       "      <td>...</td>\n",
       "      <td>66325</td>\n",
       "      <td>66325</td>\n",
       "      <td>66325</td>\n",
       "      <td>66325</td>\n",
       "      <td>66325</td>\n",
       "      <td>66325</td>\n",
       "      <td>66325</td>\n",
       "      <td>66325</td>\n",
       "      <td>66325</td>\n",
       "      <td>66325</td>\n",
       "    </tr>\n",
       "    <tr>\n",
       "      <th>good</th>\n",
       "      <td>806601</td>\n",
       "      <td>806601</td>\n",
       "      <td>806601</td>\n",
       "      <td>806601</td>\n",
       "      <td>806601</td>\n",
       "      <td>806601</td>\n",
       "      <td>806601</td>\n",
       "      <td>806601</td>\n",
       "      <td>806601</td>\n",
       "      <td>806601</td>\n",
       "      <td>...</td>\n",
       "      <td>806601</td>\n",
       "      <td>806601</td>\n",
       "      <td>806601</td>\n",
       "      <td>806601</td>\n",
       "      <td>806601</td>\n",
       "      <td>806601</td>\n",
       "      <td>806601</td>\n",
       "      <td>806601</td>\n",
       "      <td>806601</td>\n",
       "      <td>806601</td>\n",
       "    </tr>\n",
       "  </tbody>\n",
       "</table>\n",
       "<p>2 rows × 46 columns</p>\n",
       "</div>"
      ],
      "text/plain": [
       "             loan_amnt  int_rate  emp_length  annual_inc  delinq_2yrs  \\\n",
       "loan_status                                                             \n",
       "bad              66325     66325       66325       66325        66325   \n",
       "good            806601    806601      806601      806601       806601   \n",
       "\n",
       "             earliest_cr_line  inq_last_6mths  mths_since_last_delinq  \\\n",
       "loan_status                                                             \n",
       "bad                     66325           66325                   66325   \n",
       "good                   806601          806601                  806601   \n",
       "\n",
       "             mths_since_last_record  open_acc           ...            \\\n",
       "loan_status                                             ...             \n",
       "bad                           66325     66325           ...             \n",
       "good                         806601    806601           ...             \n",
       "\n",
       "             purpose_other  purpose_renewable_energy  purpose_small_business  \\\n",
       "loan_status                                                                    \n",
       "bad                  66325                     66325                   66325   \n",
       "good                806601                    806601                  806601   \n",
       "\n",
       "             purpose_vacation  purpose_wedding  \\\n",
       "loan_status                                      \n",
       "bad                     66325            66325   \n",
       "good                   806601           806601   \n",
       "\n",
       "             inversed_mths_since_last_delinq  inversed_mths_since_last_record  \\\n",
       "loan_status                                                                     \n",
       "bad                                    66325                            66325   \n",
       "good                                  806601                           806601   \n",
       "\n",
       "             income_to_debt_ratio  application_type_INDIVIDUAL  \\\n",
       "loan_status                                                      \n",
       "bad                         66325                        66325   \n",
       "good                       806601                       806601   \n",
       "\n",
       "             application_type_JOINT  \n",
       "loan_status                          \n",
       "bad                           66325  \n",
       "good                         806601  \n",
       "\n",
       "[2 rows x 46 columns]"
      ]
     },
     "execution_count": 6,
     "metadata": {},
     "output_type": "execute_result"
    }
   ],
   "source": [
    "# Noted loan_status is highly imbalanced. good vs. bad = 12 : 1\n",
    "\n",
    "df.groupby('loan_status').count()"
   ]
  },
  {
   "cell_type": "code",
   "execution_count": 7,
   "metadata": {
    "ExecuteTime": {
     "end_time": "2018-08-07T10:31:31.349808Z",
     "start_time": "2018-08-07T10:31:31.321050Z"
    }
   },
   "outputs": [
    {
     "data": {
      "text/html": [
       "<div>\n",
       "<style scoped>\n",
       "    .dataframe tbody tr th:only-of-type {\n",
       "        vertical-align: middle;\n",
       "    }\n",
       "\n",
       "    .dataframe tbody tr th {\n",
       "        vertical-align: top;\n",
       "    }\n",
       "\n",
       "    .dataframe thead th {\n",
       "        text-align: right;\n",
       "    }\n",
       "</style>\n",
       "<table border=\"1\" class=\"dataframe\">\n",
       "  <thead>\n",
       "    <tr style=\"text-align: right;\">\n",
       "      <th></th>\n",
       "      <th>loan_amnt</th>\n",
       "      <th>int_rate</th>\n",
       "      <th>emp_length</th>\n",
       "      <th>annual_inc</th>\n",
       "      <th>loan_status</th>\n",
       "      <th>delinq_2yrs</th>\n",
       "      <th>earliest_cr_line</th>\n",
       "      <th>inq_last_6mths</th>\n",
       "      <th>mths_since_last_delinq</th>\n",
       "      <th>mths_since_last_record</th>\n",
       "      <th>...</th>\n",
       "      <th>purpose_other</th>\n",
       "      <th>purpose_renewable_energy</th>\n",
       "      <th>purpose_small_business</th>\n",
       "      <th>purpose_vacation</th>\n",
       "      <th>purpose_wedding</th>\n",
       "      <th>inversed_mths_since_last_delinq</th>\n",
       "      <th>inversed_mths_since_last_record</th>\n",
       "      <th>income_to_debt_ratio</th>\n",
       "      <th>application_type_INDIVIDUAL</th>\n",
       "      <th>application_type_JOINT</th>\n",
       "    </tr>\n",
       "  </thead>\n",
       "  <tbody>\n",
       "    <tr>\n",
       "      <th>0</th>\n",
       "      <td>5000.0</td>\n",
       "      <td>10.65</td>\n",
       "      <td>10.0</td>\n",
       "      <td>24000.0</td>\n",
       "      <td>good</td>\n",
       "      <td>0.0</td>\n",
       "      <td>31</td>\n",
       "      <td>1.0</td>\n",
       "      <td>0.0</td>\n",
       "      <td>0.0</td>\n",
       "      <td>...</td>\n",
       "      <td>0</td>\n",
       "      <td>0</td>\n",
       "      <td>0</td>\n",
       "      <td>0</td>\n",
       "      <td>0</td>\n",
       "      <td>0.000000</td>\n",
       "      <td>0.0</td>\n",
       "      <td>1.758499</td>\n",
       "      <td>1</td>\n",
       "      <td>0</td>\n",
       "    </tr>\n",
       "    <tr>\n",
       "      <th>1</th>\n",
       "      <td>2500.0</td>\n",
       "      <td>15.27</td>\n",
       "      <td>1.0</td>\n",
       "      <td>30000.0</td>\n",
       "      <td>bad</td>\n",
       "      <td>0.0</td>\n",
       "      <td>17</td>\n",
       "      <td>5.0</td>\n",
       "      <td>0.0</td>\n",
       "      <td>0.0</td>\n",
       "      <td>...</td>\n",
       "      <td>0</td>\n",
       "      <td>0</td>\n",
       "      <td>0</td>\n",
       "      <td>0</td>\n",
       "      <td>0</td>\n",
       "      <td>0.000000</td>\n",
       "      <td>0.0</td>\n",
       "      <td>17.783047</td>\n",
       "      <td>1</td>\n",
       "      <td>0</td>\n",
       "    </tr>\n",
       "    <tr>\n",
       "      <th>2</th>\n",
       "      <td>2400.0</td>\n",
       "      <td>15.96</td>\n",
       "      <td>10.0</td>\n",
       "      <td>12252.0</td>\n",
       "      <td>good</td>\n",
       "      <td>0.0</td>\n",
       "      <td>15</td>\n",
       "      <td>2.0</td>\n",
       "      <td>0.0</td>\n",
       "      <td>0.0</td>\n",
       "      <td>...</td>\n",
       "      <td>0</td>\n",
       "      <td>0</td>\n",
       "      <td>1</td>\n",
       "      <td>0</td>\n",
       "      <td>0</td>\n",
       "      <td>0.000000</td>\n",
       "      <td>0.0</td>\n",
       "      <td>4.144790</td>\n",
       "      <td>1</td>\n",
       "      <td>0</td>\n",
       "    </tr>\n",
       "    <tr>\n",
       "      <th>3</th>\n",
       "      <td>10000.0</td>\n",
       "      <td>13.49</td>\n",
       "      <td>10.0</td>\n",
       "      <td>49200.0</td>\n",
       "      <td>good</td>\n",
       "      <td>0.0</td>\n",
       "      <td>20</td>\n",
       "      <td>1.0</td>\n",
       "      <td>35.0</td>\n",
       "      <td>0.0</td>\n",
       "      <td>...</td>\n",
       "      <td>1</td>\n",
       "      <td>0</td>\n",
       "      <td>0</td>\n",
       "      <td>0</td>\n",
       "      <td>0</td>\n",
       "      <td>0.028571</td>\n",
       "      <td>0.0</td>\n",
       "      <td>8.788853</td>\n",
       "      <td>1</td>\n",
       "      <td>0</td>\n",
       "    </tr>\n",
       "    <tr>\n",
       "      <th>4</th>\n",
       "      <td>3000.0</td>\n",
       "      <td>12.69</td>\n",
       "      <td>1.0</td>\n",
       "      <td>80000.0</td>\n",
       "      <td>good</td>\n",
       "      <td>0.0</td>\n",
       "      <td>20</td>\n",
       "      <td>0.0</td>\n",
       "      <td>38.0</td>\n",
       "      <td>0.0</td>\n",
       "      <td>...</td>\n",
       "      <td>1</td>\n",
       "      <td>0</td>\n",
       "      <td>0</td>\n",
       "      <td>0</td>\n",
       "      <td>0</td>\n",
       "      <td>0.026316</td>\n",
       "      <td>0.0</td>\n",
       "      <td>2.879459</td>\n",
       "      <td>1</td>\n",
       "      <td>0</td>\n",
       "    </tr>\n",
       "  </tbody>\n",
       "</table>\n",
       "<p>5 rows × 47 columns</p>\n",
       "</div>"
      ],
      "text/plain": [
       "   loan_amnt  int_rate  emp_length  annual_inc loan_status  delinq_2yrs  \\\n",
       "0     5000.0     10.65        10.0     24000.0        good          0.0   \n",
       "1     2500.0     15.27         1.0     30000.0         bad          0.0   \n",
       "2     2400.0     15.96        10.0     12252.0        good          0.0   \n",
       "3    10000.0     13.49        10.0     49200.0        good          0.0   \n",
       "4     3000.0     12.69         1.0     80000.0        good          0.0   \n",
       "\n",
       "   earliest_cr_line  inq_last_6mths  mths_since_last_delinq  \\\n",
       "0                31             1.0                     0.0   \n",
       "1                17             5.0                     0.0   \n",
       "2                15             2.0                     0.0   \n",
       "3                20             1.0                    35.0   \n",
       "4                20             0.0                    38.0   \n",
       "\n",
       "   mths_since_last_record           ...            purpose_other  \\\n",
       "0                     0.0           ...                        0   \n",
       "1                     0.0           ...                        0   \n",
       "2                     0.0           ...                        0   \n",
       "3                     0.0           ...                        1   \n",
       "4                     0.0           ...                        1   \n",
       "\n",
       "   purpose_renewable_energy  purpose_small_business  purpose_vacation  \\\n",
       "0                         0                       0                 0   \n",
       "1                         0                       0                 0   \n",
       "2                         0                       1                 0   \n",
       "3                         0                       0                 0   \n",
       "4                         0                       0                 0   \n",
       "\n",
       "   purpose_wedding  inversed_mths_since_last_delinq  \\\n",
       "0                0                         0.000000   \n",
       "1                0                         0.000000   \n",
       "2                0                         0.000000   \n",
       "3                0                         0.028571   \n",
       "4                0                         0.026316   \n",
       "\n",
       "   inversed_mths_since_last_record  income_to_debt_ratio  \\\n",
       "0                              0.0              1.758499   \n",
       "1                              0.0             17.783047   \n",
       "2                              0.0              4.144790   \n",
       "3                              0.0              8.788853   \n",
       "4                              0.0              2.879459   \n",
       "\n",
       "   application_type_INDIVIDUAL  application_type_JOINT  \n",
       "0                            1                       0  \n",
       "1                            1                       0  \n",
       "2                            1                       0  \n",
       "3                            1                       0  \n",
       "4                            1                       0  \n",
       "\n",
       "[5 rows x 47 columns]"
      ]
     },
     "execution_count": 7,
     "metadata": {},
     "output_type": "execute_result"
    }
   ],
   "source": [
    "df.head()"
   ]
  },
  {
   "cell_type": "code",
   "execution_count": 8,
   "metadata": {
    "ExecuteTime": {
     "end_time": "2018-08-07T10:31:33.606843Z",
     "start_time": "2018-08-07T10:31:33.537751Z"
    }
   },
   "outputs": [],
   "source": [
    "# Assign bad loan as value 1 and good loan as value 0\n",
    "\n",
    "df['loan_status'] = (df['loan_status']=='bad').astype(int)"
   ]
  },
  {
   "cell_type": "code",
   "execution_count": 9,
   "metadata": {
    "ExecuteTime": {
     "end_time": "2018-08-07T10:31:35.756552Z",
     "start_time": "2018-08-07T10:31:35.702367Z"
    }
   },
   "outputs": [],
   "source": [
    "df=df.reset_index()"
   ]
  },
  {
   "cell_type": "code",
   "execution_count": 10,
   "metadata": {
    "ExecuteTime": {
     "end_time": "2018-08-07T10:31:41.462439Z",
     "start_time": "2018-08-07T10:31:37.696894Z"
    }
   },
   "outputs": [
    {
     "data": {
      "text/html": [
       "<div>\n",
       "<style scoped>\n",
       "    .dataframe tbody tr th:only-of-type {\n",
       "        vertical-align: middle;\n",
       "    }\n",
       "\n",
       "    .dataframe tbody tr th {\n",
       "        vertical-align: top;\n",
       "    }\n",
       "\n",
       "    .dataframe thead th {\n",
       "        text-align: right;\n",
       "    }\n",
       "</style>\n",
       "<table border=\"1\" class=\"dataframe\">\n",
       "  <thead>\n",
       "    <tr style=\"text-align: right;\">\n",
       "      <th></th>\n",
       "      <th>index</th>\n",
       "      <th>loan_amnt</th>\n",
       "      <th>int_rate</th>\n",
       "      <th>emp_length</th>\n",
       "      <th>annual_inc</th>\n",
       "      <th>loan_status</th>\n",
       "      <th>delinq_2yrs</th>\n",
       "      <th>earliest_cr_line</th>\n",
       "      <th>inq_last_6mths</th>\n",
       "      <th>mths_since_last_delinq</th>\n",
       "      <th>...</th>\n",
       "      <th>purpose_other</th>\n",
       "      <th>purpose_renewable_energy</th>\n",
       "      <th>purpose_small_business</th>\n",
       "      <th>purpose_vacation</th>\n",
       "      <th>purpose_wedding</th>\n",
       "      <th>inversed_mths_since_last_delinq</th>\n",
       "      <th>inversed_mths_since_last_record</th>\n",
       "      <th>income_to_debt_ratio</th>\n",
       "      <th>application_type_INDIVIDUAL</th>\n",
       "      <th>application_type_JOINT</th>\n",
       "    </tr>\n",
       "  </thead>\n",
       "  <tbody>\n",
       "    <tr>\n",
       "      <th>count</th>\n",
       "      <td>872926.000000</td>\n",
       "      <td>872926.000000</td>\n",
       "      <td>872926.000000</td>\n",
       "      <td>872926.000000</td>\n",
       "      <td>8.729260e+05</td>\n",
       "      <td>872926.000000</td>\n",
       "      <td>872926.000000</td>\n",
       "      <td>872926.000000</td>\n",
       "      <td>872926.000000</td>\n",
       "      <td>872926.000000</td>\n",
       "      <td>...</td>\n",
       "      <td>872926.000000</td>\n",
       "      <td>872926.000000</td>\n",
       "      <td>872926.000000</td>\n",
       "      <td>872926.000000</td>\n",
       "      <td>872926.000000</td>\n",
       "      <td>872926.000000</td>\n",
       "      <td>872926.000000</td>\n",
       "      <td>872926.000000</td>\n",
       "      <td>872926.000000</td>\n",
       "      <td>872926.000000</td>\n",
       "    </tr>\n",
       "    <tr>\n",
       "      <th>mean</th>\n",
       "      <td>445121.871486</td>\n",
       "      <td>14779.352803</td>\n",
       "      <td>13.252395</td>\n",
       "      <td>6.101334</td>\n",
       "      <td>7.500838e+04</td>\n",
       "      <td>0.075980</td>\n",
       "      <td>0.314092</td>\n",
       "      <td>18.306563</td>\n",
       "      <td>0.684289</td>\n",
       "      <td>16.620124</td>\n",
       "      <td>...</td>\n",
       "      <td>0.047600</td>\n",
       "      <td>0.000635</td>\n",
       "      <td>0.011380</td>\n",
       "      <td>0.005272</td>\n",
       "      <td>0.002560</td>\n",
       "      <td>0.031165</td>\n",
       "      <td>0.003001</td>\n",
       "      <td>24.496675</td>\n",
       "      <td>0.999488</td>\n",
       "      <td>0.000512</td>\n",
       "    </tr>\n",
       "    <tr>\n",
       "      <th>std</th>\n",
       "      <td>256566.288154</td>\n",
       "      <td>8427.927252</td>\n",
       "      <td>4.384235</td>\n",
       "      <td>3.444948</td>\n",
       "      <td>6.469140e+04</td>\n",
       "      <td>0.264966</td>\n",
       "      <td>0.861302</td>\n",
       "      <td>7.432795</td>\n",
       "      <td>0.966162</td>\n",
       "      <td>22.885271</td>\n",
       "      <td>...</td>\n",
       "      <td>0.212918</td>\n",
       "      <td>0.025184</td>\n",
       "      <td>0.106069</td>\n",
       "      <td>0.072416</td>\n",
       "      <td>0.050535</td>\n",
       "      <td>0.081515</td>\n",
       "      <td>0.014310</td>\n",
       "      <td>742.312695</td>\n",
       "      <td>0.022623</td>\n",
       "      <td>0.022623</td>\n",
       "    </tr>\n",
       "    <tr>\n",
       "      <th>min</th>\n",
       "      <td>0.000000</td>\n",
       "      <td>500.000000</td>\n",
       "      <td>5.320000</td>\n",
       "      <td>1.000000</td>\n",
       "      <td>0.000000e+00</td>\n",
       "      <td>0.000000</td>\n",
       "      <td>0.000000</td>\n",
       "      <td>4.000000</td>\n",
       "      <td>0.000000</td>\n",
       "      <td>0.000000</td>\n",
       "      <td>...</td>\n",
       "      <td>0.000000</td>\n",
       "      <td>0.000000</td>\n",
       "      <td>0.000000</td>\n",
       "      <td>0.000000</td>\n",
       "      <td>0.000000</td>\n",
       "      <td>0.000000</td>\n",
       "      <td>0.000000</td>\n",
       "      <td>0.000000</td>\n",
       "      <td>0.000000</td>\n",
       "      <td>0.000000</td>\n",
       "    </tr>\n",
       "    <tr>\n",
       "      <th>25%</th>\n",
       "      <td>222486.250000</td>\n",
       "      <td>8000.000000</td>\n",
       "      <td>9.990000</td>\n",
       "      <td>3.000000</td>\n",
       "      <td>4.500000e+04</td>\n",
       "      <td>0.000000</td>\n",
       "      <td>0.000000</td>\n",
       "      <td>13.000000</td>\n",
       "      <td>0.000000</td>\n",
       "      <td>0.000000</td>\n",
       "      <td>...</td>\n",
       "      <td>0.000000</td>\n",
       "      <td>0.000000</td>\n",
       "      <td>0.000000</td>\n",
       "      <td>0.000000</td>\n",
       "      <td>0.000000</td>\n",
       "      <td>0.000000</td>\n",
       "      <td>0.000000</td>\n",
       "      <td>3.186915</td>\n",
       "      <td>1.000000</td>\n",
       "      <td>0.000000</td>\n",
       "    </tr>\n",
       "    <tr>\n",
       "      <th>50%</th>\n",
       "      <td>441304.500000</td>\n",
       "      <td>13000.000000</td>\n",
       "      <td>12.990000</td>\n",
       "      <td>6.098617</td>\n",
       "      <td>6.500000e+04</td>\n",
       "      <td>0.000000</td>\n",
       "      <td>0.000000</td>\n",
       "      <td>17.000000</td>\n",
       "      <td>0.000000</td>\n",
       "      <td>0.000000</td>\n",
       "      <td>...</td>\n",
       "      <td>0.000000</td>\n",
       "      <td>0.000000</td>\n",
       "      <td>0.000000</td>\n",
       "      <td>0.000000</td>\n",
       "      <td>0.000000</td>\n",
       "      <td>0.000000</td>\n",
       "      <td>0.000000</td>\n",
       "      <td>5.136547</td>\n",
       "      <td>1.000000</td>\n",
       "      <td>0.000000</td>\n",
       "    </tr>\n",
       "    <tr>\n",
       "      <th>75%</th>\n",
       "      <td>668569.750000</td>\n",
       "      <td>20000.000000</td>\n",
       "      <td>16.200000</td>\n",
       "      <td>10.000000</td>\n",
       "      <td>9.000000e+04</td>\n",
       "      <td>0.000000</td>\n",
       "      <td>0.000000</td>\n",
       "      <td>22.000000</td>\n",
       "      <td>1.000000</td>\n",
       "      <td>30.000000</td>\n",
       "      <td>...</td>\n",
       "      <td>0.000000</td>\n",
       "      <td>0.000000</td>\n",
       "      <td>0.000000</td>\n",
       "      <td>0.000000</td>\n",
       "      <td>0.000000</td>\n",
       "      <td>0.031250</td>\n",
       "      <td>0.000000</td>\n",
       "      <td>9.139470</td>\n",
       "      <td>1.000000</td>\n",
       "      <td>0.000000</td>\n",
       "    </tr>\n",
       "    <tr>\n",
       "      <th>max</th>\n",
       "      <td>887378.000000</td>\n",
       "      <td>35000.000000</td>\n",
       "      <td>28.990000</td>\n",
       "      <td>10.000000</td>\n",
       "      <td>9.500000e+06</td>\n",
       "      <td>1.000000</td>\n",
       "      <td>39.000000</td>\n",
       "      <td>72.000000</td>\n",
       "      <td>8.000000</td>\n",
       "      <td>188.000000</td>\n",
       "      <td>...</td>\n",
       "      <td>1.000000</td>\n",
       "      <td>1.000000</td>\n",
       "      <td>1.000000</td>\n",
       "      <td>1.000000</td>\n",
       "      <td>1.000000</td>\n",
       "      <td>1.000000</td>\n",
       "      <td>1.000000</td>\n",
       "      <td>225000.000000</td>\n",
       "      <td>1.000000</td>\n",
       "      <td>1.000000</td>\n",
       "    </tr>\n",
       "  </tbody>\n",
       "</table>\n",
       "<p>8 rows × 48 columns</p>\n",
       "</div>"
      ],
      "text/plain": [
       "               index      loan_amnt       int_rate     emp_length  \\\n",
       "count  872926.000000  872926.000000  872926.000000  872926.000000   \n",
       "mean   445121.871486   14779.352803      13.252395       6.101334   \n",
       "std    256566.288154    8427.927252       4.384235       3.444948   \n",
       "min         0.000000     500.000000       5.320000       1.000000   \n",
       "25%    222486.250000    8000.000000       9.990000       3.000000   \n",
       "50%    441304.500000   13000.000000      12.990000       6.098617   \n",
       "75%    668569.750000   20000.000000      16.200000      10.000000   \n",
       "max    887378.000000   35000.000000      28.990000      10.000000   \n",
       "\n",
       "         annual_inc    loan_status    delinq_2yrs  earliest_cr_line  \\\n",
       "count  8.729260e+05  872926.000000  872926.000000     872926.000000   \n",
       "mean   7.500838e+04       0.075980       0.314092         18.306563   \n",
       "std    6.469140e+04       0.264966       0.861302          7.432795   \n",
       "min    0.000000e+00       0.000000       0.000000          4.000000   \n",
       "25%    4.500000e+04       0.000000       0.000000         13.000000   \n",
       "50%    6.500000e+04       0.000000       0.000000         17.000000   \n",
       "75%    9.000000e+04       0.000000       0.000000         22.000000   \n",
       "max    9.500000e+06       1.000000      39.000000         72.000000   \n",
       "\n",
       "       inq_last_6mths  mths_since_last_delinq           ...            \\\n",
       "count   872926.000000           872926.000000           ...             \n",
       "mean         0.684289               16.620124           ...             \n",
       "std          0.966162               22.885271           ...             \n",
       "min          0.000000                0.000000           ...             \n",
       "25%          0.000000                0.000000           ...             \n",
       "50%          0.000000                0.000000           ...             \n",
       "75%          1.000000               30.000000           ...             \n",
       "max          8.000000              188.000000           ...             \n",
       "\n",
       "       purpose_other  purpose_renewable_energy  purpose_small_business  \\\n",
       "count  872926.000000             872926.000000           872926.000000   \n",
       "mean        0.047600                  0.000635                0.011380   \n",
       "std         0.212918                  0.025184                0.106069   \n",
       "min         0.000000                  0.000000                0.000000   \n",
       "25%         0.000000                  0.000000                0.000000   \n",
       "50%         0.000000                  0.000000                0.000000   \n",
       "75%         0.000000                  0.000000                0.000000   \n",
       "max         1.000000                  1.000000                1.000000   \n",
       "\n",
       "       purpose_vacation  purpose_wedding  inversed_mths_since_last_delinq  \\\n",
       "count     872926.000000    872926.000000                    872926.000000   \n",
       "mean           0.005272         0.002560                         0.031165   \n",
       "std            0.072416         0.050535                         0.081515   \n",
       "min            0.000000         0.000000                         0.000000   \n",
       "25%            0.000000         0.000000                         0.000000   \n",
       "50%            0.000000         0.000000                         0.000000   \n",
       "75%            0.000000         0.000000                         0.031250   \n",
       "max            1.000000         1.000000                         1.000000   \n",
       "\n",
       "       inversed_mths_since_last_record  income_to_debt_ratio  \\\n",
       "count                    872926.000000         872926.000000   \n",
       "mean                          0.003001             24.496675   \n",
       "std                           0.014310            742.312695   \n",
       "min                           0.000000              0.000000   \n",
       "25%                           0.000000              3.186915   \n",
       "50%                           0.000000              5.136547   \n",
       "75%                           0.000000              9.139470   \n",
       "max                           1.000000         225000.000000   \n",
       "\n",
       "       application_type_INDIVIDUAL  application_type_JOINT  \n",
       "count                872926.000000           872926.000000  \n",
       "mean                      0.999488                0.000512  \n",
       "std                       0.022623                0.022623  \n",
       "min                       0.000000                0.000000  \n",
       "25%                       1.000000                0.000000  \n",
       "50%                       1.000000                0.000000  \n",
       "75%                       1.000000                0.000000  \n",
       "max                       1.000000                1.000000  \n",
       "\n",
       "[8 rows x 48 columns]"
      ]
     },
     "execution_count": 10,
     "metadata": {},
     "output_type": "execute_result"
    }
   ],
   "source": [
    "df.describe(include = 'all')"
   ]
  },
  {
   "cell_type": "code",
   "execution_count": 11,
   "metadata": {
    "ExecuteTime": {
     "end_time": "2018-08-07T10:31:43.932410Z",
     "start_time": "2018-08-07T10:31:43.789853Z"
    }
   },
   "outputs": [],
   "source": [
    "y=df['loan_status']\n",
    "X=df.drop('loan_status', axis=1)"
   ]
  },
  {
   "cell_type": "code",
   "execution_count": 12,
   "metadata": {
    "ExecuteTime": {
     "end_time": "2018-08-07T10:32:06.824671Z",
     "start_time": "2018-08-07T10:32:06.346631Z"
    }
   },
   "outputs": [],
   "source": [
    "# Undersampling will be applied to X_train. Even a test_size of 0.1 will give me a test_size of 87K\n",
    "\n",
    "X_train, X_test, y_train, y_test=train_test_split(X, y, test_size=0.1, random_state=99)"
   ]
  },
  {
   "cell_type": "code",
   "execution_count": 13,
   "metadata": {
    "ExecuteTime": {
     "end_time": "2018-08-07T10:32:15.384288Z",
     "start_time": "2018-08-07T10:32:13.423831Z"
    }
   },
   "outputs": [],
   "source": [
    "ssX=StandardScaler()\n",
    "X_train_scaled=ssX.fit_transform(X_train)\n",
    "X_test_scaled=ssX.transform(X_test)"
   ]
  },
  {
   "cell_type": "code",
   "execution_count": 14,
   "metadata": {
    "ExecuteTime": {
     "end_time": "2018-08-07T10:32:22.860390Z",
     "start_time": "2018-08-07T10:32:22.057440Z"
    }
   },
   "outputs": [],
   "source": [
    "runs=RandomUnderSampler()\n",
    "X_train_scaled_under, y_train_under=runs.fit_sample(X_train_scaled, y_train)"
   ]
  },
  {
   "cell_type": "code",
   "execution_count": 15,
   "metadata": {
    "ExecuteTime": {
     "end_time": "2018-08-07T10:32:29.781438Z",
     "start_time": "2018-08-07T10:32:29.775079Z"
    }
   },
   "outputs": [
    {
     "data": {
      "text/plain": [
       "(119390, 47)"
      ]
     },
     "execution_count": 15,
     "metadata": {},
     "output_type": "execute_result"
    }
   ],
   "source": [
    "X_train_scaled_under.shape"
   ]
  },
  {
   "cell_type": "code",
   "execution_count": 16,
   "metadata": {
    "ExecuteTime": {
     "end_time": "2018-08-07T10:32:36.440590Z",
     "start_time": "2018-08-07T10:32:36.434803Z"
    }
   },
   "outputs": [
    {
     "data": {
      "text/plain": [
       "(119390,)"
      ]
     },
     "execution_count": 16,
     "metadata": {},
     "output_type": "execute_result"
    }
   ],
   "source": [
    "y_train_under.shape"
   ]
  },
  {
   "cell_type": "code",
   "execution_count": 17,
   "metadata": {
    "ExecuteTime": {
     "end_time": "2018-08-07T10:32:43.500334Z",
     "start_time": "2018-08-07T10:32:43.493413Z"
    }
   },
   "outputs": [],
   "source": [
    "models = [RandomForestClassifier(n_estimators=100, n_jobs=-1, max_depth=10), DecisionTreeClassifier(max_depth=None), \n",
    "          BaggingClassifier(base_estimator=DecisionTreeClassifier(),n_estimators=100, n_jobs=-1),\n",
    "          SVC(probability=True), LogisticRegression(C=0.1), SGDClassifier(loss='log', random_state=42, alpha=0.01)]\n",
    "model_names = [\"Random Forest\", \"Decision Tree\",'Bagging Classifier','SVC','Logistic','SGD-Log']"
   ]
  },
  {
   "cell_type": "code",
   "execution_count": null,
   "metadata": {},
   "outputs": [],
   "source": []
  },
  {
   "cell_type": "code",
   "execution_count": null,
   "metadata": {
    "ExecuteTime": {
     "start_time": "2018-08-07T10:18:14.302Z"
    }
   },
   "outputs": [],
   "source": [
    "roc_plotting=[]\n",
    "for clf, name in zip(models, model_names):\n",
    "    clf.fit(X_train_scaled_under, y_train_under)\n",
    "    y_pred = clf.predict_proba(X_test_scaled)\n",
    "    fpr, tpr, _ = roc_curve (y_test, y_pred[:, 1])\n",
    "    auc_score = auc(fpr, tpr)\n",
    "    roc_plotting.append((name, tpr, fpr, auc_score))"
   ]
  },
  {
   "cell_type": "code",
   "execution_count": null,
   "metadata": {
    "ExecuteTime": {
     "end_time": "2018-08-07T09:54:26.315928Z",
     "start_time": "2018-08-07T09:53:37.957Z"
    }
   },
   "outputs": [],
   "source": [
    "plt.figure(dpi=250)\n",
    "for name, tpr, fpr, auc_score in roc_plotting:\n",
    "    plt.plot(fpr, tpr, label=name+' (auc: %.2f)''%auc_score)\n",
    "plt.plot([0,1], [0,1], color='k', linestyle='--')\n",
    "plt.xlabel('False Positive Rate')\n",
    "plt.ylabel('True Positive Rate')\n",
    "plt.title('ROC Curves')"
   ]
  },
  {
   "cell_type": "code",
   "execution_count": null,
   "metadata": {},
   "outputs": [],
   "source": []
  }
 ],
 "metadata": {
  "kernelspec": {
   "display_name": "Python 3",
   "language": "python",
   "name": "python3"
  },
  "language_info": {
   "codemirror_mode": {
    "name": "ipython",
    "version": 3
   },
   "file_extension": ".py",
   "mimetype": "text/x-python",
   "name": "python",
   "nbconvert_exporter": "python",
   "pygments_lexer": "ipython3",
   "version": "3.6.6"
  },
  "varInspector": {
   "cols": {
    "lenName": 16,
    "lenType": 16,
    "lenVar": 40
   },
   "kernels_config": {
    "python": {
     "delete_cmd_postfix": "",
     "delete_cmd_prefix": "del ",
     "library": "var_list.py",
     "varRefreshCmd": "print(var_dic_list())"
    },
    "r": {
     "delete_cmd_postfix": ") ",
     "delete_cmd_prefix": "rm(",
     "library": "var_list.r",
     "varRefreshCmd": "cat(var_dic_list()) "
    }
   },
   "types_to_exclude": [
    "module",
    "function",
    "builtin_function_or_method",
    "instance",
    "_Feature"
   ],
   "window_display": false
  }
 },
 "nbformat": 4,
 "nbformat_minor": 2
}
