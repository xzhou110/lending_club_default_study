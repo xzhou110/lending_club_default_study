{
 "cells": [
  {
   "cell_type": "code",
   "execution_count": 1,
   "metadata": {
    "ExecuteTime": {
     "end_time": "2018-08-08T00:59:16.230124Z",
     "start_time": "2018-08-08T00:59:14.657463Z"
    }
   },
   "outputs": [],
   "source": [
    "import pandas as pd\n",
    "import numpy as np\n",
    "import csv\n",
    "import sqlite3\n",
    "import re\n",
    "import pickle\n",
    "import itertools\n",
    "\n",
    "\n",
    "from sklearn.dummy import DummyClassifier\n",
    "\n",
    "from imblearn.under_sampling import RandomUnderSampler\n",
    "from sklearn.datasets import load_wine\n",
    "from sklearn.tree import DecisionTreeClassifier\n",
    "from sklearn.ensemble import RandomForestClassifier, BaggingClassifier\n",
    "from sklearn.model_selection import train_test_split, GridSearchCV\n",
    "\n",
    "from sklearn.preprocessing import StandardScaler\n",
    "from sklearn.linear_model import LogisticRegression, SGDClassifier\n",
    "from sklearn.svm import SVC\n",
    "from sklearn.metrics import roc_curve, auc, confusion_matrix, classification_report\n",
    "\n",
    "\n",
    "from sklearn.metrics import accuracy_score\n",
    "\n",
    "import matplotlib.pyplot as plt\n",
    "%matplotlib inline"
   ]
  },
  {
   "cell_type": "code",
   "execution_count": 2,
   "metadata": {
    "ExecuteTime": {
     "end_time": "2018-08-08T00:59:16.242833Z",
     "start_time": "2018-08-08T00:59:16.238431Z"
    }
   },
   "outputs": [],
   "source": [
    "plt.style.use('seaborn')"
   ]
  },
  {
   "cell_type": "code",
   "execution_count": 3,
   "metadata": {
    "ExecuteTime": {
     "end_time": "2018-08-08T00:59:21.418549Z",
     "start_time": "2018-08-08T00:59:20.476881Z"
    }
   },
   "outputs": [],
   "source": [
    "pkl_filename= '/Users/xzhou/github/project_files/lending_club/loan2.pkl'\n",
    "\n",
    "with open(pkl_filename, 'rb') as pklfile:\n",
    "    df=pd.read_pickle(pkl_filename)"
   ]
  },
  {
   "cell_type": "code",
   "execution_count": 4,
   "metadata": {
    "ExecuteTime": {
     "end_time": "2018-08-08T00:59:22.984687Z",
     "start_time": "2018-08-08T00:59:22.977038Z"
    }
   },
   "outputs": [
    {
     "data": {
      "text/plain": [
       "(876170, 108)"
      ]
     },
     "execution_count": 4,
     "metadata": {},
     "output_type": "execute_result"
    }
   ],
   "source": [
    "df.shape"
   ]
  },
  {
   "cell_type": "code",
   "execution_count": 5,
   "metadata": {
    "ExecuteTime": {
     "end_time": "2018-08-08T00:59:28.309671Z",
     "start_time": "2018-08-08T00:59:28.303683Z"
    }
   },
   "outputs": [
    {
     "data": {
      "text/plain": [
       "Index(['loan_amnt', 'int_rate', 'installment', 'emp_length', 'annual_inc',\n",
       "       'loan_status', 'payment_to_income_ratio_individual', 'delinq_2yrs',\n",
       "       'earliest_cr_line', 'inq_last_6mths',\n",
       "       ...\n",
       "       'addr_state_SD', 'addr_state_TN', 'addr_state_TX', 'addr_state_UT',\n",
       "       'addr_state_VA', 'addr_state_VT', 'addr_state_WA', 'addr_state_WI',\n",
       "       'addr_state_WV', 'addr_state_WY'],\n",
       "      dtype='object', length=108)"
      ]
     },
     "execution_count": 5,
     "metadata": {},
     "output_type": "execute_result"
    }
   ],
   "source": [
    "df.columns"
   ]
  },
  {
   "cell_type": "code",
   "execution_count": 6,
   "metadata": {
    "ExecuteTime": {
     "end_time": "2018-08-08T00:59:30.556128Z",
     "start_time": "2018-08-08T00:59:29.416818Z"
    }
   },
   "outputs": [
    {
     "data": {
      "text/html": [
       "<div>\n",
       "<style scoped>\n",
       "    .dataframe tbody tr th:only-of-type {\n",
       "        vertical-align: middle;\n",
       "    }\n",
       "\n",
       "    .dataframe tbody tr th {\n",
       "        vertical-align: top;\n",
       "    }\n",
       "\n",
       "    .dataframe thead th {\n",
       "        text-align: right;\n",
       "    }\n",
       "</style>\n",
       "<table border=\"1\" class=\"dataframe\">\n",
       "  <thead>\n",
       "    <tr style=\"text-align: right;\">\n",
       "      <th></th>\n",
       "      <th>loan_amnt</th>\n",
       "      <th>int_rate</th>\n",
       "      <th>installment</th>\n",
       "      <th>emp_length</th>\n",
       "      <th>annual_inc</th>\n",
       "      <th>payment_to_income_ratio_individual</th>\n",
       "      <th>delinq_2yrs</th>\n",
       "      <th>earliest_cr_line</th>\n",
       "      <th>inq_last_6mths</th>\n",
       "      <th>mths_since_last_delinq</th>\n",
       "      <th>...</th>\n",
       "      <th>addr_state_SD</th>\n",
       "      <th>addr_state_TN</th>\n",
       "      <th>addr_state_TX</th>\n",
       "      <th>addr_state_UT</th>\n",
       "      <th>addr_state_VA</th>\n",
       "      <th>addr_state_VT</th>\n",
       "      <th>addr_state_WA</th>\n",
       "      <th>addr_state_WI</th>\n",
       "      <th>addr_state_WV</th>\n",
       "      <th>addr_state_WY</th>\n",
       "    </tr>\n",
       "    <tr>\n",
       "      <th>loan_status</th>\n",
       "      <th></th>\n",
       "      <th></th>\n",
       "      <th></th>\n",
       "      <th></th>\n",
       "      <th></th>\n",
       "      <th></th>\n",
       "      <th></th>\n",
       "      <th></th>\n",
       "      <th></th>\n",
       "      <th></th>\n",
       "      <th></th>\n",
       "      <th></th>\n",
       "      <th></th>\n",
       "      <th></th>\n",
       "      <th></th>\n",
       "      <th></th>\n",
       "      <th></th>\n",
       "      <th></th>\n",
       "      <th></th>\n",
       "      <th></th>\n",
       "      <th></th>\n",
       "    </tr>\n",
       "  </thead>\n",
       "  <tbody>\n",
       "    <tr>\n",
       "      <th>bad</th>\n",
       "      <td>66668</td>\n",
       "      <td>66668</td>\n",
       "      <td>66668</td>\n",
       "      <td>66668</td>\n",
       "      <td>66668</td>\n",
       "      <td>66668</td>\n",
       "      <td>66668</td>\n",
       "      <td>66668</td>\n",
       "      <td>66668</td>\n",
       "      <td>66668</td>\n",
       "      <td>...</td>\n",
       "      <td>66668</td>\n",
       "      <td>66668</td>\n",
       "      <td>66668</td>\n",
       "      <td>66668</td>\n",
       "      <td>66668</td>\n",
       "      <td>66668</td>\n",
       "      <td>66668</td>\n",
       "      <td>66668</td>\n",
       "      <td>66668</td>\n",
       "      <td>66668</td>\n",
       "    </tr>\n",
       "    <tr>\n",
       "      <th>good</th>\n",
       "      <td>809502</td>\n",
       "      <td>809502</td>\n",
       "      <td>809502</td>\n",
       "      <td>809502</td>\n",
       "      <td>809502</td>\n",
       "      <td>809502</td>\n",
       "      <td>809502</td>\n",
       "      <td>809502</td>\n",
       "      <td>809502</td>\n",
       "      <td>809502</td>\n",
       "      <td>...</td>\n",
       "      <td>809502</td>\n",
       "      <td>809502</td>\n",
       "      <td>809502</td>\n",
       "      <td>809502</td>\n",
       "      <td>809502</td>\n",
       "      <td>809502</td>\n",
       "      <td>809502</td>\n",
       "      <td>809502</td>\n",
       "      <td>809502</td>\n",
       "      <td>809502</td>\n",
       "    </tr>\n",
       "  </tbody>\n",
       "</table>\n",
       "<p>2 rows × 107 columns</p>\n",
       "</div>"
      ],
      "text/plain": [
       "             loan_amnt  int_rate  installment  emp_length  annual_inc  \\\n",
       "loan_status                                                             \n",
       "bad              66668     66668        66668       66668       66668   \n",
       "good            809502    809502       809502      809502      809502   \n",
       "\n",
       "             payment_to_income_ratio_individual  delinq_2yrs  \\\n",
       "loan_status                                                    \n",
       "bad                                       66668        66668   \n",
       "good                                     809502       809502   \n",
       "\n",
       "             earliest_cr_line  inq_last_6mths  mths_since_last_delinq  \\\n",
       "loan_status                                                             \n",
       "bad                     66668           66668                   66668   \n",
       "good                   809502          809502                  809502   \n",
       "\n",
       "                 ...        addr_state_SD  addr_state_TN  addr_state_TX  \\\n",
       "loan_status      ...                                                      \n",
       "bad              ...                66668          66668          66668   \n",
       "good             ...               809502         809502         809502   \n",
       "\n",
       "             addr_state_UT  addr_state_VA  addr_state_VT  addr_state_WA  \\\n",
       "loan_status                                                               \n",
       "bad                  66668          66668          66668          66668   \n",
       "good                809502         809502         809502         809502   \n",
       "\n",
       "             addr_state_WI  addr_state_WV  addr_state_WY  \n",
       "loan_status                                               \n",
       "bad                  66668          66668          66668  \n",
       "good                809502         809502         809502  \n",
       "\n",
       "[2 rows x 107 columns]"
      ]
     },
     "execution_count": 6,
     "metadata": {},
     "output_type": "execute_result"
    }
   ],
   "source": [
    "# Noted loan_status is highly imbalanced. good vs. bad = 12 : 1\n",
    "\n",
    "df.groupby('loan_status').count()"
   ]
  },
  {
   "cell_type": "code",
   "execution_count": 7,
   "metadata": {
    "ExecuteTime": {
     "end_time": "2018-08-08T00:59:39.438434Z",
     "start_time": "2018-08-08T00:59:39.415686Z"
    }
   },
   "outputs": [
    {
     "data": {
      "text/html": [
       "<div>\n",
       "<style scoped>\n",
       "    .dataframe tbody tr th:only-of-type {\n",
       "        vertical-align: middle;\n",
       "    }\n",
       "\n",
       "    .dataframe tbody tr th {\n",
       "        vertical-align: top;\n",
       "    }\n",
       "\n",
       "    .dataframe thead th {\n",
       "        text-align: right;\n",
       "    }\n",
       "</style>\n",
       "<table border=\"1\" class=\"dataframe\">\n",
       "  <thead>\n",
       "    <tr style=\"text-align: right;\">\n",
       "      <th></th>\n",
       "      <th>loan_amnt</th>\n",
       "      <th>int_rate</th>\n",
       "      <th>installment</th>\n",
       "      <th>emp_length</th>\n",
       "      <th>annual_inc</th>\n",
       "      <th>loan_status</th>\n",
       "      <th>payment_to_income_ratio_individual</th>\n",
       "      <th>delinq_2yrs</th>\n",
       "      <th>earliest_cr_line</th>\n",
       "      <th>inq_last_6mths</th>\n",
       "      <th>...</th>\n",
       "      <th>addr_state_SD</th>\n",
       "      <th>addr_state_TN</th>\n",
       "      <th>addr_state_TX</th>\n",
       "      <th>addr_state_UT</th>\n",
       "      <th>addr_state_VA</th>\n",
       "      <th>addr_state_VT</th>\n",
       "      <th>addr_state_WA</th>\n",
       "      <th>addr_state_WI</th>\n",
       "      <th>addr_state_WV</th>\n",
       "      <th>addr_state_WY</th>\n",
       "    </tr>\n",
       "  </thead>\n",
       "  <tbody>\n",
       "    <tr>\n",
       "      <th>0</th>\n",
       "      <td>5000.0</td>\n",
       "      <td>10.65</td>\n",
       "      <td>162.87</td>\n",
       "      <td>10.0</td>\n",
       "      <td>24000.0</td>\n",
       "      <td>good</td>\n",
       "      <td>27.65</td>\n",
       "      <td>0.0</td>\n",
       "      <td>31</td>\n",
       "      <td>1.0</td>\n",
       "      <td>...</td>\n",
       "      <td>0</td>\n",
       "      <td>0</td>\n",
       "      <td>0</td>\n",
       "      <td>0</td>\n",
       "      <td>0</td>\n",
       "      <td>0</td>\n",
       "      <td>0</td>\n",
       "      <td>0</td>\n",
       "      <td>0</td>\n",
       "      <td>0</td>\n",
       "    </tr>\n",
       "    <tr>\n",
       "      <th>1</th>\n",
       "      <td>2500.0</td>\n",
       "      <td>15.27</td>\n",
       "      <td>59.83</td>\n",
       "      <td>1.0</td>\n",
       "      <td>30000.0</td>\n",
       "      <td>bad</td>\n",
       "      <td>1.00</td>\n",
       "      <td>0.0</td>\n",
       "      <td>17</td>\n",
       "      <td>5.0</td>\n",
       "      <td>...</td>\n",
       "      <td>0</td>\n",
       "      <td>0</td>\n",
       "      <td>0</td>\n",
       "      <td>0</td>\n",
       "      <td>0</td>\n",
       "      <td>0</td>\n",
       "      <td>0</td>\n",
       "      <td>0</td>\n",
       "      <td>0</td>\n",
       "      <td>0</td>\n",
       "    </tr>\n",
       "    <tr>\n",
       "      <th>2</th>\n",
       "      <td>2400.0</td>\n",
       "      <td>15.96</td>\n",
       "      <td>84.33</td>\n",
       "      <td>10.0</td>\n",
       "      <td>12252.0</td>\n",
       "      <td>good</td>\n",
       "      <td>8.72</td>\n",
       "      <td>0.0</td>\n",
       "      <td>15</td>\n",
       "      <td>2.0</td>\n",
       "      <td>...</td>\n",
       "      <td>0</td>\n",
       "      <td>0</td>\n",
       "      <td>0</td>\n",
       "      <td>0</td>\n",
       "      <td>0</td>\n",
       "      <td>0</td>\n",
       "      <td>0</td>\n",
       "      <td>0</td>\n",
       "      <td>0</td>\n",
       "      <td>0</td>\n",
       "    </tr>\n",
       "    <tr>\n",
       "      <th>3</th>\n",
       "      <td>10000.0</td>\n",
       "      <td>13.49</td>\n",
       "      <td>339.31</td>\n",
       "      <td>10.0</td>\n",
       "      <td>49200.0</td>\n",
       "      <td>good</td>\n",
       "      <td>20.00</td>\n",
       "      <td>0.0</td>\n",
       "      <td>20</td>\n",
       "      <td>1.0</td>\n",
       "      <td>...</td>\n",
       "      <td>0</td>\n",
       "      <td>0</td>\n",
       "      <td>0</td>\n",
       "      <td>0</td>\n",
       "      <td>0</td>\n",
       "      <td>0</td>\n",
       "      <td>0</td>\n",
       "      <td>0</td>\n",
       "      <td>0</td>\n",
       "      <td>0</td>\n",
       "    </tr>\n",
       "    <tr>\n",
       "      <th>4</th>\n",
       "      <td>3000.0</td>\n",
       "      <td>12.69</td>\n",
       "      <td>67.79</td>\n",
       "      <td>1.0</td>\n",
       "      <td>80000.0</td>\n",
       "      <td>good</td>\n",
       "      <td>17.94</td>\n",
       "      <td>0.0</td>\n",
       "      <td>20</td>\n",
       "      <td>0.0</td>\n",
       "      <td>...</td>\n",
       "      <td>0</td>\n",
       "      <td>0</td>\n",
       "      <td>0</td>\n",
       "      <td>0</td>\n",
       "      <td>0</td>\n",
       "      <td>0</td>\n",
       "      <td>0</td>\n",
       "      <td>0</td>\n",
       "      <td>0</td>\n",
       "      <td>0</td>\n",
       "    </tr>\n",
       "  </tbody>\n",
       "</table>\n",
       "<p>5 rows × 108 columns</p>\n",
       "</div>"
      ],
      "text/plain": [
       "   loan_amnt  int_rate  installment  emp_length  annual_inc loan_status  \\\n",
       "0     5000.0     10.65       162.87        10.0     24000.0        good   \n",
       "1     2500.0     15.27        59.83         1.0     30000.0         bad   \n",
       "2     2400.0     15.96        84.33        10.0     12252.0        good   \n",
       "3    10000.0     13.49       339.31        10.0     49200.0        good   \n",
       "4     3000.0     12.69        67.79         1.0     80000.0        good   \n",
       "\n",
       "   payment_to_income_ratio_individual  delinq_2yrs  earliest_cr_line  \\\n",
       "0                               27.65          0.0                31   \n",
       "1                                1.00          0.0                17   \n",
       "2                                8.72          0.0                15   \n",
       "3                               20.00          0.0                20   \n",
       "4                               17.94          0.0                20   \n",
       "\n",
       "   inq_last_6mths      ...        addr_state_SD  addr_state_TN  addr_state_TX  \\\n",
       "0             1.0      ...                    0              0              0   \n",
       "1             5.0      ...                    0              0              0   \n",
       "2             2.0      ...                    0              0              0   \n",
       "3             1.0      ...                    0              0              0   \n",
       "4             0.0      ...                    0              0              0   \n",
       "\n",
       "   addr_state_UT  addr_state_VA  addr_state_VT  addr_state_WA  addr_state_WI  \\\n",
       "0              0              0              0              0              0   \n",
       "1              0              0              0              0              0   \n",
       "2              0              0              0              0              0   \n",
       "3              0              0              0              0              0   \n",
       "4              0              0              0              0              0   \n",
       "\n",
       "   addr_state_WV  addr_state_WY  \n",
       "0              0              0  \n",
       "1              0              0  \n",
       "2              0              0  \n",
       "3              0              0  \n",
       "4              0              0  \n",
       "\n",
       "[5 rows x 108 columns]"
      ]
     },
     "execution_count": 7,
     "metadata": {},
     "output_type": "execute_result"
    }
   ],
   "source": [
    "df.head()"
   ]
  },
  {
   "cell_type": "code",
   "execution_count": 8,
   "metadata": {
    "ExecuteTime": {
     "end_time": "2018-08-08T00:59:43.239024Z",
     "start_time": "2018-08-08T00:59:43.168146Z"
    }
   },
   "outputs": [],
   "source": [
    "# Assign bad loan as value 1 and good loan as value 0\n",
    "\n",
    "df['loan_status'] = (df['loan_status']=='bad').astype(int)"
   ]
  },
  {
   "cell_type": "code",
   "execution_count": 9,
   "metadata": {
    "ExecuteTime": {
     "end_time": "2018-08-08T00:59:57.789321Z",
     "start_time": "2018-08-08T00:59:50.239609Z"
    }
   },
   "outputs": [
    {
     "data": {
      "text/html": [
       "<div>\n",
       "<style scoped>\n",
       "    .dataframe tbody tr th:only-of-type {\n",
       "        vertical-align: middle;\n",
       "    }\n",
       "\n",
       "    .dataframe tbody tr th {\n",
       "        vertical-align: top;\n",
       "    }\n",
       "\n",
       "    .dataframe thead th {\n",
       "        text-align: right;\n",
       "    }\n",
       "</style>\n",
       "<table border=\"1\" class=\"dataframe\">\n",
       "  <thead>\n",
       "    <tr style=\"text-align: right;\">\n",
       "      <th></th>\n",
       "      <th>loan_amnt</th>\n",
       "      <th>int_rate</th>\n",
       "      <th>installment</th>\n",
       "      <th>emp_length</th>\n",
       "      <th>annual_inc</th>\n",
       "      <th>loan_status</th>\n",
       "      <th>payment_to_income_ratio_individual</th>\n",
       "      <th>delinq_2yrs</th>\n",
       "      <th>earliest_cr_line</th>\n",
       "      <th>inq_last_6mths</th>\n",
       "      <th>...</th>\n",
       "      <th>addr_state_SD</th>\n",
       "      <th>addr_state_TN</th>\n",
       "      <th>addr_state_TX</th>\n",
       "      <th>addr_state_UT</th>\n",
       "      <th>addr_state_VA</th>\n",
       "      <th>addr_state_VT</th>\n",
       "      <th>addr_state_WA</th>\n",
       "      <th>addr_state_WI</th>\n",
       "      <th>addr_state_WV</th>\n",
       "      <th>addr_state_WY</th>\n",
       "    </tr>\n",
       "  </thead>\n",
       "  <tbody>\n",
       "    <tr>\n",
       "      <th>count</th>\n",
       "      <td>876170.000000</td>\n",
       "      <td>876170.000000</td>\n",
       "      <td>876170.000000</td>\n",
       "      <td>876170.000000</td>\n",
       "      <td>8.761700e+05</td>\n",
       "      <td>876170.000000</td>\n",
       "      <td>876170.000000</td>\n",
       "      <td>876170.000000</td>\n",
       "      <td>876170.000000</td>\n",
       "      <td>876170.000000</td>\n",
       "      <td>...</td>\n",
       "      <td>876170.000000</td>\n",
       "      <td>876170.000000</td>\n",
       "      <td>876170.000000</td>\n",
       "      <td>876170.000000</td>\n",
       "      <td>876170.000000</td>\n",
       "      <td>876170.000000</td>\n",
       "      <td>876170.000000</td>\n",
       "      <td>876170.000000</td>\n",
       "      <td>876170.000000</td>\n",
       "      <td>876170.000000</td>\n",
       "    </tr>\n",
       "    <tr>\n",
       "      <th>mean</th>\n",
       "      <td>14767.950797</td>\n",
       "      <td>13.251692</td>\n",
       "      <td>437.057954</td>\n",
       "      <td>6.098617</td>\n",
       "      <td>7.500712e+04</td>\n",
       "      <td>0.076090</td>\n",
       "      <td>18.157005</td>\n",
       "      <td>0.314313</td>\n",
       "      <td>18.303919</td>\n",
       "      <td>0.684312</td>\n",
       "      <td>...</td>\n",
       "      <td>0.002048</td>\n",
       "      <td>0.014525</td>\n",
       "      <td>0.080197</td>\n",
       "      <td>0.007076</td>\n",
       "      <td>0.029581</td>\n",
       "      <td>0.002030</td>\n",
       "      <td>0.021914</td>\n",
       "      <td>0.013027</td>\n",
       "      <td>0.004958</td>\n",
       "      <td>0.002292</td>\n",
       "    </tr>\n",
       "    <tr>\n",
       "      <th>std</th>\n",
       "      <td>8430.721087</td>\n",
       "      <td>4.385643</td>\n",
       "      <td>244.031886</td>\n",
       "      <td>3.445099</td>\n",
       "      <td>6.467217e+04</td>\n",
       "      <td>0.265143</td>\n",
       "      <td>17.271002</td>\n",
       "      <td>0.861845</td>\n",
       "      <td>7.431489</td>\n",
       "      <td>0.966632</td>\n",
       "      <td>...</td>\n",
       "      <td>0.045204</td>\n",
       "      <td>0.119640</td>\n",
       "      <td>0.271598</td>\n",
       "      <td>0.083822</td>\n",
       "      <td>0.169428</td>\n",
       "      <td>0.045015</td>\n",
       "      <td>0.146401</td>\n",
       "      <td>0.113391</td>\n",
       "      <td>0.070238</td>\n",
       "      <td>0.047818</td>\n",
       "    </tr>\n",
       "    <tr>\n",
       "      <th>min</th>\n",
       "      <td>500.000000</td>\n",
       "      <td>5.320000</td>\n",
       "      <td>15.690000</td>\n",
       "      <td>1.000000</td>\n",
       "      <td>0.000000e+00</td>\n",
       "      <td>0.000000</td>\n",
       "      <td>0.000000</td>\n",
       "      <td>0.000000</td>\n",
       "      <td>4.000000</td>\n",
       "      <td>0.000000</td>\n",
       "      <td>...</td>\n",
       "      <td>0.000000</td>\n",
       "      <td>0.000000</td>\n",
       "      <td>0.000000</td>\n",
       "      <td>0.000000</td>\n",
       "      <td>0.000000</td>\n",
       "      <td>0.000000</td>\n",
       "      <td>0.000000</td>\n",
       "      <td>0.000000</td>\n",
       "      <td>0.000000</td>\n",
       "      <td>0.000000</td>\n",
       "    </tr>\n",
       "    <tr>\n",
       "      <th>25%</th>\n",
       "      <td>8000.000000</td>\n",
       "      <td>9.990000</td>\n",
       "      <td>261.130000</td>\n",
       "      <td>3.000000</td>\n",
       "      <td>4.500000e+04</td>\n",
       "      <td>0.000000</td>\n",
       "      <td>11.910000</td>\n",
       "      <td>0.000000</td>\n",
       "      <td>13.000000</td>\n",
       "      <td>0.000000</td>\n",
       "      <td>...</td>\n",
       "      <td>0.000000</td>\n",
       "      <td>0.000000</td>\n",
       "      <td>0.000000</td>\n",
       "      <td>0.000000</td>\n",
       "      <td>0.000000</td>\n",
       "      <td>0.000000</td>\n",
       "      <td>0.000000</td>\n",
       "      <td>0.000000</td>\n",
       "      <td>0.000000</td>\n",
       "      <td>0.000000</td>\n",
       "    </tr>\n",
       "    <tr>\n",
       "      <th>50%</th>\n",
       "      <td>13000.000000</td>\n",
       "      <td>12.990000</td>\n",
       "      <td>382.550000</td>\n",
       "      <td>6.098617</td>\n",
       "      <td>6.500000e+04</td>\n",
       "      <td>0.000000</td>\n",
       "      <td>17.650000</td>\n",
       "      <td>0.000000</td>\n",
       "      <td>17.000000</td>\n",
       "      <td>0.000000</td>\n",
       "      <td>...</td>\n",
       "      <td>0.000000</td>\n",
       "      <td>0.000000</td>\n",
       "      <td>0.000000</td>\n",
       "      <td>0.000000</td>\n",
       "      <td>0.000000</td>\n",
       "      <td>0.000000</td>\n",
       "      <td>0.000000</td>\n",
       "      <td>0.000000</td>\n",
       "      <td>0.000000</td>\n",
       "      <td>0.000000</td>\n",
       "    </tr>\n",
       "    <tr>\n",
       "      <th>75%</th>\n",
       "      <td>20000.000000</td>\n",
       "      <td>16.200000</td>\n",
       "      <td>572.850000</td>\n",
       "      <td>10.000000</td>\n",
       "      <td>9.000000e+04</td>\n",
       "      <td>0.000000</td>\n",
       "      <td>23.940000</td>\n",
       "      <td>0.000000</td>\n",
       "      <td>22.000000</td>\n",
       "      <td>1.000000</td>\n",
       "      <td>...</td>\n",
       "      <td>0.000000</td>\n",
       "      <td>0.000000</td>\n",
       "      <td>0.000000</td>\n",
       "      <td>0.000000</td>\n",
       "      <td>0.000000</td>\n",
       "      <td>0.000000</td>\n",
       "      <td>0.000000</td>\n",
       "      <td>0.000000</td>\n",
       "      <td>0.000000</td>\n",
       "      <td>0.000000</td>\n",
       "    </tr>\n",
       "    <tr>\n",
       "      <th>max</th>\n",
       "      <td>35000.000000</td>\n",
       "      <td>28.990000</td>\n",
       "      <td>1445.460000</td>\n",
       "      <td>10.000000</td>\n",
       "      <td>9.500000e+06</td>\n",
       "      <td>1.000000</td>\n",
       "      <td>9999.000000</td>\n",
       "      <td>39.000000</td>\n",
       "      <td>72.000000</td>\n",
       "      <td>8.000000</td>\n",
       "      <td>...</td>\n",
       "      <td>1.000000</td>\n",
       "      <td>1.000000</td>\n",
       "      <td>1.000000</td>\n",
       "      <td>1.000000</td>\n",
       "      <td>1.000000</td>\n",
       "      <td>1.000000</td>\n",
       "      <td>1.000000</td>\n",
       "      <td>1.000000</td>\n",
       "      <td>1.000000</td>\n",
       "      <td>1.000000</td>\n",
       "    </tr>\n",
       "  </tbody>\n",
       "</table>\n",
       "<p>8 rows × 108 columns</p>\n",
       "</div>"
      ],
      "text/plain": [
       "           loan_amnt       int_rate    installment     emp_length  \\\n",
       "count  876170.000000  876170.000000  876170.000000  876170.000000   \n",
       "mean    14767.950797      13.251692     437.057954       6.098617   \n",
       "std      8430.721087       4.385643     244.031886       3.445099   \n",
       "min       500.000000       5.320000      15.690000       1.000000   \n",
       "25%      8000.000000       9.990000     261.130000       3.000000   \n",
       "50%     13000.000000      12.990000     382.550000       6.098617   \n",
       "75%     20000.000000      16.200000     572.850000      10.000000   \n",
       "max     35000.000000      28.990000    1445.460000      10.000000   \n",
       "\n",
       "         annual_inc    loan_status  payment_to_income_ratio_individual  \\\n",
       "count  8.761700e+05  876170.000000                       876170.000000   \n",
       "mean   7.500712e+04       0.076090                           18.157005   \n",
       "std    6.467217e+04       0.265143                           17.271002   \n",
       "min    0.000000e+00       0.000000                            0.000000   \n",
       "25%    4.500000e+04       0.000000                           11.910000   \n",
       "50%    6.500000e+04       0.000000                           17.650000   \n",
       "75%    9.000000e+04       0.000000                           23.940000   \n",
       "max    9.500000e+06       1.000000                         9999.000000   \n",
       "\n",
       "         delinq_2yrs  earliest_cr_line  inq_last_6mths      ...        \\\n",
       "count  876170.000000     876170.000000   876170.000000      ...         \n",
       "mean        0.314313         18.303919        0.684312      ...         \n",
       "std         0.861845          7.431489        0.966632      ...         \n",
       "min         0.000000          4.000000        0.000000      ...         \n",
       "25%         0.000000         13.000000        0.000000      ...         \n",
       "50%         0.000000         17.000000        0.000000      ...         \n",
       "75%         0.000000         22.000000        1.000000      ...         \n",
       "max        39.000000         72.000000        8.000000      ...         \n",
       "\n",
       "       addr_state_SD  addr_state_TN  addr_state_TX  addr_state_UT  \\\n",
       "count  876170.000000  876170.000000  876170.000000  876170.000000   \n",
       "mean        0.002048       0.014525       0.080197       0.007076   \n",
       "std         0.045204       0.119640       0.271598       0.083822   \n",
       "min         0.000000       0.000000       0.000000       0.000000   \n",
       "25%         0.000000       0.000000       0.000000       0.000000   \n",
       "50%         0.000000       0.000000       0.000000       0.000000   \n",
       "75%         0.000000       0.000000       0.000000       0.000000   \n",
       "max         1.000000       1.000000       1.000000       1.000000   \n",
       "\n",
       "       addr_state_VA  addr_state_VT  addr_state_WA  addr_state_WI  \\\n",
       "count  876170.000000  876170.000000  876170.000000  876170.000000   \n",
       "mean        0.029581       0.002030       0.021914       0.013027   \n",
       "std         0.169428       0.045015       0.146401       0.113391   \n",
       "min         0.000000       0.000000       0.000000       0.000000   \n",
       "25%         0.000000       0.000000       0.000000       0.000000   \n",
       "50%         0.000000       0.000000       0.000000       0.000000   \n",
       "75%         0.000000       0.000000       0.000000       0.000000   \n",
       "max         1.000000       1.000000       1.000000       1.000000   \n",
       "\n",
       "       addr_state_WV  addr_state_WY  \n",
       "count  876170.000000  876170.000000  \n",
       "mean        0.004958       0.002292  \n",
       "std         0.070238       0.047818  \n",
       "min         0.000000       0.000000  \n",
       "25%         0.000000       0.000000  \n",
       "50%         0.000000       0.000000  \n",
       "75%         0.000000       0.000000  \n",
       "max         1.000000       1.000000  \n",
       "\n",
       "[8 rows x 108 columns]"
      ]
     },
     "execution_count": 9,
     "metadata": {},
     "output_type": "execute_result"
    }
   ],
   "source": [
    "df.describe(include = 'all')"
   ]
  },
  {
   "cell_type": "code",
   "execution_count": 10,
   "metadata": {
    "ExecuteTime": {
     "end_time": "2018-08-08T00:59:58.126589Z",
     "start_time": "2018-08-08T00:59:57.916640Z"
    }
   },
   "outputs": [],
   "source": [
    "y=df['loan_status']\n",
    "X=df.drop('loan_status', axis=1)"
   ]
  },
  {
   "cell_type": "code",
   "execution_count": 11,
   "metadata": {
    "ExecuteTime": {
     "end_time": "2018-08-08T00:59:59.945173Z",
     "start_time": "2018-08-08T00:59:58.366973Z"
    }
   },
   "outputs": [],
   "source": [
    "# Undersampling will be applied to X_train. Even a test_size of 0.1 will give me a test_size of 87K\n",
    "\n",
    "X_train, X_test, y_train, y_test=train_test_split(X, y, test_size=0.1, random_state=99)"
   ]
  },
  {
   "cell_type": "code",
   "execution_count": 12,
   "metadata": {
    "ExecuteTime": {
     "end_time": "2018-08-08T01:00:05.655345Z",
     "start_time": "2018-08-08T01:00:01.421084Z"
    }
   },
   "outputs": [],
   "source": [
    "ssX=StandardScaler()\n",
    "X_train_scaled=ssX.fit_transform(X_train)\n",
    "X_test_scaled=ssX.transform(X_test)"
   ]
  },
  {
   "cell_type": "code",
   "execution_count": 13,
   "metadata": {
    "ExecuteTime": {
     "end_time": "2018-08-08T01:00:09.176435Z",
     "start_time": "2018-08-08T01:00:07.602556Z"
    }
   },
   "outputs": [],
   "source": [
    "runs=RandomUnderSampler()\n",
    "X_train_scaled_under, y_train_under=runs.fit_sample(X_train_scaled, y_train)"
   ]
  },
  {
   "cell_type": "code",
   "execution_count": 14,
   "metadata": {
    "ExecuteTime": {
     "end_time": "2018-08-08T01:00:09.622337Z",
     "start_time": "2018-08-08T01:00:09.616329Z"
    }
   },
   "outputs": [
    {
     "data": {
      "text/plain": [
       "(120142, 107)"
      ]
     },
     "execution_count": 14,
     "metadata": {},
     "output_type": "execute_result"
    }
   ],
   "source": [
    "X_train_scaled_under.shape"
   ]
  },
  {
   "cell_type": "code",
   "execution_count": 15,
   "metadata": {
    "ExecuteTime": {
     "end_time": "2018-08-08T01:00:11.229685Z",
     "start_time": "2018-08-08T01:00:11.224722Z"
    }
   },
   "outputs": [
    {
     "data": {
      "text/plain": [
       "(120142,)"
      ]
     },
     "execution_count": 15,
     "metadata": {},
     "output_type": "execute_result"
    }
   ],
   "source": [
    "y_train_under.shape"
   ]
  },
  {
   "cell_type": "code",
   "execution_count": 17,
   "metadata": {
    "ExecuteTime": {
     "end_time": "2018-08-07T21:03:03.841017Z",
     "start_time": "2018-08-07T21:03:03.831575Z"
    }
   },
   "outputs": [],
   "source": [
    "models = [RandomForestClassifier(n_estimators=100, n_jobs=-1, max_depth=10), DecisionTreeClassifier(max_depth=None), \n",
    "          BaggingClassifier(base_estimator=DecisionTreeClassifier(),n_estimators=100, n_jobs=-1),\n",
    "          SVC(probability=True), LogisticRegression(C=0.1), SGDClassifier(loss='log', random_state=42, alpha=0.01)]\n",
    "model_names = [\"Random Forest\", \"Decision Tree\",'Bagging Classifier','SVC','Logistic','SGD-Log']"
   ]
  },
  {
   "cell_type": "code",
   "execution_count": 18,
   "metadata": {
    "ExecuteTime": {
     "end_time": "2018-08-07T21:03:03.853305Z",
     "start_time": "2018-08-07T21:03:03.846991Z"
    }
   },
   "outputs": [],
   "source": [
    "model_pkl_filename= '/Users/xzhou/github/project_files/lending_club/loan_model1.pkl'"
   ]
  },
  {
   "cell_type": "code",
   "execution_count": 19,
   "metadata": {
    "ExecuteTime": {
     "end_time": "2018-08-07T21:03:03.871939Z",
     "start_time": "2018-08-07T21:03:03.856669Z"
    }
   },
   "outputs": [],
   "source": [
    "# Open the pickle file that stores details for model comparison\n",
    "# If not existed, create pickle file by runing through various models\n",
    "\n",
    "roc_plotting=[]\n",
    "\n",
    "try: \n",
    "    with open (model_pkl_filename, 'rb') as pklfile2:\n",
    "        roc_plotting = pickle.load(pklfile2)    \n",
    "\n",
    "except: \n",
    "    for clf, name in zip(models, model_names):\n",
    "        clf.fit(X_train_scaled_under, y_train_under)\n",
    "        y_pred = clf.predict_proba(X_test_scaled)\n",
    "        fpr, tpr, _ = roc_curve (y_test, y_pred[:, 1])\n",
    "        auc_score = auc(fpr, tpr)\n",
    "        roc_plotting.append((name, tpr, fpr, auc_score))\n",
    "        \n",
    "        # Store in pickle file if file is not existed\n",
    "        with open (model_pkl_filename, 'wb') as pklfile2:\n",
    "            pickle.dump(roc_plotting, pklfile2)"
   ]
  },
  {
   "cell_type": "code",
   "execution_count": 20,
   "metadata": {
    "ExecuteTime": {
     "end_time": "2018-08-07T21:03:04.752792Z",
     "start_time": "2018-08-07T21:03:03.874881Z"
    }
   },
   "outputs": [
    {
     "data": {
      "text/plain": [
       "Text(0.5,1,'ROC Curves')"
      ]
     },
     "execution_count": 20,
     "metadata": {},
     "output_type": "execute_result"
    },
    {
     "data": {
      "image/png": "[encoded data removed]",
      "text/plain": [
       "<Figure size 2000x1375 with 1 Axes>"
      ]
     },
     "metadata": {},
     "output_type": "display_data"
    }
   ],
   "source": [
    "# Plot ROC curve for model comparison\n",
    "# Noted Ramdom Forecast produces best result with an AUC of 0.77\n",
    "\n",
    "plt.figure(dpi=250)\n",
    "for name, tpr, fpr, auc_score in roc_plotting:\n",
    "    plt.plot(fpr, tpr, label=name+' (auc: %.2f)'%auc_score)\n",
    "plt.plot([0,1], [0,1], color='k', linestyle='--')\n",
    "plt.xlabel('False Positive Rate')\n",
    "plt.ylabel('True Positive Rate')\n",
    "plt.legend (loc='lower right')\n",
    "plt.title('ROC Curves')"
   ]
  },
  {
   "cell_type": "code",
   "execution_count": null,
   "metadata": {},
   "outputs": [],
   "source": []
  },
  {
   "cell_type": "code",
   "execution_count": null,
   "metadata": {},
   "outputs": [],
   "source": []
  },
  {
   "cell_type": "code",
   "execution_count": 21,
   "metadata": {
    "ExecuteTime": {
     "end_time": "2018-08-07T21:03:04.761719Z",
     "start_time": "2018-08-07T21:03:04.755315Z"
    }
   },
   "outputs": [],
   "source": [
    "param_grid = {\n",
    "    'n_estimators': [100, 300],\n",
    "    'max_features': ['auto', 'log2'], # auto == sqrt\n",
    "    'max_depth': [10, 15, 20],\n",
    "    'criterion': ['gini', 'entropy']\n",
    "}"
   ]
  },
  {
   "cell_type": "code",
   "execution_count": 22,
   "metadata": {
    "ExecuteTime": {
     "end_time": "2018-08-07T21:03:04.774082Z",
     "start_time": "2018-08-07T21:03:04.767438Z"
    }
   },
   "outputs": [],
   "source": [
    "rfc = RandomForestClassifier(random_state=99)"
   ]
  },
  {
   "cell_type": "code",
   "execution_count": 23,
   "metadata": {
    "ExecuteTime": {
     "end_time": "2018-08-07T21:37:02.563306Z",
     "start_time": "2018-08-07T21:03:04.777485Z"
    }
   },
   "outputs": [
    {
     "name": "stdout",
     "output_type": "stream",
     "text": [
      "Fitting 4 folds for each of 24 candidates, totalling 96 fits\n",
      "[CV] criterion=gini, max_depth=10, max_features=auto, n_estimators=100 \n",
      "[CV] criterion=gini, max_depth=10, max_features=auto, n_estimators=100 \n",
      "[CV] criterion=gini, max_depth=10, max_features=auto, n_estimators=100 \n",
      "[CV] criterion=gini, max_depth=10, max_features=auto, n_estimators=100 \n",
      "[CV]  criterion=gini, max_depth=10, max_features=auto, n_estimators=100, total=  27.1s\n",
      "[CV] criterion=gini, max_depth=10, max_features=auto, n_estimators=300 \n",
      "[CV]  criterion=gini, max_depth=10, max_features=auto, n_estimators=100, total=  27.2s\n",
      "[CV] criterion=gini, max_depth=10, max_features=auto, n_estimators=300 \n",
      "[CV]  criterion=gini, max_depth=10, max_features=auto, n_estimators=100, total=  27.4s\n",
      "[CV]  criterion=gini, max_depth=10, max_features=auto, n_estimators=100, total=  27.1s\n",
      "[CV] criterion=gini, max_depth=10, max_features=auto, n_estimators=300 \n",
      "[CV] criterion=gini, max_depth=10, max_features=auto, n_estimators=300 \n",
      "[CV]  criterion=gini, max_depth=10, max_features=auto, n_estimators=300, total= 1.3min\n",
      "[CV]  criterion=gini, max_depth=10, max_features=auto, n_estimators=300, total= 1.3min\n",
      "[CV] criterion=gini, max_depth=10, max_features=log2, n_estimators=100 \n",
      "[CV] criterion=gini, max_depth=10, max_features=log2, n_estimators=100 \n",
      "[CV]  criterion=gini, max_depth=10, max_features=auto, n_estimators=300, total= 1.3min\n",
      "[CV] criterion=gini, max_depth=10, max_features=log2, n_estimators=100 \n",
      "[CV]  criterion=gini, max_depth=10, max_features=auto, n_estimators=300, total= 1.3min\n",
      "[CV] criterion=gini, max_depth=10, max_features=log2, n_estimators=100 \n",
      "[CV]  criterion=gini, max_depth=10, max_features=log2, n_estimators=100, total=  22.3s\n",
      "[CV] criterion=gini, max_depth=10, max_features=log2, n_estimators=300 \n",
      "[CV]  criterion=gini, max_depth=10, max_features=log2, n_estimators=100, total=  22.5s\n",
      "[CV] criterion=gini, max_depth=10, max_features=log2, n_estimators=300 \n",
      "[CV]  criterion=gini, max_depth=10, max_features=log2, n_estimators=100, total=  22.3s\n",
      "[CV] criterion=gini, max_depth=10, max_features=log2, n_estimators=300 \n",
      "[CV]  criterion=gini, max_depth=10, max_features=log2, n_estimators=100, total=  22.2s\n",
      "[CV] criterion=gini, max_depth=10, max_features=log2, n_estimators=300 \n",
      "[CV]  criterion=gini, max_depth=10, max_features=log2, n_estimators=300, total= 1.3min\n",
      "[CV] criterion=gini, max_depth=15, max_features=auto, n_estimators=100 \n",
      "[CV]  criterion=gini, max_depth=10, max_features=log2, n_estimators=300, total= 1.3min\n",
      "[CV] criterion=gini, max_depth=15, max_features=auto, n_estimators=100 \n",
      "[CV]  criterion=gini, max_depth=10, max_features=log2, n_estimators=300, total= 1.3min\n",
      "[CV] criterion=gini, max_depth=15, max_features=auto, n_estimators=100 \n",
      "[CV]  criterion=gini, max_depth=10, max_features=log2, n_estimators=300, total= 1.3min\n",
      "[CV] criterion=gini, max_depth=15, max_features=auto, n_estimators=100 \n",
      "[CV]  criterion=gini, max_depth=15, max_features=auto, n_estimators=100, total=  45.6s\n",
      "[CV] criterion=gini, max_depth=15, max_features=auto, n_estimators=300 \n",
      "[CV]  criterion=gini, max_depth=15, max_features=auto, n_estimators=100, total=  45.4s\n",
      "[CV] criterion=gini, max_depth=15, max_features=auto, n_estimators=300 \n",
      "[CV]  criterion=gini, max_depth=15, max_features=auto, n_estimators=100, total=  46.0s\n",
      "[CV] criterion=gini, max_depth=15, max_features=auto, n_estimators=300 \n",
      "[CV]  criterion=gini, max_depth=15, max_features=auto, n_estimators=100, total=  45.6s\n",
      "[CV] criterion=gini, max_depth=15, max_features=auto, n_estimators=300 \n",
      "[CV]  criterion=gini, max_depth=15, max_features=auto, n_estimators=300, total= 2.0min\n",
      "[CV] criterion=gini, max_depth=15, max_features=log2, n_estimators=100 \n",
      "[CV]  criterion=gini, max_depth=15, max_features=auto, n_estimators=300, total= 2.0min\n",
      "[CV] criterion=gini, max_depth=15, max_features=log2, n_estimators=100 \n",
      "[CV]  criterion=gini, max_depth=15, max_features=auto, n_estimators=300, total= 2.0min\n",
      "[CV] criterion=gini, max_depth=15, max_features=log2, n_estimators=100 \n",
      "[CV]  criterion=gini, max_depth=15, max_features=auto, n_estimators=300, total= 2.0min\n",
      "[CV] criterion=gini, max_depth=15, max_features=log2, n_estimators=100 \n",
      "[CV]  criterion=gini, max_depth=15, max_features=log2, n_estimators=100, total=  40.3s\n",
      "[CV] criterion=gini, max_depth=15, max_features=log2, n_estimators=300 \n",
      "[CV]  criterion=gini, max_depth=15, max_features=log2, n_estimators=100, total=  40.3s\n",
      "[CV] criterion=gini, max_depth=15, max_features=log2, n_estimators=300 \n",
      "[CV]  criterion=gini, max_depth=15, max_features=log2, n_estimators=100, total=  40.4s\n",
      "[CV] criterion=gini, max_depth=15, max_features=log2, n_estimators=300 \n",
      "[CV]  criterion=gini, max_depth=15, max_features=log2, n_estimators=100, total=  40.2s\n",
      "[CV] criterion=gini, max_depth=15, max_features=log2, n_estimators=300 \n",
      "[CV]  criterion=gini, max_depth=15, max_features=log2, n_estimators=300, total= 1.8min\n",
      "[CV] criterion=gini, max_depth=20, max_features=auto, n_estimators=100 \n",
      "[CV]  criterion=gini, max_depth=15, max_features=log2, n_estimators=300, total= 1.8min\n",
      "[CV] criterion=gini, max_depth=20, max_features=auto, n_estimators=100 \n",
      "[CV]  criterion=gini, max_depth=15, max_features=log2, n_estimators=300, total= 1.8min\n",
      "[CV] criterion=gini, max_depth=20, max_features=auto, n_estimators=100 \n",
      "[CV]  criterion=gini, max_depth=15, max_features=log2, n_estimators=300, total= 1.8min\n",
      "[CV] criterion=gini, max_depth=20, max_features=auto, n_estimators=100 \n",
      "[CV]  criterion=gini, max_depth=20, max_features=auto, n_estimators=100, total=  47.9s\n",
      "[CV] criterion=gini, max_depth=20, max_features=auto, n_estimators=300 \n"
     ]
    },
    {
     "name": "stderr",
     "output_type": "stream",
     "text": [
      "[Parallel(n_jobs=-1)]: Done  33 tasks      | elapsed: 10.2min\n"
     ]
    },
    {
     "name": "stdout",
     "output_type": "stream",
     "text": [
      "[CV]  criterion=gini, max_depth=20, max_features=auto, n_estimators=100, total=  47.4s\n",
      "[CV] criterion=gini, max_depth=20, max_features=auto, n_estimators=300 \n",
      "[CV]  criterion=gini, max_depth=20, max_features=auto, n_estimators=100, total=  47.5s\n",
      "[CV] criterion=gini, max_depth=20, max_features=auto, n_estimators=300 \n",
      "[CV]  criterion=gini, max_depth=20, max_features=auto, n_estimators=100, total=  47.4s\n",
      "[CV] criterion=gini, max_depth=20, max_features=auto, n_estimators=300 \n",
      "[CV]  criterion=gini, max_depth=20, max_features=auto, n_estimators=300, total= 2.3min\n",
      "[CV]  criterion=gini, max_depth=20, max_features=auto, n_estimators=300, total= 2.3min\n",
      "[CV] criterion=gini, max_depth=20, max_features=log2, n_estimators=100 \n",
      "[CV]  criterion=gini, max_depth=20, max_features=auto, n_estimators=300, total= 2.3min\n",
      "[CV] criterion=gini, max_depth=20, max_features=log2, n_estimators=100 \n",
      "[CV] criterion=gini, max_depth=20, max_features=log2, n_estimators=100 \n",
      "[CV]  criterion=gini, max_depth=20, max_features=auto, n_estimators=300, total= 2.3min\n",
      "[CV] criterion=gini, max_depth=20, max_features=log2, n_estimators=100 \n",
      "[CV]  criterion=gini, max_depth=20, max_features=log2, n_estimators=100, total=  36.5s\n",
      "[CV] criterion=gini, max_depth=20, max_features=log2, n_estimators=300 \n",
      "[CV]  criterion=gini, max_depth=20, max_features=log2, n_estimators=100, total=  36.6s\n",
      "[CV] criterion=gini, max_depth=20, max_features=log2, n_estimators=300 \n",
      "[CV]  criterion=gini, max_depth=20, max_features=log2, n_estimators=100, total=  36.9s\n",
      "[CV] criterion=gini, max_depth=20, max_features=log2, n_estimators=300 \n",
      "[CV]  criterion=gini, max_depth=20, max_features=log2, n_estimators=100, total=  36.9s\n",
      "[CV] criterion=gini, max_depth=20, max_features=log2, n_estimators=300 \n",
      "[CV]  criterion=gini, max_depth=20, max_features=log2, n_estimators=300, total= 2.0min\n",
      "[CV]  criterion=gini, max_depth=20, max_features=log2, n_estimators=300, total= 2.0min\n",
      "[CV] criterion=entropy, max_depth=10, max_features=auto, n_estimators=100 \n",
      "[CV]  criterion=gini, max_depth=20, max_features=log2, n_estimators=300, total= 2.0min\n",
      "[CV] criterion=entropy, max_depth=10, max_features=auto, n_estimators=100 \n",
      "[CV] criterion=entropy, max_depth=10, max_features=auto, n_estimators=100 \n",
      "[CV]  criterion=gini, max_depth=20, max_features=log2, n_estimators=300, total= 2.0min\n",
      "[CV] criterion=entropy, max_depth=10, max_features=auto, n_estimators=100 \n",
      "[CV]  criterion=entropy, max_depth=10, max_features=auto, n_estimators=100, total=  30.4s\n",
      "[CV] criterion=entropy, max_depth=10, max_features=auto, n_estimators=300 \n",
      "[CV]  criterion=entropy, max_depth=10, max_features=auto, n_estimators=100, total=  30.2s\n",
      "[CV] criterion=entropy, max_depth=10, max_features=auto, n_estimators=300 \n",
      "[CV]  criterion=entropy, max_depth=10, max_features=auto, n_estimators=100, total=  30.2s\n",
      "[CV] criterion=entropy, max_depth=10, max_features=auto, n_estimators=300 \n",
      "[CV]  criterion=entropy, max_depth=10, max_features=auto, n_estimators=100, total=  30.4s\n",
      "[CV] criterion=entropy, max_depth=10, max_features=auto, n_estimators=300 \n",
      "[CV]  criterion=entropy, max_depth=10, max_features=auto, n_estimators=300, total= 1.6min\n",
      "[CV] criterion=entropy, max_depth=10, max_features=log2, n_estimators=100 \n",
      "[CV]  criterion=entropy, max_depth=10, max_features=auto, n_estimators=300, total= 1.6min\n",
      "[CV] criterion=entropy, max_depth=10, max_features=log2, n_estimators=100 \n",
      "[CV]  criterion=entropy, max_depth=10, max_features=auto, n_estimators=300, total= 1.6min\n",
      "[CV] criterion=entropy, max_depth=10, max_features=log2, n_estimators=100 \n",
      "[CV]  criterion=entropy, max_depth=10, max_features=auto, n_estimators=300, total= 1.6min\n",
      "[CV] criterion=entropy, max_depth=10, max_features=log2, n_estimators=100 \n",
      "[CV]  criterion=entropy, max_depth=10, max_features=log2, n_estimators=100, total=  34.2s\n",
      "[CV] criterion=entropy, max_depth=10, max_features=log2, n_estimators=300 \n",
      "[CV]  criterion=entropy, max_depth=10, max_features=log2, n_estimators=100, total=  34.6s\n",
      "[CV]  criterion=entropy, max_depth=10, max_features=log2, n_estimators=100, total=  34.0s\n",
      "[CV] criterion=entropy, max_depth=10, max_features=log2, n_estimators=300 \n",
      "[CV] criterion=entropy, max_depth=10, max_features=log2, n_estimators=300 \n",
      "[CV]  criterion=entropy, max_depth=10, max_features=log2, n_estimators=100, total=  33.5s\n",
      "[CV] criterion=entropy, max_depth=10, max_features=log2, n_estimators=300 \n",
      "[CV]  criterion=entropy, max_depth=10, max_features=log2, n_estimators=300, total= 1.4min\n",
      "[CV] criterion=entropy, max_depth=15, max_features=auto, n_estimators=100 \n",
      "[CV]  criterion=entropy, max_depth=10, max_features=log2, n_estimators=300, total= 1.4min\n",
      "[CV] criterion=entropy, max_depth=15, max_features=auto, n_estimators=100 \n",
      "[CV]  criterion=entropy, max_depth=10, max_features=log2, n_estimators=300, total= 1.4min\n",
      "[CV] criterion=entropy, max_depth=15, max_features=auto, n_estimators=100 \n",
      "[CV]  criterion=entropy, max_depth=10, max_features=log2, n_estimators=300, total= 1.4min\n",
      "[CV] criterion=entropy, max_depth=15, max_features=auto, n_estimators=100 \n",
      "[CV]  criterion=entropy, max_depth=15, max_features=auto, n_estimators=100, total=  42.3s\n",
      "[CV]  criterion=entropy, max_depth=15, max_features=auto, n_estimators=100, total=  42.5s\n",
      "[CV] criterion=entropy, max_depth=15, max_features=auto, n_estimators=300 \n",
      "[CV] criterion=entropy, max_depth=15, max_features=auto, n_estimators=300 \n",
      "[CV]  criterion=entropy, max_depth=15, max_features=auto, n_estimators=100, total=  42.1s\n",
      "[CV] criterion=entropy, max_depth=15, max_features=auto, n_estimators=300 \n",
      "[CV]  criterion=entropy, max_depth=15, max_features=auto, n_estimators=100, total=  42.4s\n",
      "[CV] criterion=entropy, max_depth=15, max_features=auto, n_estimators=300 \n",
      "[CV]  criterion=entropy, max_depth=15, max_features=auto, n_estimators=300, total= 2.1min\n",
      "[CV] criterion=entropy, max_depth=15, max_features=log2, n_estimators=100 \n",
      "[CV]  criterion=entropy, max_depth=15, max_features=auto, n_estimators=300, total= 2.1min\n",
      "[CV]  criterion=entropy, max_depth=15, max_features=auto, n_estimators=300, total= 2.1min\n",
      "[CV] criterion=entropy, max_depth=15, max_features=log2, n_estimators=100 \n",
      "[CV] criterion=entropy, max_depth=15, max_features=log2, n_estimators=100 \n",
      "[CV]  criterion=entropy, max_depth=15, max_features=auto, n_estimators=300, total= 2.1min\n",
      "[CV] criterion=entropy, max_depth=15, max_features=log2, n_estimators=100 \n",
      "[CV]  criterion=entropy, max_depth=15, max_features=log2, n_estimators=100, total=  35.1s\n",
      "[CV] criterion=entropy, max_depth=15, max_features=log2, n_estimators=300 \n",
      "[CV]  criterion=entropy, max_depth=15, max_features=log2, n_estimators=100, total=  35.4s\n",
      "[CV] criterion=entropy, max_depth=15, max_features=log2, n_estimators=300 \n",
      "[CV]  criterion=entropy, max_depth=15, max_features=log2, n_estimators=100, total=  35.7s\n",
      "[CV] criterion=entropy, max_depth=15, max_features=log2, n_estimators=300 \n",
      "[CV]  criterion=entropy, max_depth=15, max_features=log2, n_estimators=100, total=  36.3s\n",
      "[CV] criterion=entropy, max_depth=15, max_features=log2, n_estimators=300 \n",
      "[CV]  criterion=entropy, max_depth=15, max_features=log2, n_estimators=300, total= 2.0min\n",
      "[CV] criterion=entropy, max_depth=20, max_features=auto, n_estimators=100 \n",
      "[CV]  criterion=entropy, max_depth=15, max_features=log2, n_estimators=300, total= 2.0min\n",
      "[CV] criterion=entropy, max_depth=20, max_features=auto, n_estimators=100 \n",
      "[CV]  criterion=entropy, max_depth=15, max_features=log2, n_estimators=300, total= 2.0min\n",
      "[CV] criterion=entropy, max_depth=20, max_features=auto, n_estimators=100 \n",
      "[CV]  criterion=entropy, max_depth=15, max_features=log2, n_estimators=300, total= 2.0min\n",
      "[CV] criterion=entropy, max_depth=20, max_features=auto, n_estimators=100 \n",
      "[CV]  criterion=entropy, max_depth=20, max_features=auto, n_estimators=100, total=  48.5s\n",
      "[CV] criterion=entropy, max_depth=20, max_features=auto, n_estimators=300 \n",
      "[CV]  criterion=entropy, max_depth=20, max_features=auto, n_estimators=100, total=  48.1s\n",
      "[CV] criterion=entropy, max_depth=20, max_features=auto, n_estimators=300 \n",
      "[CV]  criterion=entropy, max_depth=20, max_features=auto, n_estimators=100, total=  48.6s\n",
      "[CV] criterion=entropy, max_depth=20, max_features=auto, n_estimators=300 \n",
      "[CV]  criterion=entropy, max_depth=20, max_features=auto, n_estimators=100, total=  49.2s\n"
     ]
    },
    {
     "name": "stdout",
     "output_type": "stream",
     "text": [
      "[CV] criterion=entropy, max_depth=20, max_features=auto, n_estimators=300 \n",
      "[CV]  criterion=entropy, max_depth=20, max_features=auto, n_estimators=300, total= 2.5min\n",
      "[CV] criterion=entropy, max_depth=20, max_features=log2, n_estimators=100 \n",
      "[CV]  criterion=entropy, max_depth=20, max_features=auto, n_estimators=300, total= 2.5min\n",
      "[CV] criterion=entropy, max_depth=20, max_features=log2, n_estimators=100 \n",
      "[CV]  criterion=entropy, max_depth=20, max_features=auto, n_estimators=300, total= 2.5min\n",
      "[CV] criterion=entropy, max_depth=20, max_features=log2, n_estimators=100 \n",
      "[CV]  criterion=entropy, max_depth=20, max_features=auto, n_estimators=300, total= 2.5min\n",
      "[CV] criterion=entropy, max_depth=20, max_features=log2, n_estimators=100 \n",
      "[CV]  criterion=entropy, max_depth=20, max_features=log2, n_estimators=100, total=  42.5s\n",
      "[CV] criterion=entropy, max_depth=20, max_features=log2, n_estimators=300 \n",
      "[CV]  criterion=entropy, max_depth=20, max_features=log2, n_estimators=100, total=  43.0s\n",
      "[CV] criterion=entropy, max_depth=20, max_features=log2, n_estimators=300 \n",
      "[CV]  criterion=entropy, max_depth=20, max_features=log2, n_estimators=100, total=  42.7s\n",
      "[CV] criterion=entropy, max_depth=20, max_features=log2, n_estimators=300 \n",
      "[CV]  criterion=entropy, max_depth=20, max_features=log2, n_estimators=100, total=  42.3s\n",
      "[CV] criterion=entropy, max_depth=20, max_features=log2, n_estimators=300 \n",
      "[CV]  criterion=entropy, max_depth=20, max_features=log2, n_estimators=300, total= 2.2min\n",
      "[CV]  criterion=entropy, max_depth=20, max_features=log2, n_estimators=300, total= 2.2min\n",
      "[CV]  criterion=entropy, max_depth=20, max_features=log2, n_estimators=300, total= 2.2min\n",
      "[CV]  criterion=entropy, max_depth=20, max_features=log2, n_estimators=300, total= 2.2min\n"
     ]
    },
    {
     "name": "stderr",
     "output_type": "stream",
     "text": [
      "[Parallel(n_jobs=-1)]: Done  96 out of  96 | elapsed: 32.7min finished\n"
     ]
    },
    {
     "data": {
      "text/plain": [
       "GridSearchCV(cv=4, error_score='raise',\n",
       "       estimator=RandomForestClassifier(bootstrap=True, class_weight=None, criterion='gini',\n",
       "            max_depth=None, max_features='auto', max_leaf_nodes=None,\n",
       "            min_impurity_decrease=0.0, min_impurity_split=None,\n",
       "            min_samples_leaf=1, min_samples_split=2,\n",
       "            min_weight_fraction_leaf=0.0, n_estimators=10, n_jobs=1,\n",
       "            oob_score=False, random_state=99, verbose=0, warm_start=False),\n",
       "       fit_params=None, iid=True, n_jobs=-1,\n",
       "       param_grid={'n_estimators': [100, 300], 'max_features': ['auto', 'log2'], 'max_depth': [10, 15, 20], 'criterion': ['gini', 'entropy']},\n",
       "       pre_dispatch='2*n_jobs', refit=True, return_train_score='warn',\n",
       "       scoring=None, verbose=2)"
      ]
     },
     "execution_count": 23,
     "metadata": {},
     "output_type": "execute_result"
    }
   ],
   "source": [
    "rf = GridSearchCV(estimator=rfc, param_grid=param_grid, cv=4, verbose=2, n_jobs=-1)\n",
    "rf.fit(X_train_scaled_under, y_train_under)"
   ]
  },
  {
   "cell_type": "code",
   "execution_count": 25,
   "metadata": {
    "ExecuteTime": {
     "end_time": "2018-08-07T21:39:43.427864Z",
     "start_time": "2018-08-07T21:39:43.413037Z"
    }
   },
   "outputs": [
    {
     "data": {
      "text/plain": [
       "{'criterion': 'gini',\n",
       " 'max_depth': 15,\n",
       " 'max_features': 'auto',\n",
       " 'n_estimators': 300}"
      ]
     },
     "execution_count": 25,
     "metadata": {},
     "output_type": "execute_result"
    }
   ],
   "source": [
    "rf.best_params_"
   ]
  },
  {
   "cell_type": "code",
   "execution_count": 26,
   "metadata": {
    "ExecuteTime": {
     "end_time": "2018-08-07T21:42:02.146986Z",
     "start_time": "2018-08-07T21:42:02.142535Z"
    }
   },
   "outputs": [],
   "source": [
    "rf_best = RandomForestClassifier(max_depth=15, max_features='auto', n_estimators=300, random_state=99)"
   ]
  },
  {
   "cell_type": "code",
   "execution_count": 28,
   "metadata": {
    "ExecuteTime": {
     "end_time": "2018-08-07T21:44:02.374395Z",
     "start_time": "2018-08-07T21:42:47.590636Z"
    }
   },
   "outputs": [
    {
     "data": {
      "text/plain": [
       "RandomForestClassifier(bootstrap=True, class_weight=None, criterion='gini',\n",
       "            max_depth=15, max_features='auto', max_leaf_nodes=None,\n",
       "            min_impurity_decrease=0.0, min_impurity_split=None,\n",
       "            min_samples_leaf=1, min_samples_split=2,\n",
       "            min_weight_fraction_leaf=0.0, n_estimators=300, n_jobs=1,\n",
       "            oob_score=False, random_state=99, verbose=0, warm_start=False)"
      ]
     },
     "execution_count": 28,
     "metadata": {},
     "output_type": "execute_result"
    }
   ],
   "source": [
    "rf_best.fit(X_train_scaled_under, y_train_under)"
   ]
  },
  {
   "cell_type": "code",
   "execution_count": 29,
   "metadata": {
    "ExecuteTime": {
     "end_time": "2018-08-07T21:44:25.299225Z",
     "start_time": "2018-08-07T21:44:18.968222Z"
    }
   },
   "outputs": [],
   "source": [
    "y_predict=rf.predict(X_test_scaled)"
   ]
  },
  {
   "cell_type": "code",
   "execution_count": 30,
   "metadata": {
    "ExecuteTime": {
     "end_time": "2018-08-07T21:44:53.030716Z",
     "start_time": "2018-08-07T21:44:53.001205Z"
    }
   },
   "outputs": [
    {
     "data": {
      "text/plain": [
       "0.6529389527224405"
      ]
     },
     "execution_count": 30,
     "metadata": {},
     "output_type": "execute_result"
    }
   ],
   "source": [
    "accuracy_score(y_test, y_predict)"
   ]
  },
  {
   "cell_type": "code",
   "execution_count": null,
   "metadata": {},
   "outputs": [],
   "source": [
    "model_params_filename= '/Users/xzhou/github/project_files/lending_club/loan_params.pkl'\n",
    "\n",
    "try: \n",
    "    with open(model_params_filename, 'rb') as pklfile:\n",
    "        model_params=pickle.load(pklfile)\n",
    "except:\n",
    "    with open(model_params_filename, 'wb') as pklfile:\n",
    "        pickle.dump(rf.best_params, pklfile)"
   ]
  },
  {
   "cell_type": "code",
   "execution_count": null,
   "metadata": {},
   "outputs": [],
   "source": []
  },
  {
   "cell_type": "code",
   "execution_count": null,
   "metadata": {},
   "outputs": [],
   "source": []
  },
  {
   "cell_type": "code",
   "execution_count": 19,
   "metadata": {
    "ExecuteTime": {
     "end_time": "2018-08-08T01:02:24.626443Z",
     "start_time": "2018-08-08T01:02:24.621586Z"
    }
   },
   "outputs": [],
   "source": [
    "param_grid = {\n",
    "    'n_estimators': [300, 500],\n",
    "    'max_features': ['auto', 'log2'], # auto == sqrt\n",
    "    'max_depth': [10, 15, 20],\n",
    "    'criterion': ['gini', 'entropy']\n",
    "}"
   ]
  },
  {
   "cell_type": "code",
   "execution_count": 20,
   "metadata": {
    "ExecuteTime": {
     "end_time": "2018-08-08T01:02:27.233271Z",
     "start_time": "2018-08-08T01:02:27.229635Z"
    }
   },
   "outputs": [],
   "source": [
    "rfc = RandomForestClassifier(random_state=99)"
   ]
  },
  {
   "cell_type": "code",
   "execution_count": 21,
   "metadata": {
    "ExecuteTime": {
     "end_time": "2018-08-08T02:11:58.859432Z",
     "start_time": "2018-08-08T01:02:29.631302Z"
    }
   },
   "outputs": [
    {
     "name": "stdout",
     "output_type": "stream",
     "text": [
      "Fitting 4 folds for each of 24 candidates, totalling 96 fits\n",
      "[CV] criterion=gini, max_depth=10, max_features=auto, n_estimators=300 \n",
      "[CV] criterion=gini, max_depth=10, max_features=auto, n_estimators=300 \n",
      "[CV] criterion=gini, max_depth=10, max_features=auto, n_estimators=300 \n",
      "[CV] criterion=gini, max_depth=10, max_features=auto, n_estimators=300 \n",
      "[CV]  criterion=gini, max_depth=10, max_features=auto, n_estimators=300, total= 1.6min\n",
      "[CV]  criterion=gini, max_depth=10, max_features=auto, n_estimators=300, total= 1.6min\n",
      "[CV] criterion=gini, max_depth=10, max_features=auto, n_estimators=500 \n",
      "[CV] criterion=gini, max_depth=10, max_features=auto, n_estimators=500 \n",
      "[CV]  criterion=gini, max_depth=10, max_features=auto, n_estimators=300, total= 1.6min\n",
      "[CV] criterion=gini, max_depth=10, max_features=auto, n_estimators=500 \n",
      "[CV]  criterion=gini, max_depth=10, max_features=auto, n_estimators=300, total= 1.6min\n",
      "[CV] criterion=gini, max_depth=10, max_features=auto, n_estimators=500 \n",
      "[CV]  criterion=gini, max_depth=10, max_features=auto, n_estimators=500, total= 2.7min\n",
      "[CV] criterion=gini, max_depth=10, max_features=log2, n_estimators=300 \n",
      "[CV]  criterion=gini, max_depth=10, max_features=auto, n_estimators=500, total= 2.7min\n",
      "[CV] criterion=gini, max_depth=10, max_features=log2, n_estimators=300 \n",
      "[CV]  criterion=gini, max_depth=10, max_features=auto, n_estimators=500, total= 2.7min\n",
      "[CV] criterion=gini, max_depth=10, max_features=log2, n_estimators=300 \n",
      "[CV]  criterion=gini, max_depth=10, max_features=auto, n_estimators=500, total= 2.7min\n",
      "[CV] criterion=gini, max_depth=10, max_features=log2, n_estimators=300 \n",
      "[CV]  criterion=gini, max_depth=10, max_features=log2, n_estimators=300, total= 1.1min\n",
      "[CV] criterion=gini, max_depth=10, max_features=log2, n_estimators=500 \n",
      "[CV]  criterion=gini, max_depth=10, max_features=log2, n_estimators=300, total= 1.1min\n",
      "[CV]  criterion=gini, max_depth=10, max_features=log2, n_estimators=300, total= 1.1min\n",
      "[CV] criterion=gini, max_depth=10, max_features=log2, n_estimators=500 \n",
      "[CV] criterion=gini, max_depth=10, max_features=log2, n_estimators=500 \n",
      "[CV]  criterion=gini, max_depth=10, max_features=log2, n_estimators=300, total= 1.1min\n",
      "[CV] criterion=gini, max_depth=10, max_features=log2, n_estimators=500 \n",
      "[CV]  criterion=gini, max_depth=10, max_features=log2, n_estimators=500, total= 2.1min\n",
      "[CV] criterion=gini, max_depth=15, max_features=auto, n_estimators=300 \n",
      "[CV]  criterion=gini, max_depth=10, max_features=log2, n_estimators=500, total= 2.1min\n",
      "[CV] criterion=gini, max_depth=15, max_features=auto, n_estimators=300 \n",
      "[CV]  criterion=gini, max_depth=10, max_features=log2, n_estimators=500, total= 2.1min\n",
      "[CV] criterion=gini, max_depth=15, max_features=auto, n_estimators=300 \n",
      "[CV]  criterion=gini, max_depth=10, max_features=log2, n_estimators=500, total= 2.1min\n",
      "[CV] criterion=gini, max_depth=15, max_features=auto, n_estimators=300 \n",
      "[CV]  criterion=gini, max_depth=15, max_features=auto, n_estimators=300, total= 2.4min\n",
      "[CV]  criterion=gini, max_depth=15, max_features=auto, n_estimators=300, total= 2.4min\n",
      "[CV] criterion=gini, max_depth=15, max_features=auto, n_estimators=500 \n",
      "[CV]  criterion=gini, max_depth=15, max_features=auto, n_estimators=300, total= 2.4min\n",
      "[CV] criterion=gini, max_depth=15, max_features=auto, n_estimators=500 \n",
      "[CV] criterion=gini, max_depth=15, max_features=auto, n_estimators=500 \n",
      "[CV]  criterion=gini, max_depth=15, max_features=auto, n_estimators=300, total= 2.4min\n",
      "[CV] criterion=gini, max_depth=15, max_features=auto, n_estimators=500 \n",
      "[CV]  criterion=gini, max_depth=15, max_features=auto, n_estimators=500, total= 4.3min\n",
      "[CV] criterion=gini, max_depth=15, max_features=log2, n_estimators=300 \n",
      "[CV]  criterion=gini, max_depth=15, max_features=auto, n_estimators=500, total= 4.3min\n",
      "[CV] criterion=gini, max_depth=15, max_features=log2, n_estimators=300 \n",
      "[CV]  criterion=gini, max_depth=15, max_features=auto, n_estimators=500, total= 4.3min\n",
      "[CV] criterion=gini, max_depth=15, max_features=log2, n_estimators=300 \n",
      "[CV]  criterion=gini, max_depth=15, max_features=auto, n_estimators=500, total= 4.3min\n",
      "[CV] criterion=gini, max_depth=15, max_features=log2, n_estimators=300 \n",
      "[CV]  criterion=gini, max_depth=15, max_features=log2, n_estimators=300, total= 1.7min\n",
      "[CV] criterion=gini, max_depth=15, max_features=log2, n_estimators=500 \n",
      "[CV]  criterion=gini, max_depth=15, max_features=log2, n_estimators=300, total= 1.7min\n",
      "[CV] criterion=gini, max_depth=15, max_features=log2, n_estimators=500 \n",
      "[CV]  criterion=gini, max_depth=15, max_features=log2, n_estimators=300, total= 1.8min\n",
      "[CV] criterion=gini, max_depth=15, max_features=log2, n_estimators=500 \n",
      "[CV]  criterion=gini, max_depth=15, max_features=log2, n_estimators=300, total= 1.7min\n",
      "[CV] criterion=gini, max_depth=15, max_features=log2, n_estimators=500 \n",
      "[CV]  criterion=gini, max_depth=15, max_features=log2, n_estimators=500, total= 2.7min\n",
      "[CV] criterion=gini, max_depth=20, max_features=auto, n_estimators=300 \n",
      "[CV]  criterion=gini, max_depth=15, max_features=log2, n_estimators=500, total= 2.7min\n",
      "[CV] criterion=gini, max_depth=20, max_features=auto, n_estimators=300 \n",
      "[CV]  criterion=gini, max_depth=15, max_features=log2, n_estimators=500, total= 2.7min\n",
      "[CV] criterion=gini, max_depth=20, max_features=auto, n_estimators=300 \n",
      "[CV]  criterion=gini, max_depth=15, max_features=log2, n_estimators=500, total= 2.7min\n",
      "[CV] criterion=gini, max_depth=20, max_features=auto, n_estimators=300 \n",
      "[CV]  criterion=gini, max_depth=20, max_features=auto, n_estimators=300, total= 2.6min\n",
      "[CV] criterion=gini, max_depth=20, max_features=auto, n_estimators=500 \n",
      "[CV]  criterion=gini, max_depth=20, max_features=auto, n_estimators=300, total= 2.6min\n"
     ]
    },
    {
     "name": "stderr",
     "output_type": "stream",
     "text": [
      "[Parallel(n_jobs=-1)]: Done  33 tasks      | elapsed: 22.7min\n"
     ]
    },
    {
     "name": "stdout",
     "output_type": "stream",
     "text": [
      "[CV] criterion=gini, max_depth=20, max_features=auto, n_estimators=500 \n",
      "[CV]  criterion=gini, max_depth=20, max_features=auto, n_estimators=300, total= 2.6min\n",
      "[CV] criterion=gini, max_depth=20, max_features=auto, n_estimators=500 \n",
      "[CV]  criterion=gini, max_depth=20, max_features=auto, n_estimators=300, total= 2.6min\n",
      "[CV] criterion=gini, max_depth=20, max_features=auto, n_estimators=500 \n",
      "[CV]  criterion=gini, max_depth=20, max_features=auto, n_estimators=500, total= 4.6min\n",
      "[CV]  criterion=gini, max_depth=20, max_features=auto, n_estimators=500, total= 4.6min\n",
      "[CV] criterion=gini, max_depth=20, max_features=log2, n_estimators=300 \n",
      "[CV]  criterion=gini, max_depth=20, max_features=auto, n_estimators=500, total= 4.6min\n",
      "[CV] criterion=gini, max_depth=20, max_features=log2, n_estimators=300 \n",
      "[CV] criterion=gini, max_depth=20, max_features=log2, n_estimators=300 \n",
      "[CV]  criterion=gini, max_depth=20, max_features=auto, n_estimators=500, total= 4.5min\n",
      "[CV] criterion=gini, max_depth=20, max_features=log2, n_estimators=300 \n",
      "[CV]  criterion=gini, max_depth=20, max_features=log2, n_estimators=300, total= 1.8min\n",
      "[CV] criterion=gini, max_depth=20, max_features=log2, n_estimators=500 \n",
      "[CV]  criterion=gini, max_depth=20, max_features=log2, n_estimators=300, total= 1.8min\n",
      "[CV]  criterion=gini, max_depth=20, max_features=log2, n_estimators=300, total= 1.8min\n",
      "[CV] criterion=gini, max_depth=20, max_features=log2, n_estimators=500 \n",
      "[CV]  criterion=gini, max_depth=20, max_features=log2, n_estimators=300, total= 1.8min\n",
      "[CV] criterion=gini, max_depth=20, max_features=log2, n_estimators=500 \n",
      "[CV] criterion=gini, max_depth=20, max_features=log2, n_estimators=500 \n",
      "[CV]  criterion=gini, max_depth=20, max_features=log2, n_estimators=500, total= 3.1min\n",
      "[CV]  criterion=gini, max_depth=20, max_features=log2, n_estimators=500, total= 3.1min\n",
      "[CV] criterion=entropy, max_depth=10, max_features=auto, n_estimators=300 \n",
      "[CV] criterion=entropy, max_depth=10, max_features=auto, n_estimators=300 \n",
      "[CV]  criterion=gini, max_depth=20, max_features=log2, n_estimators=500, total= 3.1min\n",
      "[CV]  criterion=gini, max_depth=20, max_features=log2, n_estimators=500, total= 3.1min\n",
      "[CV] criterion=entropy, max_depth=10, max_features=auto, n_estimators=300 \n",
      "[CV] criterion=entropy, max_depth=10, max_features=auto, n_estimators=300 \n",
      "[CV]  criterion=entropy, max_depth=10, max_features=auto, n_estimators=300, total= 1.9min\n",
      "[CV] criterion=entropy, max_depth=10, max_features=auto, n_estimators=500 \n",
      "[CV]  criterion=entropy, max_depth=10, max_features=auto, n_estimators=300, total= 1.9min\n",
      "[CV] criterion=entropy, max_depth=10, max_features=auto, n_estimators=500 \n",
      "[CV]  criterion=entropy, max_depth=10, max_features=auto, n_estimators=300, total= 1.9min\n",
      "[CV] criterion=entropy, max_depth=10, max_features=auto, n_estimators=500 \n",
      "[CV]  criterion=entropy, max_depth=10, max_features=auto, n_estimators=300, total= 1.9min\n",
      "[CV] criterion=entropy, max_depth=10, max_features=auto, n_estimators=500 \n",
      "[CV]  criterion=entropy, max_depth=10, max_features=auto, n_estimators=500, total= 3.2min\n",
      "[CV] criterion=entropy, max_depth=10, max_features=log2, n_estimators=300 \n",
      "[CV]  criterion=entropy, max_depth=10, max_features=auto, n_estimators=500, total= 3.2min\n",
      "[CV] criterion=entropy, max_depth=10, max_features=log2, n_estimators=300 \n",
      "[CV]  criterion=entropy, max_depth=10, max_features=auto, n_estimators=500, total= 3.2min\n",
      "[CV] criterion=entropy, max_depth=10, max_features=log2, n_estimators=300 \n",
      "[CV]  criterion=entropy, max_depth=10, max_features=auto, n_estimators=500, total= 3.2min\n",
      "[CV] criterion=entropy, max_depth=10, max_features=log2, n_estimators=300 \n",
      "[CV]  criterion=entropy, max_depth=10, max_features=log2, n_estimators=300, total= 1.2min\n",
      "[CV] criterion=entropy, max_depth=10, max_features=log2, n_estimators=500 \n",
      "[CV]  criterion=entropy, max_depth=10, max_features=log2, n_estimators=300, total= 1.2min\n",
      "[CV] criterion=entropy, max_depth=10, max_features=log2, n_estimators=500 \n",
      "[CV]  criterion=entropy, max_depth=10, max_features=log2, n_estimators=300, total= 1.2min\n",
      "[CV] criterion=entropy, max_depth=10, max_features=log2, n_estimators=500 \n",
      "[CV]  criterion=entropy, max_depth=10, max_features=log2, n_estimators=300, total= 1.2min\n",
      "[CV] criterion=entropy, max_depth=10, max_features=log2, n_estimators=500 \n",
      "[CV]  criterion=entropy, max_depth=10, max_features=log2, n_estimators=500, total= 2.2min\n",
      "[CV] criterion=entropy, max_depth=15, max_features=auto, n_estimators=300 \n",
      "[CV]  criterion=entropy, max_depth=10, max_features=log2, n_estimators=500, total= 2.2min\n",
      "[CV]  criterion=entropy, max_depth=10, max_features=log2, n_estimators=500, total= 2.2min\n",
      "[CV] criterion=entropy, max_depth=15, max_features=auto, n_estimators=300 \n",
      "[CV] criterion=entropy, max_depth=15, max_features=auto, n_estimators=300 \n",
      "[CV]  criterion=entropy, max_depth=10, max_features=log2, n_estimators=500, total= 2.2min\n",
      "[CV] criterion=entropy, max_depth=15, max_features=auto, n_estimators=300 \n",
      "[CV]  criterion=entropy, max_depth=15, max_features=auto, n_estimators=300, total= 2.7min\n",
      "[CV] criterion=entropy, max_depth=15, max_features=auto, n_estimators=500 \n",
      "[CV]  criterion=entropy, max_depth=15, max_features=auto, n_estimators=300, total= 2.7min\n",
      "[CV] criterion=entropy, max_depth=15, max_features=auto, n_estimators=500 \n",
      "[CV]  criterion=entropy, max_depth=15, max_features=auto, n_estimators=300, total= 2.7min\n",
      "[CV] criterion=entropy, max_depth=15, max_features=auto, n_estimators=500 \n",
      "[CV]  criterion=entropy, max_depth=15, max_features=auto, n_estimators=300, total= 2.7min\n",
      "[CV] criterion=entropy, max_depth=15, max_features=auto, n_estimators=500 \n",
      "[CV]  criterion=entropy, max_depth=15, max_features=auto, n_estimators=500, total= 4.2min\n",
      "[CV] criterion=entropy, max_depth=15, max_features=log2, n_estimators=300 \n",
      "[CV]  criterion=entropy, max_depth=15, max_features=auto, n_estimators=500, total= 4.2min\n",
      "[CV] criterion=entropy, max_depth=15, max_features=log2, n_estimators=300 \n",
      "[CV]  criterion=entropy, max_depth=15, max_features=auto, n_estimators=500, total= 4.2min\n",
      "[CV] criterion=entropy, max_depth=15, max_features=log2, n_estimators=300 \n",
      "[CV]  criterion=entropy, max_depth=15, max_features=auto, n_estimators=500, total= 4.2min\n",
      "[CV] criterion=entropy, max_depth=15, max_features=log2, n_estimators=300 \n",
      "[CV]  criterion=entropy, max_depth=15, max_features=log2, n_estimators=300, total= 1.5min\n",
      "[CV] criterion=entropy, max_depth=15, max_features=log2, n_estimators=500 \n",
      "[CV]  criterion=entropy, max_depth=15, max_features=log2, n_estimators=300, total= 1.5min\n",
      "[CV] criterion=entropy, max_depth=15, max_features=log2, n_estimators=500 \n",
      "[CV]  criterion=entropy, max_depth=15, max_features=log2, n_estimators=300, total= 1.5min\n",
      "[CV] criterion=entropy, max_depth=15, max_features=log2, n_estimators=500 \n",
      "[CV]  criterion=entropy, max_depth=15, max_features=log2, n_estimators=300, total= 1.5min\n",
      "[CV] criterion=entropy, max_depth=15, max_features=log2, n_estimators=500 \n",
      "[CV]  criterion=entropy, max_depth=15, max_features=log2, n_estimators=500, total= 2.8min\n",
      "[CV] criterion=entropy, max_depth=20, max_features=auto, n_estimators=300 \n",
      "[CV]  criterion=entropy, max_depth=15, max_features=log2, n_estimators=500, total= 2.8min\n",
      "[CV] criterion=entropy, max_depth=20, max_features=auto, n_estimators=300 \n",
      "[CV]  criterion=entropy, max_depth=15, max_features=log2, n_estimators=500, total= 2.8min\n",
      "[CV] criterion=entropy, max_depth=20, max_features=auto, n_estimators=300 \n",
      "[CV]  criterion=entropy, max_depth=15, max_features=log2, n_estimators=500, total= 2.8min\n",
      "[CV] criterion=entropy, max_depth=20, max_features=auto, n_estimators=300 \n",
      "[CV]  criterion=entropy, max_depth=20, max_features=auto, n_estimators=300, total= 2.9min\n",
      "[CV] criterion=entropy, max_depth=20, max_features=auto, n_estimators=500 \n",
      "[CV]  criterion=entropy, max_depth=20, max_features=auto, n_estimators=300, total= 2.9min\n",
      "[CV] criterion=entropy, max_depth=20, max_features=auto, n_estimators=500 \n",
      "[CV]  criterion=entropy, max_depth=20, max_features=auto, n_estimators=300, total= 2.9min\n",
      "[CV] criterion=entropy, max_depth=20, max_features=auto, n_estimators=500 \n",
      "[CV]  criterion=entropy, max_depth=20, max_features=auto, n_estimators=300, total= 3.0min\n",
      "[CV] criterion=entropy, max_depth=20, max_features=auto, n_estimators=500 \n"
     ]
    },
    {
     "name": "stdout",
     "output_type": "stream",
     "text": [
      "[CV]  criterion=entropy, max_depth=20, max_features=auto, n_estimators=500, total= 4.9min\n",
      "[CV] criterion=entropy, max_depth=20, max_features=log2, n_estimators=300 \n",
      "[CV]  criterion=entropy, max_depth=20, max_features=auto, n_estimators=500, total= 4.9min\n",
      "[CV] criterion=entropy, max_depth=20, max_features=log2, n_estimators=300 \n",
      "[CV]  criterion=entropy, max_depth=20, max_features=auto, n_estimators=500, total= 4.9min\n",
      "[CV] criterion=entropy, max_depth=20, max_features=log2, n_estimators=300 \n",
      "[CV]  criterion=entropy, max_depth=20, max_features=auto, n_estimators=500, total= 4.9min\n",
      "[CV] criterion=entropy, max_depth=20, max_features=log2, n_estimators=300 \n",
      "[CV]  criterion=entropy, max_depth=20, max_features=log2, n_estimators=300, total= 2.0min\n",
      "[CV] criterion=entropy, max_depth=20, max_features=log2, n_estimators=500 \n",
      "[CV]  criterion=entropy, max_depth=20, max_features=log2, n_estimators=300, total= 2.0min\n",
      "[CV] criterion=entropy, max_depth=20, max_features=log2, n_estimators=500 \n",
      "[CV]  criterion=entropy, max_depth=20, max_features=log2, n_estimators=300, total= 2.0min\n",
      "[CV] criterion=entropy, max_depth=20, max_features=log2, n_estimators=500 \n",
      "[CV]  criterion=entropy, max_depth=20, max_features=log2, n_estimators=300, total= 2.0min\n",
      "[CV] criterion=entropy, max_depth=20, max_features=log2, n_estimators=500 \n",
      "[CV]  criterion=entropy, max_depth=20, max_features=log2, n_estimators=500, total= 3.1min\n",
      "[CV]  criterion=entropy, max_depth=20, max_features=log2, n_estimators=500, total= 3.1min\n",
      "[CV]  criterion=entropy, max_depth=20, max_features=log2, n_estimators=500, total= 3.1min\n",
      "[CV]  criterion=entropy, max_depth=20, max_features=log2, n_estimators=500, total= 3.1min\n"
     ]
    },
    {
     "name": "stderr",
     "output_type": "stream",
     "text": [
      "[Parallel(n_jobs=-1)]: Done  96 out of  96 | elapsed: 67.7min finished\n"
     ]
    },
    {
     "data": {
      "text/plain": [
       "GridSearchCV(cv=4, error_score='raise',\n",
       "       estimator=RandomForestClassifier(bootstrap=True, class_weight=None, criterion='gini',\n",
       "            max_depth=None, max_features='auto', max_leaf_nodes=None,\n",
       "            min_impurity_decrease=0.0, min_impurity_split=None,\n",
       "            min_samples_leaf=1, min_samples_split=2,\n",
       "            min_weight_fraction_leaf=0.0, n_estimators=10, n_jobs=1,\n",
       "            oob_score=False, random_state=99, verbose=0, warm_start=False),\n",
       "       fit_params=None, iid=True, n_jobs=-1,\n",
       "       param_grid={'n_estimators': [300, 500], 'max_features': ['auto', 'log2'], 'max_depth': [10, 15, 20], 'criterion': ['gini', 'entropy']},\n",
       "       pre_dispatch='2*n_jobs', refit=True, return_train_score='warn',\n",
       "       scoring=None, verbose=2)"
      ]
     },
     "execution_count": 21,
     "metadata": {},
     "output_type": "execute_result"
    }
   ],
   "source": [
    "rf2 = GridSearchCV(estimator=rfc, param_grid=param_grid, cv=4, verbose=2, n_jobs=-1)\n",
    "rf2.fit(X_train_scaled_under, y_train_under)"
   ]
  },
  {
   "cell_type": "code",
   "execution_count": 22,
   "metadata": {
    "ExecuteTime": {
     "end_time": "2018-08-08T02:17:19.767564Z",
     "start_time": "2018-08-08T02:17:19.760510Z"
    }
   },
   "outputs": [
    {
     "data": {
      "text/plain": [
       "0.6708062126483662"
      ]
     },
     "execution_count": 22,
     "metadata": {},
     "output_type": "execute_result"
    }
   ],
   "source": [
    "rf2.best_score_"
   ]
  },
  {
   "cell_type": "code",
   "execution_count": 48,
   "metadata": {
    "ExecuteTime": {
     "end_time": "2018-08-07T23:24:49.886721Z",
     "start_time": "2018-08-07T23:24:49.878139Z"
    }
   },
   "outputs": [
    {
     "data": {
      "text/plain": [
       "{'criterion': 'gini',\n",
       " 'max_depth': 15,\n",
       " 'max_features': 'auto',\n",
       " 'n_estimators': 500}"
      ]
     },
     "execution_count": 48,
     "metadata": {},
     "output_type": "execute_result"
    }
   ],
   "source": [
    "rf2.best_params_"
   ]
  },
  {
   "cell_type": "code",
   "execution_count": 49,
   "metadata": {
    "ExecuteTime": {
     "end_time": "2018-08-07T23:26:33.047778Z",
     "start_time": "2018-08-07T23:26:31.425734Z"
    }
   },
   "outputs": [],
   "source": [
    "model2_filename= '/Users/xzhou/github/project_files/lending_club/loan_model2.pkl'\n",
    "\n",
    "try: \n",
    "    with open(model2_filename, 'rb') as pklfile:\n",
    "        model=pickle.load(pklfile)\n",
    "except:\n",
    "    with open(model2_filename, 'wb') as pklfile:\n",
    "        pickle.dump(rf2, pklfile)"
   ]
  },
  {
   "cell_type": "code",
   "execution_count": 50,
   "metadata": {
    "ExecuteTime": {
     "end_time": "2018-08-07T23:26:47.664692Z",
     "start_time": "2018-08-07T23:26:47.658137Z"
    }
   },
   "outputs": [
    {
     "data": {
      "text/plain": [
       "GridSearchCV(cv=4, error_score='raise',\n",
       "       estimator=RandomForestClassifier(bootstrap=True, class_weight=None, criterion='gini',\n",
       "            max_depth=None, max_features='auto', max_leaf_nodes=None,\n",
       "            min_impurity_decrease=0.0, min_impurity_split=None,\n",
       "            min_samples_leaf=1, min_samples_split=2,\n",
       "            min_weight_fraction_leaf=0.0, n_estimators=10, n_jobs=1,\n",
       "            oob_score=False, random_state=99, verbose=0, warm_start=False),\n",
       "       fit_params=None, iid=True, n_jobs=-1,\n",
       "       param_grid={'n_estimators': [300, 500], 'max_features': ['auto', 'log2'], 'max_depth': [10, 15, 20], 'criterion': ['gini', 'entropy']},\n",
       "       pre_dispatch='2*n_jobs', refit=True, return_train_score='warn',\n",
       "       scoring=None, verbose=2)"
      ]
     },
     "execution_count": 50,
     "metadata": {},
     "output_type": "execute_result"
    }
   ],
   "source": [
    "rf2"
   ]
  },
  {
   "cell_type": "code",
   "execution_count": 51,
   "metadata": {
    "ExecuteTime": {
     "end_time": "2018-08-07T23:28:32.357259Z",
     "start_time": "2018-08-07T23:28:31.154873Z"
    }
   },
   "outputs": [],
   "source": [
    "with open(model2_filename, 'rb') as pklfile:\n",
    "        model2=pickle.load(pklfile)"
   ]
  },
  {
   "cell_type": "code",
   "execution_count": 52,
   "metadata": {
    "ExecuteTime": {
     "end_time": "2018-08-07T23:28:47.149550Z",
     "start_time": "2018-08-07T23:28:47.142121Z"
    }
   },
   "outputs": [
    {
     "data": {
      "text/plain": [
       "GridSearchCV(cv=4, error_score='raise',\n",
       "       estimator=RandomForestClassifier(bootstrap=True, class_weight=None, criterion='gini',\n",
       "            max_depth=None, max_features='auto', max_leaf_nodes=None,\n",
       "            min_impurity_decrease=0.0, min_impurity_split=None,\n",
       "            min_samples_leaf=1, min_samples_split=2,\n",
       "            min_weight_fraction_leaf=0.0, n_estimators=10, n_jobs=1,\n",
       "            oob_score=False, random_state=99, verbose=0, warm_start=False),\n",
       "       fit_params=None, iid=True, n_jobs=-1,\n",
       "       param_grid={'n_estimators': [300, 500], 'max_features': ['auto', 'log2'], 'max_depth': [10, 15, 20], 'criterion': ['gini', 'entropy']},\n",
       "       pre_dispatch='2*n_jobs', refit=True, return_train_score='warn',\n",
       "       scoring=None, verbose=2)"
      ]
     },
     "execution_count": 52,
     "metadata": {},
     "output_type": "execute_result"
    }
   ],
   "source": [
    "model2"
   ]
  },
  {
   "cell_type": "code",
   "execution_count": null,
   "metadata": {},
   "outputs": [],
   "source": []
  }
 ],
 "metadata": {
  "kernelspec": {
   "display_name": "Python 3",
   "language": "python",
   "name": "python3"
  },
  "language_info": {
   "codemirror_mode": {
    "name": "ipython",
    "version": 3
   },
   "file_extension": ".py",
   "mimetype": "text/x-python",
   "name": "python",
   "nbconvert_exporter": "python",
   "pygments_lexer": "ipython3",
   "version": "3.6.6"
  },
  "varInspector": {
   "cols": {
    "lenName": 16,
    "lenType": 16,
    "lenVar": 40
   },
   "kernels_config": {
    "python": {
     "delete_cmd_postfix": "",
     "delete_cmd_prefix": "del ",
     "library": "var_list.py",
     "varRefreshCmd": "print(var_dic_list())"
    },
    "r": {
     "delete_cmd_postfix": ") ",
     "delete_cmd_prefix": "rm(",
     "library": "var_list.r",
     "varRefreshCmd": "cat(var_dic_list()) "
    }
   },
   "types_to_exclude": [
    "module",
    "function",
    "builtin_function_or_method",
    "instance",
    "_Feature"
   ],
   "window_display": false
  }
 },
 "nbformat": 4,
 "nbformat_minor": 2
}
