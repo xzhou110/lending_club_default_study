{
 "cells": [
  {
   "cell_type": "code",
   "execution_count": null,
   "metadata": {
    "ExecuteTime": {
     "end_time": "2018-08-07T20:53:45.526924Z",
     "start_time": "2018-08-07T20:53:43.661420Z"
    }
   },
   "outputs": [],
   "source": [
    "import pandas as pd\n",
    "import numpy as np\n",
    "import csv\n",
    "import sqlite3\n",
    "import re\n",
    "import pickle\n",
    "import itertools\n",
    "\n",
    "\n",
    "from sklearn.dummy import DummyClassifier\n",
    "\n",
    "from imblearn.under_sampling import RandomUnderSampler\n",
    "from sklearn.datasets import load_wine\n",
    "from sklearn.tree import DecisionTreeClassifier\n",
    "from sklearn.ensemble import RandomForestClassifier, BaggingClassifier\n",
    "from sklearn.model_selection import train_test_split, GridSearchCV\n",
    "\n",
    "from sklearn.preprocessing import StandardScaler\n",
    "from sklearn.linear_model import LogisticRegression, SGDClassifier\n",
    "from sklearn.svm import SVC\n",
    "from sklearn.metrics import roc_curve, auc, confusion_matrix, classification_report\n",
    "\n",
    "\n",
    "from sklearn.metrics import accuracy_score\n",
    "\n",
    "import matplotlib.pyplot as plt\n",
    "%matplotlib inline"
   ]
  },
  {
   "cell_type": "code",
   "execution_count": null,
   "metadata": {
    "ExecuteTime": {
     "end_time": "2018-08-07T20:53:45.533653Z",
     "start_time": "2018-08-07T20:53:45.529377Z"
    }
   },
   "outputs": [],
   "source": [
    "plt.style.use('seaborn')"
   ]
  },
  {
   "cell_type": "code",
   "execution_count": null,
   "metadata": {
    "ExecuteTime": {
     "end_time": "2018-08-07T20:53:45.907148Z",
     "start_time": "2018-08-07T20:53:45.537205Z"
    }
   },
   "outputs": [],
   "source": [
    "pkl_filename= '/Users/xzhou/github/project_files/lending_club/loan.pkl'\n",
    "\n",
    "with open(pkl_filename, 'rb') as pklfile:\n",
    "    df=pd.read_pickle(pkl_filename)"
   ]
  },
  {
   "cell_type": "code",
   "execution_count": null,
   "metadata": {
    "ExecuteTime": {
     "end_time": "2018-08-07T20:53:45.917968Z",
     "start_time": "2018-08-07T20:53:45.909685Z"
    }
   },
   "outputs": [],
   "source": [
    "df.shape"
   ]
  },
  {
   "cell_type": "code",
   "execution_count": null,
   "metadata": {
    "ExecuteTime": {
     "end_time": "2018-08-07T20:53:45.928937Z",
     "start_time": "2018-08-07T20:53:45.920921Z"
    }
   },
   "outputs": [],
   "source": [
    "df.columns"
   ]
  },
  {
   "cell_type": "code",
   "execution_count": null,
   "metadata": {
    "ExecuteTime": {
     "end_time": "2018-08-07T20:53:46.525966Z",
     "start_time": "2018-08-07T20:53:45.932952Z"
    }
   },
   "outputs": [],
   "source": [
    "# Noted loan_status is highly imbalanced. good vs. bad = 12 : 1\n",
    "\n",
    "df.groupby('loan_status').count()"
   ]
  },
  {
   "cell_type": "code",
   "execution_count": null,
   "metadata": {
    "ExecuteTime": {
     "end_time": "2018-08-07T20:53:46.573364Z",
     "start_time": "2018-08-07T20:53:46.528967Z"
    }
   },
   "outputs": [],
   "source": [
    "df.head()"
   ]
  },
  {
   "cell_type": "code",
   "execution_count": null,
   "metadata": {
    "ExecuteTime": {
     "end_time": "2018-08-07T20:53:46.670590Z",
     "start_time": "2018-08-07T20:53:46.580070Z"
    }
   },
   "outputs": [],
   "source": [
    "# Assign bad loan as value 1 and good loan as value 0\n",
    "\n",
    "df['loan_status'] = (df['loan_status']=='bad').astype(int)"
   ]
  },
  {
   "cell_type": "code",
   "execution_count": null,
   "metadata": {
    "ExecuteTime": {
     "end_time": "2018-08-07T20:53:46.729286Z",
     "start_time": "2018-08-07T20:53:46.674036Z"
    }
   },
   "outputs": [],
   "source": [
    "df=df.reset_index()"
   ]
  },
  {
   "cell_type": "code",
   "execution_count": null,
   "metadata": {
    "ExecuteTime": {
     "end_time": "2018-08-07T20:53:50.718940Z",
     "start_time": "2018-08-07T20:53:46.731600Z"
    }
   },
   "outputs": [],
   "source": [
    "df.describe(include = 'all')"
   ]
  },
  {
   "cell_type": "code",
   "execution_count": null,
   "metadata": {
    "ExecuteTime": {
     "end_time": "2018-08-07T20:53:50.885819Z",
     "start_time": "2018-08-07T20:53:50.721591Z"
    }
   },
   "outputs": [],
   "source": [
    "y=df['loan_status']\n",
    "X=df.drop('loan_status', axis=1)"
   ]
  },
  {
   "cell_type": "code",
   "execution_count": null,
   "metadata": {
    "ExecuteTime": {
     "end_time": "2018-08-07T20:53:51.427795Z",
     "start_time": "2018-08-07T20:53:50.888976Z"
    }
   },
   "outputs": [],
   "source": [
    "# Undersampling will be applied to X_train. Even a test_size of 0.1 will give me a test_size of 87K\n",
    "\n",
    "X_train, X_test, y_train, y_test=train_test_split(X, y, test_size=0.1, random_state=99)"
   ]
  },
  {
   "cell_type": "code",
   "execution_count": null,
   "metadata": {
    "ExecuteTime": {
     "end_time": "2018-08-07T20:53:53.262170Z",
     "start_time": "2018-08-07T20:53:51.429846Z"
    }
   },
   "outputs": [],
   "source": [
    "ssX=StandardScaler()\n",
    "X_train_scaled=ssX.fit_transform(X_train)\n",
    "X_test_scaled=ssX.transform(X_test)"
   ]
  },
  {
   "cell_type": "code",
   "execution_count": null,
   "metadata": {
    "ExecuteTime": {
     "end_time": "2018-08-07T20:53:54.277995Z",
     "start_time": "2018-08-07T20:53:53.266065Z"
    }
   },
   "outputs": [],
   "source": [
    "runs=RandomUnderSampler()\n",
    "X_train_scaled_under, y_train_under=runs.fit_sample(X_train_scaled, y_train)"
   ]
  },
  {
   "cell_type": "code",
   "execution_count": null,
   "metadata": {
    "ExecuteTime": {
     "end_time": "2018-08-07T20:53:54.285406Z",
     "start_time": "2018-08-07T20:53:54.280447Z"
    }
   },
   "outputs": [],
   "source": [
    "X_train_scaled_under.shape"
   ]
  },
  {
   "cell_type": "code",
   "execution_count": null,
   "metadata": {
    "ExecuteTime": {
     "end_time": "2018-08-07T20:53:54.294291Z",
     "start_time": "2018-08-07T20:53:54.288366Z"
    }
   },
   "outputs": [],
   "source": [
    "y_train_under.shape"
   ]
  },
  {
   "cell_type": "code",
   "execution_count": null,
   "metadata": {
    "ExecuteTime": {
     "end_time": "2018-08-07T20:53:54.301665Z",
     "start_time": "2018-08-07T20:53:54.296809Z"
    }
   },
   "outputs": [],
   "source": [
    "models = [RandomForestClassifier(n_estimators=100, n_jobs=-1, max_depth=10), DecisionTreeClassifier(max_depth=None), \n",
    "          BaggingClassifier(base_estimator=DecisionTreeClassifier(),n_estimators=100, n_jobs=-1),\n",
    "          SVC(probability=True), LogisticRegression(C=0.1), SGDClassifier(loss='log', random_state=42, alpha=0.01)]\n",
    "model_names = [\"Random Forest\", \"Decision Tree\",'Bagging Classifier','SVC','Logistic','SGD-Log']"
   ]
  },
  {
   "cell_type": "code",
   "execution_count": null,
   "metadata": {
    "ExecuteTime": {
     "end_time": "2018-08-07T20:53:54.307802Z",
     "start_time": "2018-08-07T20:53:54.304247Z"
    }
   },
   "outputs": [],
   "source": [
    "model_pkl_filename= '/Users/xzhou/github/project_files/lending_club/loan_model1.pkl'"
   ]
  },
  {
   "cell_type": "code",
   "execution_count": null,
   "metadata": {
    "ExecuteTime": {
     "end_time": "2018-08-07T20:53:54.324944Z",
     "start_time": "2018-08-07T20:53:54.311372Z"
    }
   },
   "outputs": [],
   "source": [
    "# Open the pickle file that stores details for model comparison\n",
    "# If not existed, create pickle file by runing through various models\n",
    "\n",
    "roc_plotting=[]\n",
    "\n",
    "try: \n",
    "    with open (model_pkl_filename, 'rb') as pklfile2:\n",
    "        roc_plotting = pickle.load(pklfile2)    \n",
    "\n",
    "except: \n",
    "    for clf, name in zip(models, model_names):\n",
    "        clf.fit(X_train_scaled_under, y_train_under)\n",
    "        y_pred = clf.predict_proba(X_test_scaled)\n",
    "        fpr, tpr, _ = roc_curve (y_test, y_pred[:, 1])\n",
    "        auc_score = auc(fpr, tpr)\n",
    "        roc_plotting.append((name, tpr, fpr, auc_score))\n",
    "        \n",
    "        # Store in pickle file if file is not existed\n",
    "        with open (model_pkl_filename, 'wb') as pklfile2:\n",
    "            pickle.dump(roc_plotting, pklfile2)"
   ]
  },
  {
   "cell_type": "code",
   "execution_count": null,
   "metadata": {
    "ExecuteTime": {
     "end_time": "2018-08-07T20:53:55.262836Z",
     "start_time": "2018-08-07T20:53:54.328229Z"
    }
   },
   "outputs": [],
   "source": [
    "# Plot ROC curve for model comparison\n",
    "# Noted Ramdom Forecast produces best result with an AUC of 0.77\n",
    "\n",
    "plt.figure(dpi=250)\n",
    "for name, tpr, fpr, auc_score in roc_plotting:\n",
    "    plt.plot(fpr, tpr, label=name+' (auc: %.2f)'%auc_score)\n",
    "plt.plot([0,1], [0,1], color='k', linestyle='--')\n",
    "plt.xlabel('False Positive Rate')\n",
    "plt.ylabel('True Positive Rate')\n",
    "plt.legend (loc='lower right')\n",
    "plt.title('ROC Curves')"
   ]
  },
  {
   "cell_type": "code",
   "execution_count": null,
   "metadata": {
    "ExecuteTime": {
     "end_time": "2018-08-07T20:53:55.283774Z",
     "start_time": "2018-08-07T20:53:55.271435Z"
    }
   },
   "outputs": [],
   "source": [
    "param_grid = {\n",
    "    'n_estimators': [100, 300],\n",
    "    'max_features': ['auto', 'log2'], # 'auto'=sqrt\n",
    "    'max_depth': [10, 15, 20],\n",
    "    'criterion': ['gini', 'entropy']\n",
    "}"
   ]
  },
  {
   "cell_type": "code",
   "execution_count": null,
   "metadata": {
    "ExecuteTime": {
     "end_time": "2018-08-07T20:53:55.297126Z",
     "start_time": "2018-08-07T20:53:55.289265Z"
    }
   },
   "outputs": [],
   "source": [
    "rfc = RandomForestClassifier(random_state=99)"
   ]
  },
  {
   "cell_type": "code",
   "execution_count": null,
   "metadata": {
    "ExecuteTime": {
     "start_time": "2018-08-07T20:53:43.748Z"
    }
   },
   "outputs": [],
   "source": [
    "rf = GridSearchCV(estimator=rfc, param_grid=param_grid, cv=4, verbose=2, n_jobs=-1)\n",
    "rf.fit(X_train_scaled_under, y_train_under)"
   ]
  },
  {
   "cell_type": "code",
   "execution_count": null,
   "metadata": {
    "ExecuteTime": {
     "start_time": "2018-08-07T20:53:43.751Z"
    }
   },
   "outputs": [],
   "source": [
    "plt.figure()"
   ]
  }
 ],
 "metadata": {
  "kernelspec": {
   "display_name": "Python 3",
   "language": "python",
   "name": "python3"
  },
  "language_info": {
   "codemirror_mode": {
    "name": "ipython",
    "version": 3
   },
   "file_extension": ".py",
   "mimetype": "text/x-python",
   "name": "python",
   "nbconvert_exporter": "python",
   "pygments_lexer": "ipython3",
   "version": "3.6.6"
  },
  "varInspector": {
   "cols": {
    "lenName": 16,
    "lenType": 16,
    "lenVar": 40
   },
   "kernels_config": {
    "python": {
     "delete_cmd_postfix": "",
     "delete_cmd_prefix": "del ",
     "library": "var_list.py",
     "varRefreshCmd": "print(var_dic_list())"
    },
    "r": {
     "delete_cmd_postfix": ") ",
     "delete_cmd_prefix": "rm(",
     "library": "var_list.r",
     "varRefreshCmd": "cat(var_dic_list()) "
    }
   },
   "types_to_exclude": [
    "module",
    "function",
    "builtin_function_or_method",
    "instance",
    "_Feature"
   ],
   "window_display": false
  }
 },
 "nbformat": 4,
 "nbformat_minor": 2
}
